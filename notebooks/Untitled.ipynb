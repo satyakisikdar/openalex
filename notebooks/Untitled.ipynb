{
 "cells": [
  {
   "cell_type": "code",
   "execution_count": 1,
   "id": "7d7a86a8-45eb-4143-b942-c365dd83431b",
   "metadata": {
    "execution": {
     "iopub.execute_input": "2022-02-25T00:49:38.936161Z",
     "iopub.status.busy": "2022-02-25T00:49:38.935677Z",
     "iopub.status.idle": "2022-02-25T00:49:39.115039Z",
     "shell.execute_reply": "2022-02-25T00:49:39.113984Z",
     "shell.execute_reply.started": "2022-02-25T00:49:38.936024Z"
    },
    "tags": []
   },
   "outputs": [],
   "source": [
    "%load_ext autoreload\n",
    "%autoreload 2"
   ]
  },
  {
   "cell_type": "markdown",
   "id": "b3dfce15-b274-4c3c-b8ff-609dd569b451",
   "metadata": {},
   "source": [
    "# Parquet validation"
   ]
  },
  {
   "cell_type": "code",
   "execution_count": 1,
   "id": "1ed053db-912f-4655-8709-a9459d866a8e",
   "metadata": {
    "execution": {
     "iopub.execute_input": "2022-02-25T03:10:54.354294Z",
     "iopub.status.busy": "2022-02-25T03:10:54.353874Z",
     "iopub.status.idle": "2022-02-25T03:10:56.037491Z",
     "shell.execute_reply": "2022-02-25T03:10:56.035923Z",
     "shell.execute_reply.started": "2022-02-25T03:10:54.354220Z"
    },
    "tags": []
   },
   "outputs": [],
   "source": [
    "import pandas as pd\n",
    "from pathlib import Path\n",
    "import sys "
   ]
  },
  {
   "cell_type": "code",
   "execution_count": 2,
   "id": "8ffe7d1c-6e04-46df-bb73-688095b3fed7",
   "metadata": {
    "execution": {
     "iopub.execute_input": "2022-02-25T03:10:56.046886Z",
     "iopub.status.busy": "2022-02-25T03:10:56.046598Z",
     "iopub.status.idle": "2022-02-25T03:10:56.055938Z",
     "shell.execute_reply": "2022-02-25T03:10:56.054771Z",
     "shell.execute_reply.started": "2022-02-25T03:10:56.046842Z"
    },
    "tags": []
   },
   "outputs": [],
   "source": [
    "basepath: Path = Path('/N/project/openalex')\n",
    "snapshot_dir = basepath / 'OpenAlex' / 'openalex-snapshot' / 'data'\n",
    "processed_dir = basepath / 'ssikdar' / 'processed'\n",
    "temp_dir = basepath / 'ssikdar' / 'temp'\n",
    "csv_dir = basepath / 'ssikdar' / 'csv-files'"
   ]
  },
  {
   "cell_type": "markdown",
   "id": "f23fe578-af8b-4f96-83ea-e582c85754cd",
   "metadata": {},
   "source": [
    "## Read parquet files"
   ]
  },
  {
   "cell_type": "code",
   "execution_count": 3,
   "id": "d3f3737c-342f-4e96-9234-cb774627ac1c",
   "metadata": {
    "execution": {
     "iopub.execute_input": "2022-02-25T03:10:57.428874Z",
     "iopub.status.busy": "2022-02-25T03:10:57.428343Z",
     "iopub.status.idle": "2022-02-25T03:11:05.906176Z",
     "shell.execute_reply": "2022-02-25T03:11:05.905133Z",
     "shell.execute_reply.started": "2022-02-25T03:10:57.428822Z"
    },
    "tags": []
   },
   "outputs": [
    {
     "data": {
      "text/plain": [
       "'authors'"
      ]
     },
     "metadata": {},
     "output_type": "display_data"
    },
    {
     "data": {
      "text/plain": [
       "'450,001'"
      ]
     },
     "metadata": {},
     "output_type": "display_data"
    },
    {
     "data": {
      "text/plain": [
       "'authors_ids'"
      ]
     },
     "metadata": {},
     "output_type": "display_data"
    },
    {
     "data": {
      "text/plain": [
       "'450,001'"
      ]
     },
     "metadata": {},
     "output_type": "display_data"
    },
    {
     "data": {
      "text/plain": [
       "'authors_counts_by_year'"
      ]
     },
     "metadata": {},
     "output_type": "display_data"
    },
    {
     "data": {
      "text/plain": [
       "'641,115'"
      ]
     },
     "metadata": {},
     "output_type": "display_data"
    }
   ],
   "source": [
    "for parq_file in processed_dir.glob('*.h5'):\n",
    "    df = pd.read_hdf(parq_file)\n",
    "    display(parq_file.stem, f'{df.shape[0]:,}')"
   ]
  },
  {
   "cell_type": "code",
   "execution_count": 5,
   "id": "cfd6e088-8913-4396-99db-9e50a913166f",
   "metadata": {
    "execution": {
     "iopub.execute_input": "2022-02-25T04:49:04.862925Z",
     "iopub.status.busy": "2022-02-25T04:49:04.862296Z",
     "iopub.status.idle": "2022-02-25T04:50:26.874970Z",
     "shell.execute_reply": "2022-02-25T04:50:26.874206Z",
     "shell.execute_reply.started": "2022-02-25T04:49:04.862867Z"
    },
    "tags": []
   },
   "outputs": [
    {
     "data": {
      "text/plain": [
       "5884449"
      ]
     },
     "execution_count": 5,
     "metadata": {},
     "output_type": "execute_result"
    }
   ],
   "source": [
    "df = pd.read_hdf(processed_dir / 'authors.h5')\n",
    "len(df)"
   ]
  },
  {
   "cell_type": "code",
   "execution_count": 9,
   "id": "8c09a926-c8a3-46a4-b88b-e6fe8c4f4b35",
   "metadata": {
    "execution": {
     "iopub.execute_input": "2022-02-25T04:50:58.168643Z",
     "iopub.status.busy": "2022-02-25T04:50:58.168236Z",
     "iopub.status.idle": "2022-02-25T04:50:58.176308Z",
     "shell.execute_reply": "2022-02-25T04:50:58.175071Z",
     "shell.execute_reply.started": "2022-02-25T04:50:58.168593Z"
    },
    "tags": []
   },
   "outputs": [
    {
     "data": {
      "text/plain": [
       "'5,884,449'"
      ]
     },
     "execution_count": 9,
     "metadata": {},
     "output_type": "execute_result"
    }
   ],
   "source": [
    "f'{len(df):,}'"
   ]
  },
  {
   "cell_type": "code",
   "execution_count": null,
   "id": "91cdc465-408a-42b6-8e0e-bdea7cdfa4d7",
   "metadata": {},
   "outputs": [],
   "source": []
  },
  {
   "cell_type": "markdown",
   "id": "98d3bb75-4d21-4767-bd97-20dc3cf05914",
   "metadata": {},
   "source": [
    "## Figure out HDF stuff"
   ]
  },
  {
   "cell_type": "code",
   "execution_count": 49,
   "id": "96b1c680-ed67-4763-be9a-a1177bb1f2dd",
   "metadata": {
    "execution": {
     "iopub.execute_input": "2022-02-25T03:08:41.962042Z",
     "iopub.status.busy": "2022-02-25T03:08:41.961653Z",
     "iopub.status.idle": "2022-02-25T03:08:42.101962Z",
     "shell.execute_reply": "2022-02-25T03:08:42.100753Z",
     "shell.execute_reply.started": "2022-02-25T03:08:41.961994Z"
    },
    "tags": []
   },
   "outputs": [
    {
     "ename": "NameError",
     "evalue": "name 'store' is not defined",
     "output_type": "error",
     "traceback": [
      "\u001b[0;31m---------------------------------------------------------------------------\u001b[0m",
      "\u001b[0;31mNameError\u001b[0m                                 Traceback (most recent call last)",
      "Input \u001b[0;32mIn [49]\u001b[0m, in \u001b[0;36m<module>\u001b[0;34m\u001b[0m\n\u001b[0;32m----> 1\u001b[0m \u001b[38;5;28;01mdel\u001b[39;00m store\n",
      "\u001b[0;31mNameError\u001b[0m: name 'store' is not defined"
     ]
    }
   ],
   "source": [
    "del store"
   ]
  },
  {
   "cell_type": "code",
   "execution_count": 51,
   "id": "d8de6972-11f7-47f4-a3df-544b2a005c79",
   "metadata": {
    "execution": {
     "iopub.execute_input": "2022-02-25T03:09:40.333268Z",
     "iopub.status.busy": "2022-02-25T03:09:40.332817Z",
     "iopub.status.idle": "2022-02-25T03:09:40.506913Z",
     "shell.execute_reply": "2022-02-25T03:09:40.505877Z",
     "shell.execute_reply.started": "2022-02-25T03:09:40.333214Z"
    },
    "tags": []
   },
   "outputs": [],
   "source": [
    "store = pd.HDFStore(processed_dir / 'authors.h5')"
   ]
  },
  {
   "cell_type": "code",
   "execution_count": 52,
   "id": "d4176e77-485b-419c-8987-23336c16f859",
   "metadata": {
    "execution": {
     "iopub.execute_input": "2022-02-25T03:09:41.320830Z",
     "iopub.status.busy": "2022-02-25T03:09:41.320218Z",
     "iopub.status.idle": "2022-02-25T03:09:41.424276Z",
     "shell.execute_reply": "2022-02-25T03:09:41.423371Z",
     "shell.execute_reply.started": "2022-02-25T03:09:41.320774Z"
    },
    "tags": []
   },
   "outputs": [
    {
     "data": {
      "text/plain": [
       "<class 'pandas.io.pytables.HDFStore'>\n",
       "File path: /N/project/openalex/ssikdar/processed/authors.h5"
      ]
     },
     "execution_count": 52,
     "metadata": {},
     "output_type": "execute_result"
    }
   ],
   "source": [
    "store"
   ]
  },
  {
   "cell_type": "code",
   "execution_count": 54,
   "id": "07f12acc-c397-43ef-9ce4-70bbfb8fe36c",
   "metadata": {
    "execution": {
     "iopub.execute_input": "2022-02-25T03:10:11.690375Z",
     "iopub.status.busy": "2022-02-25T03:10:11.689965Z",
     "iopub.status.idle": "2022-02-25T03:10:15.331396Z",
     "shell.execute_reply": "2022-02-25T03:10:15.330616Z",
     "shell.execute_reply.started": "2022-02-25T03:10:11.690325Z"
    },
    "tags": []
   },
   "outputs": [],
   "source": [
    "df = store.df"
   ]
  },
  {
   "cell_type": "code",
   "execution_count": 55,
   "id": "59b040a4-bd59-48a2-a77c-35d0cbd7389c",
   "metadata": {
    "execution": {
     "iopub.execute_input": "2022-02-25T03:10:21.854684Z",
     "iopub.status.busy": "2022-02-25T03:10:21.854263Z",
     "iopub.status.idle": "2022-02-25T03:10:22.419678Z",
     "shell.execute_reply": "2022-02-25T03:10:22.418856Z",
     "shell.execute_reply.started": "2022-02-25T03:10:21.854633Z"
    }
   },
   "outputs": [
    {
     "data": {
      "text/html": [
       "<div>\n",
       "<style scoped>\n",
       "    .dataframe tbody tr th:only-of-type {\n",
       "        vertical-align: middle;\n",
       "    }\n",
       "\n",
       "    .dataframe tbody tr th {\n",
       "        vertical-align: top;\n",
       "    }\n",
       "\n",
       "    .dataframe thead th {\n",
       "        text-align: right;\n",
       "    }\n",
       "</style>\n",
       "<table border=\"1\" class=\"dataframe\">\n",
       "  <thead>\n",
       "    <tr style=\"text-align: right;\">\n",
       "      <th></th>\n",
       "      <th>id</th>\n",
       "      <th>orcid</th>\n",
       "      <th>display_name</th>\n",
       "      <th>display_name_alternatives</th>\n",
       "      <th>works_count</th>\n",
       "      <th>cited_by_count</th>\n",
       "      <th>last_known_institution</th>\n",
       "      <th>works_api_url</th>\n",
       "      <th>updated_date</th>\n",
       "    </tr>\n",
       "  </thead>\n",
       "  <tbody>\n",
       "  </tbody>\n",
       "</table>\n",
       "</div>"
      ],
      "text/plain": [
       "Empty DataFrame\n",
       "Columns: [id, orcid, display_name, display_name_alternatives, works_count, cited_by_count, last_known_institution, works_api_url, updated_date]\n",
       "Index: []"
      ]
     },
     "execution_count": 55,
     "metadata": {},
     "output_type": "execute_result"
    }
   ],
   "source": [
    "df[df.isna().any(axis=1)]"
   ]
  },
  {
   "cell_type": "code",
   "execution_count": 43,
   "id": "12ae8fe7-4828-471a-a975-54aec82c373d",
   "metadata": {
    "execution": {
     "iopub.execute_input": "2022-02-25T02:37:46.993523Z",
     "iopub.status.busy": "2022-02-25T02:37:46.992438Z",
     "iopub.status.idle": "2022-02-25T02:37:47.129463Z",
     "shell.execute_reply": "2022-02-25T02:37:47.128325Z",
     "shell.execute_reply.started": "2022-02-25T02:37:46.993446Z"
    },
    "tags": []
   },
   "outputs": [
    {
     "data": {
      "text/plain": [
       "/df (Group) ''\n",
       "  children := []"
      ]
     },
     "execution_count": 45,
     "metadata": {},
     "output_type": "execute_result"
    }
   ],
   "source": [
    "store.root.df.table"
   ]
  },
  {
   "cell_type": "code",
   "execution_count": 9,
   "id": "e8875714-4ae0-4492-af5f-4db673913129",
   "metadata": {
    "execution": {
     "iopub.execute_input": "2022-02-25T00:59:27.969803Z",
     "iopub.status.busy": "2022-02-25T00:59:27.968700Z",
     "iopub.status.idle": "2022-02-25T00:59:36.777804Z",
     "shell.execute_reply": "2022-02-25T00:59:36.776886Z",
     "shell.execute_reply.started": "2022-02-25T00:59:27.969741Z"
    },
    "tags": []
   },
   "outputs": [],
   "source": [
    "stored_df = store.df"
   ]
  },
  {
   "cell_type": "code",
   "execution_count": 10,
   "id": "29ec4590-865d-4492-af93-7426453fdb4f",
   "metadata": {
    "execution": {
     "iopub.execute_input": "2022-02-25T00:59:36.779080Z",
     "iopub.status.busy": "2022-02-25T00:59:36.778933Z",
     "iopub.status.idle": "2022-02-25T00:59:36.831626Z",
     "shell.execute_reply": "2022-02-25T00:59:36.830902Z",
     "shell.execute_reply.started": "2022-02-25T00:59:36.779061Z"
    }
   },
   "outputs": [
    {
     "data": {
      "text/plain": [
       "id                           object\n",
       "orcid                        object\n",
       "display_name                 object\n",
       "display_name_alternatives    object\n",
       "works_count                   int64\n",
       "cited_by_count                int64\n",
       "last_known_institution       object\n",
       "works_api_url                object\n",
       "updated_date                 object\n",
       "dtype: object"
      ]
     },
     "execution_count": 10,
     "metadata": {},
     "output_type": "execute_result"
    }
   ],
   "source": [
    "stored_df.dtypes"
   ]
  },
  {
   "cell_type": "code",
   "execution_count": 11,
   "id": "b224820b-2af1-4fda-8a43-b4d95d78ee62",
   "metadata": {
    "execution": {
     "iopub.execute_input": "2022-02-25T01:05:45.477135Z",
     "iopub.status.busy": "2022-02-25T01:05:45.476716Z",
     "iopub.status.idle": "2022-02-25T01:05:45.727432Z",
     "shell.execute_reply": "2022-02-25T01:05:45.726333Z",
     "shell.execute_reply.started": "2022-02-25T01:05:45.477084Z"
    }
   },
   "outputs": [],
   "source": [
    "def get_dtypes(path, **kwargs):\n",
    "    sample = pd.read_csv(path, nrows=2000) # Load Sample datadtypes = sample.dtypes # Get the dtypes\n",
    "    dtype_dictionary = {}\n",
    "    dtypes = sample.dtypes # Get the dtypes\n",
    "    parse_dates = []\n",
    "    for col in sample.columns:\n",
    "        if 'date' in col:  # turn dates into datetime objects\n",
    "            parse_dates.append(col)\n",
    "        if any(x in col for x in ('id', '_id')):  # id's turn into categories\n",
    "            dtype_dictionary[col] = 'string'\n",
    "        elif 'is_' in col:\n",
    "            dtype_dictionary[col] = 'bool'\n",
    "        elif sample[col].dtype.name == 'object':  # turn objects into strings\n",
    "            dtype_dictionary[col] = 'string'\n",
    "        elif sample[col].dtype.name == 'int64':  # use Int64 to have support for NaNs\n",
    "            dtype_dictionary[col] = 'Int64'\n",
    "        else:\n",
    "            dtype_dictionary[col] = str(dtypes[col])  # Load Data with increased speed and reduced memory.\n",
    "        if col in ['wikipedia', 'mag', 'twitter', 'scopus']:\n",
    "            dtype_dictionary[col] = 'object'\n",
    "    return dtype_dictionary"
   ]
  },
  {
   "cell_type": "code",
   "execution_count": 18,
   "id": "1ca0156a-07e1-4d48-b676-88b64ec638e3",
   "metadata": {
    "execution": {
     "iopub.execute_input": "2022-02-25T01:36:12.974629Z",
     "iopub.status.busy": "2022-02-25T01:36:12.973935Z",
     "iopub.status.idle": "2022-02-25T01:36:13.169273Z",
     "shell.execute_reply": "2022-02-25T01:36:13.168396Z",
     "shell.execute_reply.started": "2022-02-25T01:36:12.974580Z"
    },
    "tags": []
   },
   "outputs": [
    {
     "data": {
      "text/plain": [
       "{'author_id': 'string',\n",
       " 'year': 'Int64',\n",
       " 'works_count': 'Int64',\n",
       " 'cited_by_count': 'Int64'}"
      ]
     },
     "execution_count": 18,
     "metadata": {},
     "output_type": "execute_result"
    }
   ],
   "source": [
    "dtype = get_dtypes(csv_dir / 'authors_counts_by_year.csv.gz')\n",
    "dtype"
   ]
  },
  {
   "cell_type": "code",
   "execution_count": 24,
   "id": "81c4fb91-cddc-473b-9ec1-cb92207c9cab",
   "metadata": {
    "execution": {
     "iopub.execute_input": "2022-02-25T01:56:35.176708Z",
     "iopub.status.busy": "2022-02-25T01:56:35.176237Z",
     "iopub.status.idle": "2022-02-25T01:56:35.374562Z",
     "shell.execute_reply": "2022-02-25T01:56:35.373775Z",
     "shell.execute_reply.started": "2022-02-25T01:56:35.176655Z"
    }
   },
   "outputs": [],
   "source": [
    "df = pd.read_csv(csv_dir / 'authors_ids.csv.gz', nrows=10000)"
   ]
  },
  {
   "cell_type": "code",
   "execution_count": 28,
   "id": "b062a7c4-75e9-4500-be10-50b294449342",
   "metadata": {
    "execution": {
     "iopub.execute_input": "2022-02-25T01:56:59.650044Z",
     "iopub.status.busy": "2022-02-25T01:56:59.649267Z",
     "iopub.status.idle": "2022-02-25T01:56:59.752428Z",
     "shell.execute_reply": "2022-02-25T01:56:59.751664Z",
     "shell.execute_reply.started": "2022-02-25T01:56:59.649989Z"
    },
    "tags": []
   },
   "outputs": [
    {
     "data": {
      "text/plain": [
       "Series([], Name: twitter, dtype: int64)"
      ]
     },
     "execution_count": 28,
     "metadata": {},
     "output_type": "execute_result"
    }
   ],
   "source": [
    "df.twitter.value_counts()"
   ]
  },
  {
   "cell_type": "code",
   "execution_count": null,
   "id": "bfe168c2-f28d-4dc7-b781-eb93d2ab2095",
   "metadata": {},
   "outputs": [],
   "source": []
  }
 ],
 "metadata": {
  "kernelspec": {
   "display_name": "Python 3 (ipykernel)",
   "language": "python",
   "name": "python3"
  },
  "language_info": {
   "codemirror_mode": {
    "name": "ipython",
    "version": 3
   },
   "file_extension": ".py",
   "mimetype": "text/x-python",
   "name": "python",
   "nbconvert_exporter": "python",
   "pygments_lexer": "ipython3",
   "version": "3.8.12"
  }
 },
 "nbformat": 4,
 "nbformat_minor": 5
}
