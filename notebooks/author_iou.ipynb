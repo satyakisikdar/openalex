{
 "cells": [
  {
   "cell_type": "markdown",
   "id": "05cd59b6-bbd9-495a-b2c3-256558332d78",
   "metadata": {},
   "source": [
    "## testing stuff - starting with CSV flattening "
   ]
  },
  {
   "cell_type": "code",
   "execution_count": 363,
   "id": "b054e3e9-72b7-4346-9384-c3bf39bc7db6",
   "metadata": {
    "execution": {
     "iopub.execute_input": "2022-10-12T23:36:19.327555Z",
     "iopub.status.busy": "2022-10-12T23:36:19.326855Z",
     "iopub.status.idle": "2022-10-12T23:36:19.391725Z",
     "shell.execute_reply": "2022-10-12T23:36:19.390938Z",
     "shell.execute_reply.started": "2022-10-12T23:36:19.327499Z"
    },
    "tags": []
   },
   "outputs": [],
   "source": [
    "import pandas as pd\n",
    "from pathlib import Path\n",
    "import sys \n",
    "import gc\n",
    "from tqdm.auto import tqdm \n",
    "import re\n",
    "from string import punctuation\n",
    "import matplotlib.pyplot as plt \n",
    "import seaborn as sns\n",
    "import igraph as ig \n",
    "import ast\n",
    "import orjson as json\n",
    "import datetime as dt\n",
    "import pyarrow.parquet as pq\n",
    "import plotly.express as px\n",
    "import plotly.io as pio\n",
    "\n",
    "tqdm.pandas()\n",
    "plt.rcParams.update({'font.size': 22})\n",
    "sns.set(style=\"ticks\", context=\"talk\")\n",
    "plt.style.use(\"dark_background\")\n",
    "\n",
    "pd.options.plotting.backend = 'plotly'\n",
    "pio.templates.default = 'plotly_dark+presentation'"
   ]
  },
  {
   "cell_type": "code",
   "execution_count": 2,
   "id": "aac4dca9-8da6-4e90-949b-01192b0bb65c",
   "metadata": {
    "execution": {
     "iopub.execute_input": "2022-10-12T16:42:47.496400Z",
     "iopub.status.busy": "2022-10-12T16:42:47.495509Z",
     "iopub.status.idle": "2022-10-12T16:42:47.501549Z",
     "shell.execute_reply": "2022-10-12T16:42:47.500900Z",
     "shell.execute_reply.started": "2022-10-12T16:42:47.496363Z"
    },
    "tags": []
   },
   "outputs": [],
   "source": [
    "basepath = Path('/N/project/openalex/ssikdar/filtered')"
   ]
  },
  {
   "cell_type": "markdown",
   "id": "d65bbd9a-7770-45b9-9af6-4ef3382b4251",
   "metadata": {},
   "source": [
    "For the whole dataset, run this cell"
   ]
  },
  {
   "cell_type": "code",
   "execution_count": 301,
   "id": "76bef657-8e10-4631-9f11-0b24d5a6b0e0",
   "metadata": {
    "execution": {
     "iopub.execute_input": "2022-10-12T19:29:03.371884Z",
     "iopub.status.busy": "2022-10-12T19:29:03.371031Z",
     "iopub.status.idle": "2022-10-12T19:31:03.552874Z",
     "shell.execute_reply": "2022-10-12T19:31:03.550884Z",
     "shell.execute_reply.started": "2022-10-12T19:29:03.371828Z"
    },
    "tags": []
   },
   "outputs": [
    {
     "data": {
      "text/plain": [
       "'len(works_authors_df)=137,068,709'"
      ]
     },
     "metadata": {},
     "output_type": "display_data"
    },
    {
     "data": {
      "text/html": [
       "<div>\n",
       "<style scoped>\n",
       "    .dataframe tbody tr th:only-of-type {\n",
       "        vertical-align: middle;\n",
       "    }\n",
       "\n",
       "    .dataframe tbody tr th {\n",
       "        vertical-align: top;\n",
       "    }\n",
       "\n",
       "    .dataframe thead th {\n",
       "        text-align: right;\n",
       "    }\n",
       "</style>\n",
       "<table border=\"1\" class=\"dataframe\">\n",
       "  <thead>\n",
       "    <tr style=\"text-align: right;\">\n",
       "      <th></th>\n",
       "      <th>work_id</th>\n",
       "      <th>author_id</th>\n",
       "      <th>author_name</th>\n",
       "      <th>institution_id</th>\n",
       "      <th>publication_date</th>\n",
       "      <th>year</th>\n",
       "      <th>month</th>\n",
       "    </tr>\n",
       "  </thead>\n",
       "  <tbody>\n",
       "    <tr>\n",
       "      <th>3389</th>\n",
       "      <td>2286263278</td>\n",
       "      <td>3175442675</td>\n",
       "      <td>Jeffrey Brown</td>\n",
       "      <td>&lt;NA&gt;</td>\n",
       "      <td>2017-01-01</td>\n",
       "      <td>2017</td>\n",
       "      <td>1</td>\n",
       "    </tr>\n",
       "    <tr>\n",
       "      <th>3422</th>\n",
       "      <td>2286418227</td>\n",
       "      <td>2630270478</td>\n",
       "      <td>Nicole Coutrelis</td>\n",
       "      <td>&lt;NA&gt;</td>\n",
       "      <td>2017-01-01</td>\n",
       "      <td>2017</td>\n",
       "      <td>1</td>\n",
       "    </tr>\n",
       "    <tr>\n",
       "      <th>3423</th>\n",
       "      <td>2286418227</td>\n",
       "      <td>2342147013</td>\n",
       "      <td>Thomas Gourdea</td>\n",
       "      <td>&lt;NA&gt;</td>\n",
       "      <td>2017-01-01</td>\n",
       "      <td>2017</td>\n",
       "      <td>1</td>\n",
       "    </tr>\n",
       "    <tr>\n",
       "      <th>6467</th>\n",
       "      <td>2295757329</td>\n",
       "      <td>2157057934</td>\n",
       "      <td>Margaret Hodgins</td>\n",
       "      <td>&lt;NA&gt;</td>\n",
       "      <td>2017-01-01</td>\n",
       "      <td>2017</td>\n",
       "      <td>1</td>\n",
       "    </tr>\n",
       "    <tr>\n",
       "      <th>6468</th>\n",
       "      <td>2295757329</td>\n",
       "      <td>2778590059</td>\n",
       "      <td>Paul Fleming</td>\n",
       "      <td>&lt;NA&gt;</td>\n",
       "      <td>2017-01-01</td>\n",
       "      <td>2017</td>\n",
       "      <td>1</td>\n",
       "    </tr>\n",
       "  </tbody>\n",
       "</table>\n",
       "</div>"
      ],
      "text/plain": [
       "         work_id   author_id       author_name  institution_id  \\\n",
       "3389  2286263278  3175442675     Jeffrey Brown            <NA>   \n",
       "3422  2286418227  2630270478  Nicole Coutrelis            <NA>   \n",
       "3423  2286418227  2342147013    Thomas Gourdea            <NA>   \n",
       "6467  2295757329  2157057934  Margaret Hodgins            <NA>   \n",
       "6468  2295757329  2778590059      Paul Fleming            <NA>   \n",
       "\n",
       "     publication_date  year month  \n",
       "3389       2017-01-01  2017     1  \n",
       "3422       2017-01-01  2017     1  \n",
       "3423       2017-01-01  2017     1  \n",
       "6467       2017-01-01  2017     1  \n",
       "6468       2017-01-01  2017     1  "
      ]
     },
     "metadata": {},
     "output_type": "display_data"
    }
   ],
   "source": [
    "years = [2017, 2018, 2019, 2020, 2021, 2022]\n",
    "\n",
    "dataset = pq.ParquetDataset(basepath / 'works_authorship_split', use_legacy_dataset=False,\n",
    "                            filters=[('year', 'in', years),])\n",
    "\n",
    "works_authors_df = dataset.read().to_pandas()\n",
    "\n",
    "display(f'{len(works_authors_df)=:,}')\n",
    "display(works_authors_df.head())"
   ]
  },
  {
   "cell_type": "markdown",
   "id": "a4f03eb3-2834-4355-a5c4-9eed7a7146bd",
   "metadata": {},
   "source": [
    "For the small snapshot, run the following instead"
   ]
  },
  {
   "cell_type": "code",
   "execution_count": null,
   "id": "ff41b3b0-a740-4801-983e-9498d191dedf",
   "metadata": {},
   "outputs": [],
   "source": [
    "works_authors_df = pd.read_parquet('')"
   ]
  },
  {
   "cell_type": "code",
   "execution_count": null,
   "id": "4b1ac7c1-4ef0-450d-8a3e-a74d867b0b19",
   "metadata": {},
   "outputs": [],
   "source": []
  },
  {
   "cell_type": "code",
   "execution_count": 347,
   "id": "86e0210e-f5ee-4562-b107-feef4bd6b19c",
   "metadata": {
    "execution": {
     "iopub.execute_input": "2022-10-12T20:28:07.838270Z",
     "iopub.status.busy": "2022-10-12T20:28:07.837582Z",
     "iopub.status.idle": "2022-10-12T20:28:07.851805Z",
     "shell.execute_reply": "2022-10-12T20:28:07.850928Z",
     "shell.execute_reply.started": "2022-10-12T20:28:07.838217Z"
    },
    "tags": []
   },
   "outputs": [],
   "source": [
    "# encapsulate in a function - rolling jaccard for an author_id \n",
    "def jaccard(list_of_lists):\n",
    "    # if len(list_of_lists) == 1:\n",
    "    #     return 0 \n",
    "    \n",
    "    list_of_sets = [set(l) for l in list_of_lists]\n",
    "    intersection = set.intersection(*list_of_sets)\n",
    "    union = set.union(*list_of_sets)\n",
    "\n",
    "    return len(intersection) / max(1, len(union))\n",
    "\n",
    "def rolling_iou_author(author_id, window_size=2, works_authors=small_works_authors_df):\n",
    "    authors_works_df = (\n",
    "        works_authors\n",
    "        .query('author_id==@author_id')\n",
    "        .sort_values(by='publication_date')\n",
    "        .set_index('publication_date')\n",
    "        .drop(columns=['year', 'month'])\n",
    "    )\n",
    "    \n",
    "    author_work_ids = set(\n",
    "        authors_works_df\n",
    "        .work_id\n",
    "        .unique()\n",
    "    )\n",
    "    \n",
    "    # store the set of coauthors for each work id sorted by date \n",
    "    temporal_coauthors_df = authors_works_df.join(\n",
    "        works_authors\n",
    "        .query('work_id.isin(@author_work_ids)')\n",
    "        .groupby('work_id')\n",
    "        .author_id\n",
    "        .apply(lambda x: list(set(x) - {author_id}))\n",
    "        .rename('coauthors'),\n",
    "        on='work_id'\n",
    "    )\n",
    "\n",
    "    res = (\n",
    "        temporal_coauthors_df\n",
    "        .assign(\n",
    "            rolling_coauthors=lambda df_: ([\n",
    "                window.to_list()\n",
    "                for window in df_.coauthors.rolling(window=window_size)]),   # use monthly rolling?\n",
    "            rolling_jaccard=lambda df_: df_.rolling_coauthors.apply(jaccard),\n",
    "            window_size=window_size\n",
    "        )\n",
    "    )\n",
    "    return res"
   ]
  },
  {
   "cell_type": "code",
   "execution_count": 330,
   "id": "f32531ba-0571-492f-8d1a-69a7afdc8784",
   "metadata": {
    "execution": {
     "iopub.execute_input": "2022-10-12T20:12:58.368678Z",
     "iopub.status.busy": "2022-10-12T20:12:58.368084Z",
     "iopub.status.idle": "2022-10-12T20:12:58.375836Z",
     "shell.execute_reply": "2022-10-12T20:12:58.374500Z",
     "shell.execute_reply.started": "2022-10-12T20:12:58.368628Z"
    },
    "tags": []
   },
   "outputs": [],
   "source": [
    "author_ids = [2122189410, 2113839928, 2127131468, 2037649753]"
   ]
  },
  {
   "cell_type": "code",
   "execution_count": 349,
   "id": "06f85e09-93e9-40dc-a1c1-8c8245cf3e9d",
   "metadata": {
    "execution": {
     "iopub.execute_input": "2022-10-12T20:28:20.105812Z",
     "iopub.status.busy": "2022-10-12T20:28:20.105124Z",
     "iopub.status.idle": "2022-10-12T20:28:20.112452Z",
     "shell.execute_reply": "2022-10-12T20:28:20.111196Z",
     "shell.execute_reply.started": "2022-10-12T20:28:20.105756Z"
    },
    "tags": []
   },
   "outputs": [],
   "source": [
    "combined_df = None"
   ]
  },
  {
   "cell_type": "code",
   "execution_count": 350,
   "id": "6b167749-ba05-4eee-93a5-0370d1cf6bfa",
   "metadata": {
    "execution": {
     "iopub.execute_input": "2022-10-12T20:28:20.377833Z",
     "iopub.status.busy": "2022-10-12T20:28:20.377238Z",
     "iopub.status.idle": "2022-10-12T20:28:20.383980Z",
     "shell.execute_reply": "2022-10-12T20:28:20.382733Z",
     "shell.execute_reply.started": "2022-10-12T20:28:20.377780Z"
    },
    "tags": []
   },
   "outputs": [],
   "source": [
    "combined_df2 = None"
   ]
  },
  {
   "cell_type": "code",
   "execution_count": 351,
   "id": "59d6cf4c-709e-4d19-874f-625235c7aa20",
   "metadata": {
    "execution": {
     "iopub.execute_input": "2022-10-12T20:28:20.976414Z",
     "iopub.status.busy": "2022-10-12T20:28:20.975658Z",
     "iopub.status.idle": "2022-10-12T20:28:44.450007Z",
     "shell.execute_reply": "2022-10-12T20:28:44.448649Z",
     "shell.execute_reply.started": "2022-10-12T20:28:20.976361Z"
    },
    "tags": []
   },
   "outputs": [
    {
     "data": {
      "application/vnd.jupyter.widget-view+json": {
       "model_id": "d948adf344e544a8838f60d11b739de9",
       "version_major": 2,
       "version_minor": 0
      },
      "text/plain": [
       "  0%|          | 0/4 [00:00<?, ?it/s]"
      ]
     },
     "metadata": {},
     "output_type": "display_data"
    },
    {
     "data": {
      "text/html": [
       "<div>\n",
       "<style scoped>\n",
       "    .dataframe tbody tr th:only-of-type {\n",
       "        vertical-align: middle;\n",
       "    }\n",
       "\n",
       "    .dataframe tbody tr th {\n",
       "        vertical-align: top;\n",
       "    }\n",
       "\n",
       "    .dataframe thead th {\n",
       "        text-align: right;\n",
       "    }\n",
       "</style>\n",
       "<table border=\"1\" class=\"dataframe\">\n",
       "  <thead>\n",
       "    <tr style=\"text-align: right;\">\n",
       "      <th></th>\n",
       "      <th>work_id</th>\n",
       "      <th>author_id</th>\n",
       "      <th>author_name</th>\n",
       "      <th>institution_id</th>\n",
       "      <th>coauthors</th>\n",
       "      <th>rolling_coauthors</th>\n",
       "      <th>rolling_jaccard</th>\n",
       "      <th>window_size</th>\n",
       "    </tr>\n",
       "    <tr>\n",
       "      <th>publication_date</th>\n",
       "      <th></th>\n",
       "      <th></th>\n",
       "      <th></th>\n",
       "      <th></th>\n",
       "      <th></th>\n",
       "      <th></th>\n",
       "      <th></th>\n",
       "      <th></th>\n",
       "    </tr>\n",
       "  </thead>\n",
       "  <tbody>\n",
       "    <tr>\n",
       "      <th>2017-01-01</th>\n",
       "      <td>2597768936</td>\n",
       "      <td>2113839928</td>\n",
       "      <td>Carlo Ratti</td>\n",
       "      <td>&lt;NA&gt;</td>\n",
       "      <td>[2303729449]</td>\n",
       "      <td>[[2303729449]]</td>\n",
       "      <td>1.000000</td>\n",
       "      <td>5</td>\n",
       "    </tr>\n",
       "    <tr>\n",
       "      <th>2017-01-01</th>\n",
       "      <td>2743414500</td>\n",
       "      <td>2113839928</td>\n",
       "      <td>Carlo Ratti</td>\n",
       "      <td>&lt;NA&gt;</td>\n",
       "      <td>[2342688999, 2164998664, 2032565163, 212713146...</td>\n",
       "      <td>[[2303729449], [3031885824, 2746258369, 302906...</td>\n",
       "      <td>0.000000</td>\n",
       "      <td>5</td>\n",
       "    </tr>\n",
       "    <tr>\n",
       "      <th>2017-01-01</th>\n",
       "      <td>2754261237</td>\n",
       "      <td>2113839928</td>\n",
       "      <td>Carlo Ratti</td>\n",
       "      <td>63966007</td>\n",
       "      <td>[2127131468, 1270670167, 2121986678, 2490743655]</td>\n",
       "      <td>[[2303729449], [3031885824, 2746258369, 302906...</td>\n",
       "      <td>0.000000</td>\n",
       "      <td>5</td>\n",
       "    </tr>\n",
       "    <tr>\n",
       "      <th>2017-01-01</th>\n",
       "      <td>2764360978</td>\n",
       "      <td>2127131468</td>\n",
       "      <td>Paolo Santi</td>\n",
       "      <td>63966007</td>\n",
       "      <td>[2155208067, 2098713349, 2196641131, 256814961...</td>\n",
       "      <td>[[2342688999, 2164998664, 2032565163, 21138399...</td>\n",
       "      <td>0.066667</td>\n",
       "      <td>5</td>\n",
       "    </tr>\n",
       "    <tr>\n",
       "      <th>2017-01-01</th>\n",
       "      <td>2754261237</td>\n",
       "      <td>2127131468</td>\n",
       "      <td>Paolo Santi</td>\n",
       "      <td>63966007</td>\n",
       "      <td>[2113839928, 1270670167, 2121986678, 2490743655]</td>\n",
       "      <td>[[2342688999, 2164998664, 2032565163, 21138399...</td>\n",
       "      <td>0.111111</td>\n",
       "      <td>5</td>\n",
       "    </tr>\n",
       "    <tr>\n",
       "      <th>...</th>\n",
       "      <td>...</td>\n",
       "      <td>...</td>\n",
       "      <td>...</td>\n",
       "      <td>...</td>\n",
       "      <td>...</td>\n",
       "      <td>...</td>\n",
       "      <td>...</td>\n",
       "      <td>...</td>\n",
       "    </tr>\n",
       "    <tr>\n",
       "      <th>2022-05-13</th>\n",
       "      <td>3204399149</td>\n",
       "      <td>2122189410</td>\n",
       "      <td>Santo Fortunato</td>\n",
       "      <td>&lt;NA&gt;</td>\n",
       "      <td>[2793809274, 2469326107, 115369229, 2505591981]</td>\n",
       "      <td>[[2000084066, 3093826758, 2604826445, 30940716...</td>\n",
       "      <td>0.000000</td>\n",
       "      <td>5</td>\n",
       "    </tr>\n",
       "    <tr>\n",
       "      <th>2022-05-17</th>\n",
       "      <td>4280593352</td>\n",
       "      <td>2127131468</td>\n",
       "      <td>Paolo Santi</td>\n",
       "      <td>63966007</td>\n",
       "      <td>[4280714948, 4280714949]</td>\n",
       "      <td>[[3215420100, 2152357223, 2095630856, 26511244...</td>\n",
       "      <td>0.000000</td>\n",
       "      <td>5</td>\n",
       "    </tr>\n",
       "    <tr>\n",
       "      <th>2022-05-17</th>\n",
       "      <td>4280593352</td>\n",
       "      <td>2127131468</td>\n",
       "      <td>Paolo Santi</td>\n",
       "      <td>4210130157</td>\n",
       "      <td>[4280714948, 4280714949]</td>\n",
       "      <td>[[2306505153, 2152357223, 2571495213, 25872663...</td>\n",
       "      <td>0.000000</td>\n",
       "      <td>5</td>\n",
       "    </tr>\n",
       "    <tr>\n",
       "      <th>2022-06-01</th>\n",
       "      <td>4224234379</td>\n",
       "      <td>2127131468</td>\n",
       "      <td>Paolo Santi</td>\n",
       "      <td>63966007</td>\n",
       "      <td>[2306505153, 2917502338, 2980553576, 422456778...</td>\n",
       "      <td>[[2227979777, 4226688578, 4226688579, 27376135...</td>\n",
       "      <td>0.000000</td>\n",
       "      <td>5</td>\n",
       "    </tr>\n",
       "    <tr>\n",
       "      <th>2022-06-01</th>\n",
       "      <td>4224234379</td>\n",
       "      <td>2127131468</td>\n",
       "      <td>Paolo Santi</td>\n",
       "      <td>4210130157</td>\n",
       "      <td>[2306505153, 2917502338, 2980553576, 422456778...</td>\n",
       "      <td>[[2306505153, 2152357223, 2571495213, 25872663...</td>\n",
       "      <td>0.000000</td>\n",
       "      <td>5</td>\n",
       "    </tr>\n",
       "  </tbody>\n",
       "</table>\n",
       "<p>380 rows × 8 columns</p>\n",
       "</div>"
      ],
      "text/plain": [
       "                     work_id   author_id      author_name  institution_id  \\\n",
       "publication_date                                                            \n",
       "2017-01-01        2597768936  2113839928      Carlo Ratti            <NA>   \n",
       "2017-01-01        2743414500  2113839928      Carlo Ratti            <NA>   \n",
       "2017-01-01        2754261237  2113839928      Carlo Ratti        63966007   \n",
       "2017-01-01        2764360978  2127131468      Paolo Santi        63966007   \n",
       "2017-01-01        2754261237  2127131468      Paolo Santi        63966007   \n",
       "...                      ...         ...              ...             ...   \n",
       "2022-05-13        3204399149  2122189410  Santo Fortunato            <NA>   \n",
       "2022-05-17        4280593352  2127131468      Paolo Santi        63966007   \n",
       "2022-05-17        4280593352  2127131468      Paolo Santi      4210130157   \n",
       "2022-06-01        4224234379  2127131468      Paolo Santi        63966007   \n",
       "2022-06-01        4224234379  2127131468      Paolo Santi      4210130157   \n",
       "\n",
       "                                                          coauthors  \\\n",
       "publication_date                                                      \n",
       "2017-01-01                                             [2303729449]   \n",
       "2017-01-01        [2342688999, 2164998664, 2032565163, 212713146...   \n",
       "2017-01-01         [2127131468, 1270670167, 2121986678, 2490743655]   \n",
       "2017-01-01        [2155208067, 2098713349, 2196641131, 256814961...   \n",
       "2017-01-01         [2113839928, 1270670167, 2121986678, 2490743655]   \n",
       "...                                                             ...   \n",
       "2022-05-13          [2793809274, 2469326107, 115369229, 2505591981]   \n",
       "2022-05-17                                 [4280714948, 4280714949]   \n",
       "2022-05-17                                 [4280714948, 4280714949]   \n",
       "2022-06-01        [2306505153, 2917502338, 2980553576, 422456778...   \n",
       "2022-06-01        [2306505153, 2917502338, 2980553576, 422456778...   \n",
       "\n",
       "                                                  rolling_coauthors  \\\n",
       "publication_date                                                      \n",
       "2017-01-01                                           [[2303729449]]   \n",
       "2017-01-01        [[2303729449], [3031885824, 2746258369, 302906...   \n",
       "2017-01-01        [[2303729449], [3031885824, 2746258369, 302906...   \n",
       "2017-01-01        [[2342688999, 2164998664, 2032565163, 21138399...   \n",
       "2017-01-01        [[2342688999, 2164998664, 2032565163, 21138399...   \n",
       "...                                                             ...   \n",
       "2022-05-13        [[2000084066, 3093826758, 2604826445, 30940716...   \n",
       "2022-05-17        [[3215420100, 2152357223, 2095630856, 26511244...   \n",
       "2022-05-17        [[2306505153, 2152357223, 2571495213, 25872663...   \n",
       "2022-06-01        [[2227979777, 4226688578, 4226688579, 27376135...   \n",
       "2022-06-01        [[2306505153, 2152357223, 2571495213, 25872663...   \n",
       "\n",
       "                  rolling_jaccard  window_size  \n",
       "publication_date                                \n",
       "2017-01-01               1.000000            5  \n",
       "2017-01-01               0.000000            5  \n",
       "2017-01-01               0.000000            5  \n",
       "2017-01-01               0.066667            5  \n",
       "2017-01-01               0.111111            5  \n",
       "...                           ...          ...  \n",
       "2022-05-13               0.000000            5  \n",
       "2022-05-17               0.000000            5  \n",
       "2022-05-17               0.000000            5  \n",
       "2022-06-01               0.000000            5  \n",
       "2022-06-01               0.000000            5  \n",
       "\n",
       "[380 rows x 8 columns]"
      ]
     },
     "execution_count": 351,
     "metadata": {},
     "output_type": "execute_result"
    }
   ],
   "source": [
    "rolling_window_size = 5\n",
    "\n",
    "if combined_df is None:\n",
    "    combined_df = (\n",
    "        pd.concat([\n",
    "        rolling_iou_author(author_id=aid, works_authors=works_authors_df, window_size=rolling_window_size)\n",
    "        for aid in tqdm(author_ids)])\n",
    "        .sort_index()\n",
    "    )\n",
    "else:\n",
    "    new_aids = [aid for aid in author_ids if aid not in set(combined_df.author_id)]\n",
    "    new_dfs = [rolling_iou_author(author_id=aid, works_authors=works_authors_df, window_size=rolling_window_size)\n",
    "                for aid in tqdm(new_aids)]\n",
    "    combined_df = (\n",
    "        pd.concat([combined_df, *new_dfs])\n",
    "    ).sort_index()\n",
    "combined_df"
   ]
  },
  {
   "cell_type": "code",
   "execution_count": 358,
   "id": "160e16b6-d563-4f85-ab52-b369fe131c39",
   "metadata": {
    "execution": {
     "iopub.execute_input": "2022-10-12T20:30:16.537284Z",
     "iopub.status.busy": "2022-10-12T20:30:16.536651Z",
     "iopub.status.idle": "2022-10-12T20:30:16.590659Z",
     "shell.execute_reply": "2022-10-12T20:30:16.589759Z",
     "shell.execute_reply.started": "2022-10-12T20:30:16.537233Z"
    },
    "tags": []
   },
   "outputs": [
    {
     "data": {
      "text/html": [
       "<div>\n",
       "<style scoped>\n",
       "    .dataframe tbody tr th:only-of-type {\n",
       "        vertical-align: middle;\n",
       "    }\n",
       "\n",
       "    .dataframe tbody tr th {\n",
       "        vertical-align: top;\n",
       "    }\n",
       "\n",
       "    .dataframe thead th {\n",
       "        text-align: right;\n",
       "    }\n",
       "</style>\n",
       "<table border=\"1\" class=\"dataframe\">\n",
       "  <thead>\n",
       "    <tr style=\"text-align: right;\">\n",
       "      <th></th>\n",
       "      <th>work_id</th>\n",
       "      <th>author_id</th>\n",
       "      <th>author_name</th>\n",
       "      <th>institution_id</th>\n",
       "      <th>coauthors</th>\n",
       "      <th>rolling_coauthors</th>\n",
       "      <th>rolling_jaccard</th>\n",
       "      <th>window_size</th>\n",
       "    </tr>\n",
       "    <tr>\n",
       "      <th>publication_date</th>\n",
       "      <th></th>\n",
       "      <th></th>\n",
       "      <th></th>\n",
       "      <th></th>\n",
       "      <th></th>\n",
       "      <th></th>\n",
       "      <th></th>\n",
       "      <th></th>\n",
       "    </tr>\n",
       "  </thead>\n",
       "  <tbody>\n",
       "    <tr>\n",
       "      <th>2017-01-01</th>\n",
       "      <td>2597768936</td>\n",
       "      <td>2113839928</td>\n",
       "      <td>Carlo Ratti</td>\n",
       "      <td>&lt;NA&gt;</td>\n",
       "      <td>[2303729449]</td>\n",
       "      <td>[[2303729449]]</td>\n",
       "      <td>1.000000</td>\n",
       "      <td>5</td>\n",
       "    </tr>\n",
       "    <tr>\n",
       "      <th>2017-01-01</th>\n",
       "      <td>2764360978</td>\n",
       "      <td>2127131468</td>\n",
       "      <td>Paolo Santi</td>\n",
       "      <td>63966007</td>\n",
       "      <td>[2155208067, 2098713349, 2196641131, 256814961...</td>\n",
       "      <td>[[2342688999, 2164998664, 2032565163, 21138399...</td>\n",
       "      <td>0.066667</td>\n",
       "      <td>5</td>\n",
       "    </tr>\n",
       "    <tr>\n",
       "      <th>2017-01-01</th>\n",
       "      <td>2754261237</td>\n",
       "      <td>2127131468</td>\n",
       "      <td>Paolo Santi</td>\n",
       "      <td>63966007</td>\n",
       "      <td>[2113839928, 1270670167, 2121986678, 2490743655]</td>\n",
       "      <td>[[2342688999, 2164998664, 2032565163, 21138399...</td>\n",
       "      <td>0.111111</td>\n",
       "      <td>5</td>\n",
       "    </tr>\n",
       "    <tr>\n",
       "      <th>2017-01-01</th>\n",
       "      <td>2743414500</td>\n",
       "      <td>2127131468</td>\n",
       "      <td>Paolo Santi</td>\n",
       "      <td>&lt;NA&gt;</td>\n",
       "      <td>[2342688999, 2164998664, 2032565163, 211383992...</td>\n",
       "      <td>[[2342688999, 2164998664, 2032565163, 21138399...</td>\n",
       "      <td>1.000000</td>\n",
       "      <td>5</td>\n",
       "    </tr>\n",
       "    <tr>\n",
       "      <th>2017-02-04</th>\n",
       "      <td>2963503534</td>\n",
       "      <td>2037649753</td>\n",
       "      <td>Tim Weninger</td>\n",
       "      <td>107639228</td>\n",
       "      <td>[2222650814]</td>\n",
       "      <td>[[2222650814]]</td>\n",
       "      <td>1.000000</td>\n",
       "      <td>5</td>\n",
       "    </tr>\n",
       "    <tr>\n",
       "      <th>2017-03-01</th>\n",
       "      <td>2559662652</td>\n",
       "      <td>2037649753</td>\n",
       "      <td>Tim Weninger</td>\n",
       "      <td>107639228</td>\n",
       "      <td>[2222650814, 3157462175]</td>\n",
       "      <td>[[2222650814], [2222650814, 3157462175]]</td>\n",
       "      <td>0.500000</td>\n",
       "      <td>5</td>\n",
       "    </tr>\n",
       "    <tr>\n",
       "      <th>2017-04-01</th>\n",
       "      <td>2604374094</td>\n",
       "      <td>2122189410</td>\n",
       "      <td>Santo Fortunato</td>\n",
       "      <td>&lt;NA&gt;</td>\n",
       "      <td>[2156931689, 2105367364, 2037037628, 2074066684]</td>\n",
       "      <td>[[2156931689, 2105367364, 2037037628, 20740666...</td>\n",
       "      <td>1.000000</td>\n",
       "      <td>5</td>\n",
       "    </tr>\n",
       "    <tr>\n",
       "      <th>2018-11-01</th>\n",
       "      <td>2964215131</td>\n",
       "      <td>2037649753</td>\n",
       "      <td>Tim Weninger</td>\n",
       "      <td>107639228</td>\n",
       "      <td>[3205281731, 2020459140, 2229551975]</td>\n",
       "      <td>[[2170978862, 2229551975], [2170978862, 222955...</td>\n",
       "      <td>0.250000</td>\n",
       "      <td>5</td>\n",
       "    </tr>\n",
       "    <tr>\n",
       "      <th>2018-11-21</th>\n",
       "      <td>3102739576</td>\n",
       "      <td>2037649753</td>\n",
       "      <td>Tim Weninger</td>\n",
       "      <td>107639228</td>\n",
       "      <td>[2170978862, 2229551975]</td>\n",
       "      <td>[[2170978862, 2229551975], [2170978862, 222955...</td>\n",
       "      <td>0.250000</td>\n",
       "      <td>5</td>\n",
       "    </tr>\n",
       "    <tr>\n",
       "      <th>2018-12-09</th>\n",
       "      <td>2901048557</td>\n",
       "      <td>2037649753</td>\n",
       "      <td>Tim Weninger</td>\n",
       "      <td>107639228</td>\n",
       "      <td>[2170978862, 2229551975]</td>\n",
       "      <td>[[2170978862, 2229551975], [3205281731, 202045...</td>\n",
       "      <td>0.250000</td>\n",
       "      <td>5</td>\n",
       "    </tr>\n",
       "    <tr>\n",
       "      <th>2019-09-15</th>\n",
       "      <td>2944759666</td>\n",
       "      <td>2127131468</td>\n",
       "      <td>Paolo Santi</td>\n",
       "      <td>63966007</td>\n",
       "      <td>[2573236007, 2122290892, 2075890349, 294413623...</td>\n",
       "      <td>[[2113839928, 2641625478, 2490743655], [211383...</td>\n",
       "      <td>0.050000</td>\n",
       "      <td>5</td>\n",
       "    </tr>\n",
       "    <tr>\n",
       "      <th>2020-01-01</th>\n",
       "      <td>3102886046</td>\n",
       "      <td>2127131468</td>\n",
       "      <td>Paolo Santi</td>\n",
       "      <td>63966007</td>\n",
       "      <td>[2553878511, 2113839928, 3099226554, 919181019...</td>\n",
       "      <td>[[2113839928, 2234255818, 2011487051, 24348052...</td>\n",
       "      <td>0.071429</td>\n",
       "      <td>5</td>\n",
       "    </tr>\n",
       "    <tr>\n",
       "      <th>2020-02-17</th>\n",
       "      <td>3006223130</td>\n",
       "      <td>2127131468</td>\n",
       "      <td>Paolo Santi</td>\n",
       "      <td>63966007</td>\n",
       "      <td>[2184855622, 2490743655, 2113786477, 259220466...</td>\n",
       "      <td>[[2113839928, 2641167929], [2113839928, 230650...</td>\n",
       "      <td>0.062500</td>\n",
       "      <td>5</td>\n",
       "    </tr>\n",
       "    <tr>\n",
       "      <th>2020-05-01</th>\n",
       "      <td>3013760806</td>\n",
       "      <td>2127131468</td>\n",
       "      <td>Paolo Santi</td>\n",
       "      <td>63966007</td>\n",
       "      <td>[2113839928, 2306505153, 1222462685, 2805501479]</td>\n",
       "      <td>[[2113839928, 2306505153, 2143220870, 21523572...</td>\n",
       "      <td>0.055556</td>\n",
       "      <td>5</td>\n",
       "    </tr>\n",
       "    <tr>\n",
       "      <th>2021-03-02</th>\n",
       "      <td>3134153536</td>\n",
       "      <td>2127131468</td>\n",
       "      <td>Paolo Santi</td>\n",
       "      <td>&lt;NA&gt;</td>\n",
       "      <td>[2113839928, 2641167929, 3135274437, 3147466047]</td>\n",
       "      <td>[[2113839928, 2641167929, 2911518081], [280550...</td>\n",
       "      <td>0.038462</td>\n",
       "      <td>5</td>\n",
       "    </tr>\n",
       "    <tr>\n",
       "      <th>2021-03-09</th>\n",
       "      <td>3135754616</td>\n",
       "      <td>2127131468</td>\n",
       "      <td>Paolo Santi</td>\n",
       "      <td>63966007</td>\n",
       "      <td>[2768876198, 3135491063, 2113839928, 214167807...</td>\n",
       "      <td>[[2805501479, 185943888, 2154228660, 211383992...</td>\n",
       "      <td>0.035714</td>\n",
       "      <td>5</td>\n",
       "    </tr>\n",
       "    <tr>\n",
       "      <th>2021-03-12</th>\n",
       "      <td>3139229385</td>\n",
       "      <td>2127131468</td>\n",
       "      <td>Paolo Santi</td>\n",
       "      <td>63966007</td>\n",
       "      <td>[2898694112, 2222495681, 2141776516, 214957201...</td>\n",
       "      <td>[[2121853186, 2978219178, 2011487051, 21138399...</td>\n",
       "      <td>0.033333</td>\n",
       "      <td>5</td>\n",
       "    </tr>\n",
       "    <tr>\n",
       "      <th>2021-03-15</th>\n",
       "      <td>3206124495</td>\n",
       "      <td>2127131468</td>\n",
       "      <td>Paolo Santi</td>\n",
       "      <td>63966007</td>\n",
       "      <td>[2898694112, 2222495681, 2141776516, 214957201...</td>\n",
       "      <td>[[2306505153, 2567014438, 2095630856, 26511244...</td>\n",
       "      <td>0.038462</td>\n",
       "      <td>5</td>\n",
       "    </tr>\n",
       "    <tr>\n",
       "      <th>2021-03-16</th>\n",
       "      <td>3138188871</td>\n",
       "      <td>2127131468</td>\n",
       "      <td>Paolo Santi</td>\n",
       "      <td>63966007</td>\n",
       "      <td>[2011487051, 2229471756, 2113839928, 313656610...</td>\n",
       "      <td>[[2113839928, 2641167929, 3135274437, 31474660...</td>\n",
       "      <td>0.058824</td>\n",
       "      <td>5</td>\n",
       "    </tr>\n",
       "    <tr>\n",
       "      <th>2021-03-16</th>\n",
       "      <td>3138258418</td>\n",
       "      <td>2113839928</td>\n",
       "      <td>Carlo Ratti</td>\n",
       "      <td>63966007</td>\n",
       "      <td>[2641167929, 2127131468, 2982227062]</td>\n",
       "      <td>[[2768876198, 2127131468, 3135491063, 21416780...</td>\n",
       "      <td>0.058824</td>\n",
       "      <td>5</td>\n",
       "    </tr>\n",
       "    <tr>\n",
       "      <th>2021-03-16</th>\n",
       "      <td>3138258418</td>\n",
       "      <td>2127131468</td>\n",
       "      <td>Paolo Santi</td>\n",
       "      <td>63966007</td>\n",
       "      <td>[2113839928, 2641167929, 2982227062]</td>\n",
       "      <td>[[2768876198, 3135491063, 2113839928, 21416780...</td>\n",
       "      <td>0.058824</td>\n",
       "      <td>5</td>\n",
       "    </tr>\n",
       "    <tr>\n",
       "      <th>2021-03-19</th>\n",
       "      <td>3137782148</td>\n",
       "      <td>2113839928</td>\n",
       "      <td>Carlo Ratti</td>\n",
       "      <td>&lt;NA&gt;</td>\n",
       "      <td>[2122290892, 2127131468, 1978479091, 310302789...</td>\n",
       "      <td>[[2898694112, 2222495681, 2141776516, 21495720...</td>\n",
       "      <td>0.058824</td>\n",
       "      <td>5</td>\n",
       "    </tr>\n",
       "    <tr>\n",
       "      <th>2021-03-19</th>\n",
       "      <td>3137782148</td>\n",
       "      <td>2127131468</td>\n",
       "      <td>Paolo Santi</td>\n",
       "      <td>&lt;NA&gt;</td>\n",
       "      <td>[2122290892, 1978479091, 3103027891, 211383992...</td>\n",
       "      <td>[[2898694112, 2222495681, 2141776516, 21495720...</td>\n",
       "      <td>0.058824</td>\n",
       "      <td>5</td>\n",
       "    </tr>\n",
       "    <tr>\n",
       "      <th>2021-03-30</th>\n",
       "      <td>3149405166</td>\n",
       "      <td>2127131468</td>\n",
       "      <td>Paolo Santi</td>\n",
       "      <td>63966007</td>\n",
       "      <td>[2306505153, 2477318615, 3082970181, 215235722...</td>\n",
       "      <td>[[2898694112, 2222495681, 2141776516, 21495720...</td>\n",
       "      <td>0.038462</td>\n",
       "      <td>5</td>\n",
       "    </tr>\n",
       "    <tr>\n",
       "      <th>2021-03-30</th>\n",
       "      <td>3149405166</td>\n",
       "      <td>2113839928</td>\n",
       "      <td>Carlo Ratti</td>\n",
       "      <td>63966007</td>\n",
       "      <td>[2306505153, 2477318615, 3082970181, 215235722...</td>\n",
       "      <td>[[2898694112, 2222495681, 2141776516, 21495720...</td>\n",
       "      <td>0.038462</td>\n",
       "      <td>5</td>\n",
       "    </tr>\n",
       "    <tr>\n",
       "      <th>2022-01-01</th>\n",
       "      <td>4206136724</td>\n",
       "      <td>2127131468</td>\n",
       "      <td>Paolo Santi</td>\n",
       "      <td>4210130157</td>\n",
       "      <td>[2306505153, 2152357223, 2571495213, 258726638...</td>\n",
       "      <td>[[2144958336, 2113839928, 2138141795, 25538785...</td>\n",
       "      <td>0.045455</td>\n",
       "      <td>5</td>\n",
       "    </tr>\n",
       "  </tbody>\n",
       "</table>\n",
       "</div>"
      ],
      "text/plain": [
       "                     work_id   author_id      author_name  institution_id  \\\n",
       "publication_date                                                            \n",
       "2017-01-01        2597768936  2113839928      Carlo Ratti            <NA>   \n",
       "2017-01-01        2764360978  2127131468      Paolo Santi        63966007   \n",
       "2017-01-01        2754261237  2127131468      Paolo Santi        63966007   \n",
       "2017-01-01        2743414500  2127131468      Paolo Santi            <NA>   \n",
       "2017-02-04        2963503534  2037649753     Tim Weninger       107639228   \n",
       "2017-03-01        2559662652  2037649753     Tim Weninger       107639228   \n",
       "2017-04-01        2604374094  2122189410  Santo Fortunato            <NA>   \n",
       "2018-11-01        2964215131  2037649753     Tim Weninger       107639228   \n",
       "2018-11-21        3102739576  2037649753     Tim Weninger       107639228   \n",
       "2018-12-09        2901048557  2037649753     Tim Weninger       107639228   \n",
       "2019-09-15        2944759666  2127131468      Paolo Santi        63966007   \n",
       "2020-01-01        3102886046  2127131468      Paolo Santi        63966007   \n",
       "2020-02-17        3006223130  2127131468      Paolo Santi        63966007   \n",
       "2020-05-01        3013760806  2127131468      Paolo Santi        63966007   \n",
       "2021-03-02        3134153536  2127131468      Paolo Santi            <NA>   \n",
       "2021-03-09        3135754616  2127131468      Paolo Santi        63966007   \n",
       "2021-03-12        3139229385  2127131468      Paolo Santi        63966007   \n",
       "2021-03-15        3206124495  2127131468      Paolo Santi        63966007   \n",
       "2021-03-16        3138188871  2127131468      Paolo Santi        63966007   \n",
       "2021-03-16        3138258418  2113839928      Carlo Ratti        63966007   \n",
       "2021-03-16        3138258418  2127131468      Paolo Santi        63966007   \n",
       "2021-03-19        3137782148  2113839928      Carlo Ratti            <NA>   \n",
       "2021-03-19        3137782148  2127131468      Paolo Santi            <NA>   \n",
       "2021-03-30        3149405166  2127131468      Paolo Santi        63966007   \n",
       "2021-03-30        3149405166  2113839928      Carlo Ratti        63966007   \n",
       "2022-01-01        4206136724  2127131468      Paolo Santi      4210130157   \n",
       "\n",
       "                                                          coauthors  \\\n",
       "publication_date                                                      \n",
       "2017-01-01                                             [2303729449]   \n",
       "2017-01-01        [2155208067, 2098713349, 2196641131, 256814961...   \n",
       "2017-01-01         [2113839928, 1270670167, 2121986678, 2490743655]   \n",
       "2017-01-01        [2342688999, 2164998664, 2032565163, 211383992...   \n",
       "2017-02-04                                             [2222650814]   \n",
       "2017-03-01                                 [2222650814, 3157462175]   \n",
       "2017-04-01         [2156931689, 2105367364, 2037037628, 2074066684]   \n",
       "2018-11-01                     [3205281731, 2020459140, 2229551975]   \n",
       "2018-11-21                                 [2170978862, 2229551975]   \n",
       "2018-12-09                                 [2170978862, 2229551975]   \n",
       "2019-09-15        [2573236007, 2122290892, 2075890349, 294413623...   \n",
       "2020-01-01        [2553878511, 2113839928, 3099226554, 919181019...   \n",
       "2020-02-17        [2184855622, 2490743655, 2113786477, 259220466...   \n",
       "2020-05-01         [2113839928, 2306505153, 1222462685, 2805501479]   \n",
       "2021-03-02         [2113839928, 2641167929, 3135274437, 3147466047]   \n",
       "2021-03-09        [2768876198, 3135491063, 2113839928, 214167807...   \n",
       "2021-03-12        [2898694112, 2222495681, 2141776516, 214957201...   \n",
       "2021-03-15        [2898694112, 2222495681, 2141776516, 214957201...   \n",
       "2021-03-16        [2011487051, 2229471756, 2113839928, 313656610...   \n",
       "2021-03-16                     [2641167929, 2127131468, 2982227062]   \n",
       "2021-03-16                     [2113839928, 2641167929, 2982227062]   \n",
       "2021-03-19        [2122290892, 2127131468, 1978479091, 310302789...   \n",
       "2021-03-19        [2122290892, 1978479091, 3103027891, 211383992...   \n",
       "2021-03-30        [2306505153, 2477318615, 3082970181, 215235722...   \n",
       "2021-03-30        [2306505153, 2477318615, 3082970181, 215235722...   \n",
       "2022-01-01        [2306505153, 2152357223, 2571495213, 258726638...   \n",
       "\n",
       "                                                  rolling_coauthors  \\\n",
       "publication_date                                                      \n",
       "2017-01-01                                           [[2303729449]]   \n",
       "2017-01-01        [[2342688999, 2164998664, 2032565163, 21138399...   \n",
       "2017-01-01        [[2342688999, 2164998664, 2032565163, 21138399...   \n",
       "2017-01-01        [[2342688999, 2164998664, 2032565163, 21138399...   \n",
       "2017-02-04                                           [[2222650814]]   \n",
       "2017-03-01                 [[2222650814], [2222650814, 3157462175]]   \n",
       "2017-04-01        [[2156931689, 2105367364, 2037037628, 20740666...   \n",
       "2018-11-01        [[2170978862, 2229551975], [2170978862, 222955...   \n",
       "2018-11-21        [[2170978862, 2229551975], [2170978862, 222955...   \n",
       "2018-12-09        [[2170978862, 2229551975], [3205281731, 202045...   \n",
       "2019-09-15        [[2113839928, 2641625478, 2490743655], [211383...   \n",
       "2020-01-01        [[2113839928, 2234255818, 2011487051, 24348052...   \n",
       "2020-02-17        [[2113839928, 2641167929], [2113839928, 230650...   \n",
       "2020-05-01        [[2113839928, 2306505153, 2143220870, 21523572...   \n",
       "2021-03-02        [[2113839928, 2641167929, 2911518081], [280550...   \n",
       "2021-03-09        [[2805501479, 185943888, 2154228660, 211383992...   \n",
       "2021-03-12        [[2121853186, 2978219178, 2011487051, 21138399...   \n",
       "2021-03-15        [[2306505153, 2567014438, 2095630856, 26511244...   \n",
       "2021-03-16        [[2113839928, 2641167929, 3135274437, 31474660...   \n",
       "2021-03-16        [[2768876198, 2127131468, 3135491063, 21416780...   \n",
       "2021-03-16        [[2768876198, 3135491063, 2113839928, 21416780...   \n",
       "2021-03-19        [[2898694112, 2222495681, 2141776516, 21495720...   \n",
       "2021-03-19        [[2898694112, 2222495681, 2141776516, 21495720...   \n",
       "2021-03-30        [[2898694112, 2222495681, 2141776516, 21495720...   \n",
       "2021-03-30        [[2898694112, 2222495681, 2141776516, 21495720...   \n",
       "2022-01-01        [[2144958336, 2113839928, 2138141795, 25538785...   \n",
       "\n",
       "                  rolling_jaccard  window_size  \n",
       "publication_date                                \n",
       "2017-01-01               1.000000            5  \n",
       "2017-01-01               0.066667            5  \n",
       "2017-01-01               0.111111            5  \n",
       "2017-01-01               1.000000            5  \n",
       "2017-02-04               1.000000            5  \n",
       "2017-03-01               0.500000            5  \n",
       "2017-04-01               1.000000            5  \n",
       "2018-11-01               0.250000            5  \n",
       "2018-11-21               0.250000            5  \n",
       "2018-12-09               0.250000            5  \n",
       "2019-09-15               0.050000            5  \n",
       "2020-01-01               0.071429            5  \n",
       "2020-02-17               0.062500            5  \n",
       "2020-05-01               0.055556            5  \n",
       "2021-03-02               0.038462            5  \n",
       "2021-03-09               0.035714            5  \n",
       "2021-03-12               0.033333            5  \n",
       "2021-03-15               0.038462            5  \n",
       "2021-03-16               0.058824            5  \n",
       "2021-03-16               0.058824            5  \n",
       "2021-03-16               0.058824            5  \n",
       "2021-03-19               0.058824            5  \n",
       "2021-03-19               0.058824            5  \n",
       "2021-03-30               0.038462            5  \n",
       "2021-03-30               0.038462            5  \n",
       "2022-01-01               0.045455            5  "
      ]
     },
     "execution_count": 358,
     "metadata": {},
     "output_type": "execute_result"
    }
   ],
   "source": [
    "(\n",
    "    combined_df\n",
    "    .query('rolling_jaccard>0')\n",
    ")"
   ]
  },
  {
   "cell_type": "code",
   "execution_count": 354,
   "id": "7b039d0a-2d7b-4be7-a33b-d88c07127049",
   "metadata": {
    "execution": {
     "iopub.execute_input": "2022-10-12T20:28:59.725180Z",
     "iopub.status.busy": "2022-10-12T20:28:59.724526Z",
     "iopub.status.idle": "2022-10-12T20:29:23.317485Z",
     "shell.execute_reply": "2022-10-12T20:29:23.316204Z",
     "shell.execute_reply.started": "2022-10-12T20:28:59.725128Z"
    },
    "tags": []
   },
   "outputs": [
    {
     "data": {
      "application/vnd.jupyter.widget-view+json": {
       "model_id": "e55158f277804850b139511856189457",
       "version_major": 2,
       "version_minor": 0
      },
      "text/plain": [
       "  0%|          | 0/4 [00:00<?, ?it/s]"
      ]
     },
     "metadata": {},
     "output_type": "display_data"
    },
    {
     "data": {
      "text/html": [
       "<div>\n",
       "<style scoped>\n",
       "    .dataframe tbody tr th:only-of-type {\n",
       "        vertical-align: middle;\n",
       "    }\n",
       "\n",
       "    .dataframe tbody tr th {\n",
       "        vertical-align: top;\n",
       "    }\n",
       "\n",
       "    .dataframe thead th {\n",
       "        text-align: right;\n",
       "    }\n",
       "</style>\n",
       "<table border=\"1\" class=\"dataframe\">\n",
       "  <thead>\n",
       "    <tr style=\"text-align: right;\">\n",
       "      <th></th>\n",
       "      <th>work_id</th>\n",
       "      <th>author_id</th>\n",
       "      <th>author_name</th>\n",
       "      <th>institution_id</th>\n",
       "      <th>coauthors</th>\n",
       "      <th>rolling_coauthors</th>\n",
       "      <th>rolling_jaccard</th>\n",
       "      <th>window_size</th>\n",
       "    </tr>\n",
       "    <tr>\n",
       "      <th>publication_date</th>\n",
       "      <th></th>\n",
       "      <th></th>\n",
       "      <th></th>\n",
       "      <th></th>\n",
       "      <th></th>\n",
       "      <th></th>\n",
       "      <th></th>\n",
       "      <th></th>\n",
       "    </tr>\n",
       "  </thead>\n",
       "  <tbody>\n",
       "    <tr>\n",
       "      <th>2017-01-01</th>\n",
       "      <td>2597768936</td>\n",
       "      <td>2113839928</td>\n",
       "      <td>Carlo Ratti</td>\n",
       "      <td>&lt;NA&gt;</td>\n",
       "      <td>[2303729449]</td>\n",
       "      <td>[[2303729449]]</td>\n",
       "      <td>1.000000</td>\n",
       "      <td>365D</td>\n",
       "    </tr>\n",
       "    <tr>\n",
       "      <th>2017-01-01</th>\n",
       "      <td>2743414500</td>\n",
       "      <td>2113839928</td>\n",
       "      <td>Carlo Ratti</td>\n",
       "      <td>&lt;NA&gt;</td>\n",
       "      <td>[2342688999, 2164998664, 2032565163, 212713146...</td>\n",
       "      <td>[[2303729449], [3031885824, 2746258369, 302906...</td>\n",
       "      <td>0.000000</td>\n",
       "      <td>365D</td>\n",
       "    </tr>\n",
       "    <tr>\n",
       "      <th>2017-01-01</th>\n",
       "      <td>2754261237</td>\n",
       "      <td>2113839928</td>\n",
       "      <td>Carlo Ratti</td>\n",
       "      <td>63966007</td>\n",
       "      <td>[2127131468, 1270670167, 2121986678, 2490743655]</td>\n",
       "      <td>[[2303729449], [3031885824, 2746258369, 302906...</td>\n",
       "      <td>0.000000</td>\n",
       "      <td>365D</td>\n",
       "    </tr>\n",
       "    <tr>\n",
       "      <th>2017-01-01</th>\n",
       "      <td>2764360978</td>\n",
       "      <td>2127131468</td>\n",
       "      <td>Paolo Santi</td>\n",
       "      <td>63966007</td>\n",
       "      <td>[2155208067, 2098713349, 2196641131, 256814961...</td>\n",
       "      <td>[[2342688999, 2164998664, 2032565163, 21138399...</td>\n",
       "      <td>0.066667</td>\n",
       "      <td>365D</td>\n",
       "    </tr>\n",
       "    <tr>\n",
       "      <th>2017-01-01</th>\n",
       "      <td>2754261237</td>\n",
       "      <td>2127131468</td>\n",
       "      <td>Paolo Santi</td>\n",
       "      <td>63966007</td>\n",
       "      <td>[2113839928, 1270670167, 2121986678, 2490743655]</td>\n",
       "      <td>[[2342688999, 2164998664, 2032565163, 21138399...</td>\n",
       "      <td>0.111111</td>\n",
       "      <td>365D</td>\n",
       "    </tr>\n",
       "    <tr>\n",
       "      <th>...</th>\n",
       "      <td>...</td>\n",
       "      <td>...</td>\n",
       "      <td>...</td>\n",
       "      <td>...</td>\n",
       "      <td>...</td>\n",
       "      <td>...</td>\n",
       "      <td>...</td>\n",
       "      <td>...</td>\n",
       "    </tr>\n",
       "    <tr>\n",
       "      <th>2022-05-13</th>\n",
       "      <td>3204399149</td>\n",
       "      <td>2122189410</td>\n",
       "      <td>Santo Fortunato</td>\n",
       "      <td>&lt;NA&gt;</td>\n",
       "      <td>[2793809274, 2469326107, 115369229, 2505591981]</td>\n",
       "      <td>[[2248192384, 2148494662, 2980714778, 84223386...</td>\n",
       "      <td>0.100000</td>\n",
       "      <td>365D</td>\n",
       "    </tr>\n",
       "    <tr>\n",
       "      <th>2022-05-17</th>\n",
       "      <td>4280593352</td>\n",
       "      <td>2127131468</td>\n",
       "      <td>Paolo Santi</td>\n",
       "      <td>63966007</td>\n",
       "      <td>[4280714948, 4280714949]</td>\n",
       "      <td>[[2184855622, 2490743655, 2164998664, 21137864...</td>\n",
       "      <td>0.000000</td>\n",
       "      <td>365D</td>\n",
       "    </tr>\n",
       "    <tr>\n",
       "      <th>2022-05-17</th>\n",
       "      <td>4280593352</td>\n",
       "      <td>2127131468</td>\n",
       "      <td>Paolo Santi</td>\n",
       "      <td>4210130157</td>\n",
       "      <td>[4280714948, 4280714949]</td>\n",
       "      <td>[[2184855622, 2490743655, 2164998664, 21137864...</td>\n",
       "      <td>0.000000</td>\n",
       "      <td>365D</td>\n",
       "    </tr>\n",
       "    <tr>\n",
       "      <th>2022-06-01</th>\n",
       "      <td>4224234379</td>\n",
       "      <td>2127131468</td>\n",
       "      <td>Paolo Santi</td>\n",
       "      <td>63966007</td>\n",
       "      <td>[2306505153, 2917502338, 2980553576, 422456778...</td>\n",
       "      <td>[[2440824083, 2146357355, 2122290892, 21164468...</td>\n",
       "      <td>0.000000</td>\n",
       "      <td>365D</td>\n",
       "    </tr>\n",
       "    <tr>\n",
       "      <th>2022-06-01</th>\n",
       "      <td>4224234379</td>\n",
       "      <td>2127131468</td>\n",
       "      <td>Paolo Santi</td>\n",
       "      <td>4210130157</td>\n",
       "      <td>[2306505153, 2917502338, 2980553576, 422456778...</td>\n",
       "      <td>[[2440824083, 2146357355, 2122290892, 21164468...</td>\n",
       "      <td>0.000000</td>\n",
       "      <td>365D</td>\n",
       "    </tr>\n",
       "  </tbody>\n",
       "</table>\n",
       "<p>380 rows × 8 columns</p>\n",
       "</div>"
      ],
      "text/plain": [
       "                     work_id   author_id      author_name  institution_id  \\\n",
       "publication_date                                                            \n",
       "2017-01-01        2597768936  2113839928      Carlo Ratti            <NA>   \n",
       "2017-01-01        2743414500  2113839928      Carlo Ratti            <NA>   \n",
       "2017-01-01        2754261237  2113839928      Carlo Ratti        63966007   \n",
       "2017-01-01        2764360978  2127131468      Paolo Santi        63966007   \n",
       "2017-01-01        2754261237  2127131468      Paolo Santi        63966007   \n",
       "...                      ...         ...              ...             ...   \n",
       "2022-05-13        3204399149  2122189410  Santo Fortunato            <NA>   \n",
       "2022-05-17        4280593352  2127131468      Paolo Santi        63966007   \n",
       "2022-05-17        4280593352  2127131468      Paolo Santi      4210130157   \n",
       "2022-06-01        4224234379  2127131468      Paolo Santi        63966007   \n",
       "2022-06-01        4224234379  2127131468      Paolo Santi      4210130157   \n",
       "\n",
       "                                                          coauthors  \\\n",
       "publication_date                                                      \n",
       "2017-01-01                                             [2303729449]   \n",
       "2017-01-01        [2342688999, 2164998664, 2032565163, 212713146...   \n",
       "2017-01-01         [2127131468, 1270670167, 2121986678, 2490743655]   \n",
       "2017-01-01        [2155208067, 2098713349, 2196641131, 256814961...   \n",
       "2017-01-01         [2113839928, 1270670167, 2121986678, 2490743655]   \n",
       "...                                                             ...   \n",
       "2022-05-13          [2793809274, 2469326107, 115369229, 2505591981]   \n",
       "2022-05-17                                 [4280714948, 4280714949]   \n",
       "2022-05-17                                 [4280714948, 4280714949]   \n",
       "2022-06-01        [2306505153, 2917502338, 2980553576, 422456778...   \n",
       "2022-06-01        [2306505153, 2917502338, 2980553576, 422456778...   \n",
       "\n",
       "                                                  rolling_coauthors  \\\n",
       "publication_date                                                      \n",
       "2017-01-01                                           [[2303729449]]   \n",
       "2017-01-01        [[2303729449], [3031885824, 2746258369, 302906...   \n",
       "2017-01-01        [[2303729449], [3031885824, 2746258369, 302906...   \n",
       "2017-01-01        [[2342688999, 2164998664, 2032565163, 21138399...   \n",
       "2017-01-01        [[2342688999, 2164998664, 2032565163, 21138399...   \n",
       "...                                                             ...   \n",
       "2022-05-13        [[2248192384, 2148494662, 2980714778, 84223386...   \n",
       "2022-05-17        [[2184855622, 2490743655, 2164998664, 21137864...   \n",
       "2022-05-17        [[2184855622, 2490743655, 2164998664, 21137864...   \n",
       "2022-06-01        [[2440824083, 2146357355, 2122290892, 21164468...   \n",
       "2022-06-01        [[2440824083, 2146357355, 2122290892, 21164468...   \n",
       "\n",
       "                  rolling_jaccard window_size  \n",
       "publication_date                               \n",
       "2017-01-01               1.000000        365D  \n",
       "2017-01-01               0.000000        365D  \n",
       "2017-01-01               0.000000        365D  \n",
       "2017-01-01               0.066667        365D  \n",
       "2017-01-01               0.111111        365D  \n",
       "...                           ...         ...  \n",
       "2022-05-13               0.100000        365D  \n",
       "2022-05-17               0.000000        365D  \n",
       "2022-05-17               0.000000        365D  \n",
       "2022-06-01               0.000000        365D  \n",
       "2022-06-01               0.000000        365D  \n",
       "\n",
       "[380 rows x 8 columns]"
      ]
     },
     "execution_count": 354,
     "metadata": {},
     "output_type": "execute_result"
    }
   ],
   "source": [
    "rolling_window_size = '365D'\n",
    "combined_df2 = None \n",
    "if combined_df2 is None:\n",
    "    combined_df2 = (\n",
    "        pd.concat([\n",
    "        rolling_iou_author(author_id=aid, works_authors=works_authors_df, window_size=rolling_window_size)\n",
    "        for aid in tqdm(author_ids)])\n",
    "        .sort_index()\n",
    "    )\n",
    "else:\n",
    "    new_aids = [aid for aid in author_ids if aid not in set(combined_df2.author_id)]\n",
    "    new_dfs = [rolling_iou_author(author_id=aid, works_authors=works_authors_df, window_size=rolling_window_size)\n",
    "                for aid in tqdm(new_aids)]\n",
    "    combined_df2 = (\n",
    "        pd.concat([combined_df2, *new_dfs])\n",
    "    ).sort_index()\n",
    "combined_df2"
   ]
  },
  {
   "cell_type": "code",
   "execution_count": 362,
   "id": "2ed32461-22f5-4531-9b5b-e0c7ff120a6d",
   "metadata": {
    "execution": {
     "iopub.execute_input": "2022-10-12T20:31:20.797939Z",
     "iopub.status.busy": "2022-10-12T20:31:20.797297Z",
     "iopub.status.idle": "2022-10-12T20:31:20.911014Z",
     "shell.execute_reply": "2022-10-12T20:31:20.910381Z",
     "shell.execute_reply.started": "2022-10-12T20:31:20.797887Z"
    },
    "tags": []
   },
   "outputs": [
    {
     "data": {
      "application/vnd.plotly.v1+json": {
       "config": {
        "plotlyServerURL": "https://plot.ly"
       },
       "data": [
        {
         "hovertemplate": "author_name=Carlo Ratti<br>publication_date=%{x}<br>rolling_jaccard=%{y}<extra></extra>",
         "legendgroup": "Carlo Ratti",
         "line": {
          "color": "#636efa",
          "dash": "solid"
         },
         "marker": {
          "symbol": "circle"
         },
         "mode": "lines+markers",
         "name": "Carlo Ratti",
         "orientation": "v",
         "showlegend": true,
         "type": "scatter",
         "visible": true,
         "x": [
          "2017-01-01T00:00:00",
          "2017-01-01T00:00:00",
          "2017-01-01T00:00:00",
          "2017-01-01T00:00:00",
          "2017-01-01T00:00:00",
          "2017-01-08T00:00:00",
          "2017-02-01T00:00:00",
          "2017-02-01T00:00:00",
          "2017-02-02T00:00:00",
          "2017-03-01T00:00:00",
          "2017-03-01T00:00:00",
          "2017-03-06T00:00:00",
          "2017-04-01T00:00:00",
          "2017-04-01T00:00:00",
          "2017-04-10T00:00:00",
          "2017-04-25T00:00:00",
          "2017-04-26T00:00:00",
          "2017-05-01T00:00:00",
          "2017-06-01T00:00:00",
          "2017-06-20T00:00:00",
          "2017-06-22T00:00:00",
          "2017-07-01T00:00:00",
          "2017-07-02T00:00:00",
          "2017-07-27T00:00:00",
          "2017-09-01T00:00:00",
          "2017-09-18T00:00:00",
          "2017-09-18T00:00:00",
          "2017-10-20T00:00:00",
          "2017-11-30T00:00:00",
          "2017-12-01T00:00:00",
          "2017-12-06T00:00:00",
          "2017-12-14T00:00:00",
          "2017-12-31T00:00:00",
          "2018-01-01T00:00:00",
          "2018-01-01T00:00:00",
          "2018-01-01T00:00:00",
          "2018-02-01T00:00:00",
          "2018-03-01T00:00:00",
          "2018-03-27T00:00:00",
          "2018-04-01T00:00:00",
          "2018-04-01T00:00:00",
          "2018-05-21T00:00:00",
          "2018-05-21T00:00:00",
          "2018-06-01T00:00:00",
          "2018-06-11T00:00:00",
          "2018-06-26T00:00:00",
          "2018-07-01T00:00:00",
          "2018-07-27T00:00:00",
          "2018-08-01T00:00:00",
          "2018-08-05T00:00:00",
          "2018-08-14T00:00:00",
          "2018-08-17T00:00:00",
          "2018-08-17T00:00:00",
          "2018-09-24T00:00:00",
          "2018-10-01T00:00:00",
          "2018-10-08T00:00:00",
          "2018-11-01T00:00:00",
          "2018-11-01T00:00:00",
          "2018-11-07T00:00:00",
          "2018-12-01T00:00:00",
          "2018-12-01T00:00:00",
          "2018-12-01T00:00:00",
          "2018-12-03T00:00:00",
          "2019-01-01T00:00:00",
          "2019-01-01T00:00:00",
          "2019-01-01T00:00:00",
          "2019-01-01T00:00:00",
          "2019-01-01T00:00:00",
          "2019-01-01T00:00:00",
          "2019-01-01T00:00:00",
          "2019-01-24T00:00:00",
          "2019-02-20T00:00:00",
          "2019-02-28T00:00:00",
          "2019-03-01T00:00:00",
          "2019-03-01T00:00:00",
          "2019-03-05T00:00:00",
          "2019-03-06T00:00:00",
          "2019-03-14T00:00:00",
          "2019-04-15T00:00:00",
          "2019-05-01T00:00:00",
          "2019-05-14T00:00:00",
          "2019-05-20T00:00:00",
          "2019-06-11T00:00:00",
          "2019-06-12T00:00:00",
          "2019-06-19T00:00:00",
          "2019-07-27T00:00:00",
          "2019-07-30T00:00:00",
          "2019-08-01T00:00:00",
          "2019-08-01T00:00:00",
          "2019-08-01T00:00:00",
          "2019-08-01T00:00:00",
          "2019-08-01T00:00:00",
          "2019-08-28T00:00:00",
          "2019-09-01T00:00:00",
          "2019-09-03T00:00:00",
          "2019-09-15T00:00:00",
          "2019-10-01T00:00:00",
          "2019-10-10T00:00:00",
          "2019-10-25T00:00:00",
          "2019-10-25T00:00:00",
          "2019-10-29T00:00:00",
          "2019-10-29T00:00:00",
          "2019-11-01T00:00:00",
          "2019-11-01T00:00:00",
          "2019-11-01T00:00:00",
          "2019-11-04T00:00:00",
          "2019-11-11T00:00:00",
          "2019-11-29T00:00:00",
          "2019-11-29T00:00:00",
          "2019-12-03T00:00:00",
          "2019-12-13T00:00:00",
          "2019-12-16T00:00:00",
          "2019-12-24T00:00:00",
          "2020-01-01T00:00:00",
          "2020-01-01T00:00:00",
          "2020-01-01T00:00:00",
          "2020-02-17T00:00:00",
          "2020-03-05T00:00:00",
          "2020-03-05T00:00:00",
          "2020-03-27T00:00:00",
          "2020-04-01T00:00:00",
          "2020-05-01T00:00:00",
          "2020-05-01T00:00:00",
          "2020-05-07T00:00:00",
          "2020-05-18T00:00:00",
          "2020-06-01T00:00:00",
          "2020-06-01T00:00:00",
          "2020-06-29T00:00:00",
          "2020-07-01T00:00:00",
          "2020-07-16T00:00:00",
          "2020-07-20T00:00:00",
          "2020-07-21T00:00:00",
          "2020-08-01T00:00:00",
          "2020-08-21T00:00:00",
          "2020-09-21T00:00:00",
          "2020-09-29T00:00:00",
          "2020-10-01T00:00:00",
          "2020-10-06T00:00:00",
          "2020-10-08T00:00:00",
          "2020-10-09T00:00:00",
          "2020-10-24T00:00:00",
          "2020-10-24T00:00:00",
          "2020-10-24T00:00:00",
          "2020-10-24T00:00:00",
          "2020-10-31T00:00:00",
          "2020-11-01T00:00:00",
          "2020-12-01T00:00:00",
          "2020-12-01T00:00:00",
          "2020-12-01T00:00:00",
          "2020-12-14T00:00:00",
          "2020-12-15T00:00:00",
          "2021-01-01T00:00:00",
          "2021-01-01T00:00:00",
          "2021-01-01T00:00:00",
          "2021-01-11T00:00:00",
          "2021-01-15T00:00:00",
          "2021-01-28T00:00:00",
          "2021-02-01T00:00:00",
          "2021-02-01T00:00:00",
          "2021-02-12T00:00:00",
          "2021-02-12T00:00:00",
          "2021-03-01T00:00:00",
          "2021-03-01T00:00:00",
          "2021-03-01T00:00:00",
          "2021-03-02T00:00:00",
          "2021-03-03T00:00:00",
          "2021-03-09T00:00:00",
          "2021-03-12T00:00:00",
          "2021-03-15T00:00:00",
          "2021-03-16T00:00:00",
          "2021-03-16T00:00:00",
          "2021-03-19T00:00:00",
          "2021-03-30T00:00:00",
          "2021-04-01T00:00:00",
          "2021-04-03T00:00:00",
          "2021-04-03T00:00:00",
          "2021-04-22T00:00:00",
          "2021-04-23T00:00:00",
          "2021-04-29T00:00:00",
          "2021-05-27T00:00:00",
          "2021-05-29T00:00:00",
          "2021-05-30T00:00:00",
          "2021-05-30T00:00:00",
          "2021-05-30T00:00:00",
          "2021-06-01T00:00:00",
          "2021-06-01T00:00:00",
          "2021-06-01T00:00:00",
          "2021-07-01T00:00:00",
          "2021-07-01T00:00:00",
          "2021-07-13T00:00:00",
          "2021-07-28T00:00:00",
          "2021-08-01T00:00:00",
          "2021-08-31T00:00:00",
          "2021-09-01T00:00:00",
          "2021-10-02T00:00:00",
          "2021-10-08T00:00:00",
          "2021-10-11T00:00:00",
          "2021-10-28T00:00:00",
          "2021-11-01T00:00:00",
          "2021-11-01T00:00:00",
          "2021-12-01T00:00:00",
          "2021-12-01T00:00:00",
          "2021-12-07T00:00:00",
          "2022-01-01T00:00:00",
          "2022-01-01T00:00:00",
          "2022-01-25T00:00:00"
         ],
         "xaxis": "x",
         "y": [
          1,
          0,
          0,
          0,
          0,
          0,
          0,
          0,
          0,
          0,
          0,
          0,
          0,
          0,
          0,
          0,
          0,
          0,
          0,
          0,
          0,
          0,
          0,
          0,
          0,
          0,
          0,
          0,
          0,
          0,
          0,
          0,
          0,
          0,
          0,
          0,
          0,
          0,
          0,
          0,
          0,
          0,
          0,
          0,
          0,
          0,
          0,
          0,
          0,
          0,
          0,
          0,
          0,
          0,
          0,
          0,
          0,
          0,
          0,
          0,
          0,
          0,
          0,
          0,
          0,
          0,
          0,
          0,
          0,
          0,
          0,
          0,
          0,
          0,
          0,
          0,
          0,
          0,
          0,
          0,
          0,
          0,
          0,
          0,
          0,
          0,
          0,
          0,
          0,
          0,
          0,
          0,
          0,
          0,
          0,
          0,
          0,
          0,
          0,
          0,
          0,
          0,
          0,
          0,
          0,
          0,
          0,
          0,
          0,
          0,
          0,
          0,
          0,
          0,
          0,
          0,
          0,
          0,
          0,
          0,
          0,
          0,
          0,
          0,
          0,
          0,
          0,
          0,
          0,
          0,
          0,
          0,
          0,
          0,
          0,
          0,
          0,
          0,
          0,
          0,
          0,
          0,
          0,
          0,
          0,
          0,
          0,
          0,
          0,
          0,
          0,
          0,
          0,
          0,
          0,
          0,
          0,
          0,
          0,
          0,
          0,
          0,
          0,
          0,
          0,
          0,
          0,
          0,
          0,
          0,
          0.058823529411764705,
          0.058823529411764705,
          0.038461538461538464,
          0,
          0,
          0,
          0,
          0,
          0,
          0,
          0,
          0,
          0,
          0,
          0,
          0,
          0,
          0,
          0,
          0,
          0,
          0,
          0,
          0,
          0,
          0,
          0,
          0,
          0,
          0,
          0,
          0,
          0,
          0,
          0,
          0
         ],
         "yaxis": "y"
        },
        {
         "hovertemplate": "author_name=Paolo Santi<br>publication_date=%{x}<br>rolling_jaccard=%{y}<extra></extra>",
         "legendgroup": "Paolo Santi",
         "line": {
          "color": "#EF553B",
          "dash": "solid"
         },
         "marker": {
          "symbol": "circle"
         },
         "mode": "lines+markers",
         "name": "Paolo Santi",
         "orientation": "v",
         "showlegend": true,
         "type": "scatter",
         "visible": "legendonly",
         "x": [
          "2017-01-01T00:00:00",
          "2017-01-01T00:00:00",
          "2017-01-01T00:00:00",
          "2017-01-03T00:00:00",
          "2017-01-03T00:00:00",
          "2017-03-06T00:00:00",
          "2017-06-19T00:00:00",
          "2017-06-22T00:00:00",
          "2017-07-27T00:00:00",
          "2017-10-09T00:00:00",
          "2017-10-20T00:00:00",
          "2018-03-27T00:00:00",
          "2018-04-01T00:00:00",
          "2018-05-23T00:00:00",
          "2018-08-01T00:00:00",
          "2018-08-17T00:00:00",
          "2018-08-17T00:00:00",
          "2019-01-01T00:00:00",
          "2019-01-24T00:00:00",
          "2019-02-01T00:00:00",
          "2019-03-01T00:00:00",
          "2019-06-11T00:00:00",
          "2019-07-27T00:00:00",
          "2019-08-01T00:00:00",
          "2019-09-15T00:00:00",
          "2019-09-26T00:00:00",
          "2019-10-01T00:00:00",
          "2019-10-25T00:00:00",
          "2019-11-01T00:00:00",
          "2019-11-29T00:00:00",
          "2020-01-01T00:00:00",
          "2020-02-17T00:00:00",
          "2020-05-01T00:00:00",
          "2020-05-27T00:00:00",
          "2020-05-27T00:00:00",
          "2020-06-01T00:00:00",
          "2020-06-03T00:00:00",
          "2020-07-26T00:00:00",
          "2020-07-26T00:00:00",
          "2020-08-21T00:00:00",
          "2020-09-21T00:00:00",
          "2020-10-01T00:00:00",
          "2020-10-06T00:00:00",
          "2020-10-08T00:00:00",
          "2020-12-01T00:00:00",
          "2021-01-01T00:00:00",
          "2021-01-01T00:00:00",
          "2021-01-01T00:00:00",
          "2021-01-15T00:00:00",
          "2021-01-28T00:00:00",
          "2021-02-01T00:00:00",
          "2021-03-01T00:00:00",
          "2021-03-02T00:00:00",
          "2021-03-09T00:00:00",
          "2021-03-12T00:00:00",
          "2021-03-15T00:00:00",
          "2021-03-16T00:00:00",
          "2021-03-16T00:00:00",
          "2021-03-19T00:00:00",
          "2021-03-30T00:00:00",
          "2021-04-03T00:00:00",
          "2021-04-03T00:00:00",
          "2021-04-03T00:00:00",
          "2021-05-27T00:00:00",
          "2021-07-08T00:00:00",
          "2021-07-28T00:00:00",
          "2021-08-01T00:00:00",
          "2021-09-01T00:00:00",
          "2021-09-01T00:00:00",
          "2021-10-28T00:00:00",
          "2021-11-01T00:00:00",
          "2022-01-01T00:00:00",
          "2022-01-01T00:00:00",
          "2022-01-01T00:00:00",
          "2022-05-17T00:00:00",
          "2022-05-17T00:00:00",
          "2022-06-01T00:00:00",
          "2022-06-01T00:00:00"
         ],
         "xaxis": "x",
         "y": [
          0.06666666666666667,
          0.1111111111111111,
          1,
          0,
          0,
          0,
          0,
          0,
          0,
          0,
          0,
          0,
          0,
          0,
          0,
          0,
          0,
          0,
          0,
          0,
          0,
          0,
          0,
          0,
          0.05,
          0,
          0,
          0,
          0,
          0,
          0.07142857142857142,
          0.0625,
          0.05555555555555555,
          0,
          0,
          0,
          0,
          0,
          0,
          0,
          0,
          0,
          0,
          0,
          0,
          0,
          0,
          0,
          0,
          0,
          0,
          0,
          0.038461538461538464,
          0.03571428571428571,
          0.03333333333333333,
          0.038461538461538464,
          0.058823529411764705,
          0.058823529411764705,
          0.058823529411764705,
          0.038461538461538464,
          0,
          0,
          0,
          0,
          0,
          0,
          0,
          0,
          0,
          0,
          0,
          0,
          0.045454545454545456,
          0,
          0,
          0,
          0,
          0
         ],
         "yaxis": "y"
        },
        {
         "hovertemplate": "author_name=Tim Weninger<br>publication_date=%{x}<br>rolling_jaccard=%{y}<extra></extra>",
         "legendgroup": "Tim Weninger",
         "line": {
          "color": "#00cc96",
          "dash": "solid"
         },
         "marker": {
          "symbol": "circle"
         },
         "mode": "lines+markers",
         "name": "Tim Weninger",
         "orientation": "v",
         "showlegend": true,
         "type": "scatter",
         "visible": "legendonly",
         "x": [
          "2017-02-04T00:00:00",
          "2017-03-01T00:00:00",
          "2017-03-15T00:00:00",
          "2017-06-28T00:00:00",
          "2017-07-01T00:00:00",
          "2017-07-24T00:00:00",
          "2017-07-31T00:00:00",
          "2017-09-06T00:00:00",
          "2017-11-09T00:00:00",
          "2018-02-01T00:00:00",
          "2018-02-02T00:00:00",
          "2018-02-21T00:00:00",
          "2018-02-23T00:00:00",
          "2018-03-01T00:00:00",
          "2018-03-01T00:00:00",
          "2018-04-23T00:00:00",
          "2018-04-25T00:00:00",
          "2018-05-30T00:00:00",
          "2018-06-11T00:00:00",
          "2018-06-25T00:00:00",
          "2018-07-01T00:00:00",
          "2018-07-14T00:00:00",
          "2018-08-28T00:00:00",
          "2018-09-03T00:00:00",
          "2018-11-01T00:00:00",
          "2018-11-21T00:00:00",
          "2018-12-09T00:00:00",
          "2019-01-01T00:00:00",
          "2019-03-01T00:00:00",
          "2019-06-26T00:00:00",
          "2019-07-01T00:00:00",
          "2019-07-10T00:00:00",
          "2019-08-11T00:00:00",
          "2019-08-15T00:00:00",
          "2019-08-27T00:00:00",
          "2019-10-18T00:00:00",
          "2019-10-18T00:00:00",
          "2019-10-23T00:00:00",
          "2019-11-01T00:00:00",
          "2019-12-01T00:00:00",
          "2019-12-01T00:00:00",
          "2019-12-01T00:00:00",
          "2019-12-01T00:00:00",
          "2019-12-01T00:00:00",
          "2020-01-01T00:00:00",
          "2020-01-17T00:00:00",
          "2020-02-19T00:00:00",
          "2020-02-28T00:00:00",
          "2020-09-14T00:00:00",
          "2020-09-18T00:00:00",
          "2020-09-25T00:00:00",
          "2020-11-01T00:00:00",
          "2021-01-05T00:00:00",
          "2021-01-19T00:00:00",
          "2021-01-21T00:00:00",
          "2021-02-08T00:00:00",
          "2021-03-08T00:00:00",
          "2021-03-12T00:00:00",
          "2021-05-01T00:00:00",
          "2021-05-11T00:00:00",
          "2021-05-18T00:00:00",
          "2021-06-02T00:00:00",
          "2021-06-02T00:00:00",
          "2021-07-09T00:00:00",
          "2022-01-01T00:00:00",
          "2022-01-11T00:00:00",
          "2022-02-11T00:00:00"
         ],
         "xaxis": "x",
         "y": [
          1,
          0.5,
          0,
          0,
          0,
          0,
          0,
          0,
          0,
          0,
          0,
          0,
          0,
          0,
          0,
          0,
          0,
          0,
          0,
          0,
          0,
          0,
          0,
          0,
          0.25,
          0.25,
          0.25,
          0,
          0,
          0,
          0,
          0,
          0,
          0,
          0,
          0,
          0,
          0,
          0,
          0,
          0,
          0,
          0,
          0,
          0,
          0,
          0,
          0,
          0,
          0,
          0,
          0,
          0,
          0,
          0,
          0,
          0,
          0,
          0,
          0,
          0,
          0,
          0,
          0,
          0,
          0,
          0
         ],
         "yaxis": "y"
        },
        {
         "hovertemplate": "author_name=Santo Fortunato<br>publication_date=%{x}<br>rolling_jaccard=%{y}<extra></extra>",
         "legendgroup": "Santo Fortunato",
         "line": {
          "color": "#ab63fa",
          "dash": "solid"
         },
         "marker": {
          "symbol": "circle"
         },
         "mode": "lines+markers",
         "name": "Santo Fortunato",
         "orientation": "v",
         "showlegend": true,
         "type": "scatter",
         "visible": "legendonly",
         "x": [
          "2017-04-01T00:00:00",
          "2017-07-01T00:00:00",
          "2017-10-06T00:00:00",
          "2018-02-15T00:00:00",
          "2018-02-19T00:00:00",
          "2018-03-02T00:00:00",
          "2018-04-01T00:00:00",
          "2018-06-10T00:00:00",
          "2018-07-17T00:00:00",
          "2018-08-01T00:00:00",
          "2018-09-01T00:00:00",
          "2018-10-08T00:00:00",
          "2018-11-01T00:00:00",
          "2019-01-01T00:00:00",
          "2019-04-01T00:00:00",
          "2019-04-18T00:00:00",
          "2019-05-01T00:00:00",
          "2019-05-01T00:00:00",
          "2019-09-01T00:00:00",
          "2019-11-27T00:00:00",
          "2020-02-25T00:00:00",
          "2020-03-27T00:00:00",
          "2020-04-29T00:00:00",
          "2020-09-04T00:00:00",
          "2020-10-23T00:00:00",
          "2020-11-16T00:00:00",
          "2021-02-22T00:00:00",
          "2021-09-01T00:00:00",
          "2022-05-13T00:00:00"
         ],
         "xaxis": "x",
         "y": [
          1,
          0,
          0,
          0,
          0,
          0,
          0,
          0,
          0,
          0,
          0,
          0,
          0,
          0,
          0,
          0,
          0,
          0,
          0,
          0,
          0,
          0,
          0,
          0,
          0,
          0,
          0,
          0,
          0
         ],
         "yaxis": "y"
        }
       ],
       "layout": {
        "autosize": true,
        "legend": {
         "title": {
          "text": "author_name"
         },
         "tracegroupgap": 0
        },
        "template": {
         "data": {
          "bar": [
           {
            "error_x": {
             "color": "#f2f5fa"
            },
            "error_y": {
             "color": "#f2f5fa"
            },
            "marker": {
             "line": {
              "color": "rgb(17,17,17)",
              "width": 0.5
             },
             "pattern": {
              "fillmode": "overlay",
              "size": 10,
              "solidity": 0.2
             }
            },
            "type": "bar"
           }
          ],
          "barpolar": [
           {
            "marker": {
             "line": {
              "color": "rgb(17,17,17)",
              "width": 0.5
             },
             "pattern": {
              "fillmode": "overlay",
              "size": 10,
              "solidity": 0.2
             }
            },
            "type": "barpolar"
           }
          ],
          "carpet": [
           {
            "aaxis": {
             "endlinecolor": "#A2B1C6",
             "gridcolor": "#506784",
             "linecolor": "#506784",
             "minorgridcolor": "#506784",
             "startlinecolor": "#A2B1C6"
            },
            "baxis": {
             "endlinecolor": "#A2B1C6",
             "gridcolor": "#506784",
             "linecolor": "#506784",
             "minorgridcolor": "#506784",
             "startlinecolor": "#A2B1C6"
            },
            "type": "carpet"
           }
          ],
          "choropleth": [
           {
            "colorbar": {
             "outlinewidth": 0,
             "ticks": ""
            },
            "type": "choropleth"
           }
          ],
          "contour": [
           {
            "colorbar": {
             "outlinewidth": 0,
             "ticks": ""
            },
            "colorscale": [
             [
              0,
              "#0d0887"
             ],
             [
              0.1111111111111111,
              "#46039f"
             ],
             [
              0.2222222222222222,
              "#7201a8"
             ],
             [
              0.3333333333333333,
              "#9c179e"
             ],
             [
              0.4444444444444444,
              "#bd3786"
             ],
             [
              0.5555555555555556,
              "#d8576b"
             ],
             [
              0.6666666666666666,
              "#ed7953"
             ],
             [
              0.7777777777777778,
              "#fb9f3a"
             ],
             [
              0.8888888888888888,
              "#fdca26"
             ],
             [
              1,
              "#f0f921"
             ]
            ],
            "type": "contour"
           }
          ],
          "contourcarpet": [
           {
            "colorbar": {
             "outlinewidth": 0,
             "ticks": ""
            },
            "type": "contourcarpet"
           }
          ],
          "heatmap": [
           {
            "colorbar": {
             "outlinewidth": 0,
             "ticks": ""
            },
            "colorscale": [
             [
              0,
              "#0d0887"
             ],
             [
              0.1111111111111111,
              "#46039f"
             ],
             [
              0.2222222222222222,
              "#7201a8"
             ],
             [
              0.3333333333333333,
              "#9c179e"
             ],
             [
              0.4444444444444444,
              "#bd3786"
             ],
             [
              0.5555555555555556,
              "#d8576b"
             ],
             [
              0.6666666666666666,
              "#ed7953"
             ],
             [
              0.7777777777777778,
              "#fb9f3a"
             ],
             [
              0.8888888888888888,
              "#fdca26"
             ],
             [
              1,
              "#f0f921"
             ]
            ],
            "type": "heatmap"
           }
          ],
          "heatmapgl": [
           {
            "colorbar": {
             "outlinewidth": 0,
             "ticks": ""
            },
            "colorscale": [
             [
              0,
              "#0d0887"
             ],
             [
              0.1111111111111111,
              "#46039f"
             ],
             [
              0.2222222222222222,
              "#7201a8"
             ],
             [
              0.3333333333333333,
              "#9c179e"
             ],
             [
              0.4444444444444444,
              "#bd3786"
             ],
             [
              0.5555555555555556,
              "#d8576b"
             ],
             [
              0.6666666666666666,
              "#ed7953"
             ],
             [
              0.7777777777777778,
              "#fb9f3a"
             ],
             [
              0.8888888888888888,
              "#fdca26"
             ],
             [
              1,
              "#f0f921"
             ]
            ],
            "type": "heatmapgl"
           }
          ],
          "histogram": [
           {
            "marker": {
             "pattern": {
              "fillmode": "overlay",
              "size": 10,
              "solidity": 0.2
             }
            },
            "type": "histogram"
           }
          ],
          "histogram2d": [
           {
            "colorbar": {
             "outlinewidth": 0,
             "ticks": ""
            },
            "colorscale": [
             [
              0,
              "#0d0887"
             ],
             [
              0.1111111111111111,
              "#46039f"
             ],
             [
              0.2222222222222222,
              "#7201a8"
             ],
             [
              0.3333333333333333,
              "#9c179e"
             ],
             [
              0.4444444444444444,
              "#bd3786"
             ],
             [
              0.5555555555555556,
              "#d8576b"
             ],
             [
              0.6666666666666666,
              "#ed7953"
             ],
             [
              0.7777777777777778,
              "#fb9f3a"
             ],
             [
              0.8888888888888888,
              "#fdca26"
             ],
             [
              1,
              "#f0f921"
             ]
            ],
            "type": "histogram2d"
           }
          ],
          "histogram2dcontour": [
           {
            "colorbar": {
             "outlinewidth": 0,
             "ticks": ""
            },
            "colorscale": [
             [
              0,
              "#0d0887"
             ],
             [
              0.1111111111111111,
              "#46039f"
             ],
             [
              0.2222222222222222,
              "#7201a8"
             ],
             [
              0.3333333333333333,
              "#9c179e"
             ],
             [
              0.4444444444444444,
              "#bd3786"
             ],
             [
              0.5555555555555556,
              "#d8576b"
             ],
             [
              0.6666666666666666,
              "#ed7953"
             ],
             [
              0.7777777777777778,
              "#fb9f3a"
             ],
             [
              0.8888888888888888,
              "#fdca26"
             ],
             [
              1,
              "#f0f921"
             ]
            ],
            "type": "histogram2dcontour"
           }
          ],
          "mesh3d": [
           {
            "colorbar": {
             "outlinewidth": 0,
             "ticks": ""
            },
            "type": "mesh3d"
           }
          ],
          "parcoords": [
           {
            "line": {
             "colorbar": {
              "outlinewidth": 0,
              "ticks": ""
             }
            },
            "type": "parcoords"
           }
          ],
          "pie": [
           {
            "automargin": true,
            "type": "pie"
           }
          ],
          "scatter": [
           {
            "line": {
             "width": 3
            },
            "marker": {
             "line": {
              "color": "#283442"
             },
             "size": 9
            },
            "type": "scatter"
           }
          ],
          "scatter3d": [
           {
            "line": {
             "colorbar": {
              "outlinewidth": 0,
              "ticks": ""
             },
             "width": 3
            },
            "marker": {
             "colorbar": {
              "outlinewidth": 0,
              "ticks": ""
             },
             "size": 9
            },
            "type": "scatter3d"
           }
          ],
          "scattercarpet": [
           {
            "marker": {
             "colorbar": {
              "outlinewidth": 0,
              "ticks": ""
             }
            },
            "type": "scattercarpet"
           }
          ],
          "scattergeo": [
           {
            "line": {
             "width": 3
            },
            "marker": {
             "colorbar": {
              "outlinewidth": 0,
              "ticks": ""
             },
             "size": 9
            },
            "type": "scattergeo"
           }
          ],
          "scattergl": [
           {
            "line": {
             "width": 3
            },
            "marker": {
             "line": {
              "color": "#283442"
             },
             "size": 9
            },
            "type": "scattergl"
           }
          ],
          "scattermapbox": [
           {
            "marker": {
             "colorbar": {
              "outlinewidth": 0,
              "ticks": ""
             }
            },
            "type": "scattermapbox"
           }
          ],
          "scatterpolar": [
           {
            "line": {
             "width": 3
            },
            "marker": {
             "colorbar": {
              "outlinewidth": 0,
              "ticks": ""
             },
             "size": 9
            },
            "type": "scatterpolar"
           }
          ],
          "scatterpolargl": [
           {
            "line": {
             "width": 3
            },
            "marker": {
             "colorbar": {
              "outlinewidth": 0,
              "ticks": ""
             },
             "size": 9
            },
            "type": "scatterpolargl"
           }
          ],
          "scatterternary": [
           {
            "line": {
             "width": 3
            },
            "marker": {
             "colorbar": {
              "outlinewidth": 0,
              "ticks": ""
             },
             "size": 9
            },
            "type": "scatterternary"
           }
          ],
          "surface": [
           {
            "colorbar": {
             "outlinewidth": 0,
             "ticks": ""
            },
            "colorscale": [
             [
              0,
              "#0d0887"
             ],
             [
              0.1111111111111111,
              "#46039f"
             ],
             [
              0.2222222222222222,
              "#7201a8"
             ],
             [
              0.3333333333333333,
              "#9c179e"
             ],
             [
              0.4444444444444444,
              "#bd3786"
             ],
             [
              0.5555555555555556,
              "#d8576b"
             ],
             [
              0.6666666666666666,
              "#ed7953"
             ],
             [
              0.7777777777777778,
              "#fb9f3a"
             ],
             [
              0.8888888888888888,
              "#fdca26"
             ],
             [
              1,
              "#f0f921"
             ]
            ],
            "type": "surface"
           }
          ],
          "table": [
           {
            "cells": {
             "fill": {
              "color": "#506784"
             },
             "height": 30,
             "line": {
              "color": "rgb(17,17,17)"
             }
            },
            "header": {
             "fill": {
              "color": "#2a3f5f"
             },
             "height": 36,
             "line": {
              "color": "rgb(17,17,17)"
             }
            },
            "type": "table"
           }
          ]
         },
         "layout": {
          "annotationdefaults": {
           "arrowcolor": "#f2f5fa",
           "arrowhead": 0,
           "arrowwidth": 1
          },
          "autotypenumbers": "strict",
          "coloraxis": {
           "colorbar": {
            "outlinewidth": 0,
            "ticks": ""
           }
          },
          "colorscale": {
           "diverging": [
            [
             0,
             "#8e0152"
            ],
            [
             0.1,
             "#c51b7d"
            ],
            [
             0.2,
             "#de77ae"
            ],
            [
             0.3,
             "#f1b6da"
            ],
            [
             0.4,
             "#fde0ef"
            ],
            [
             0.5,
             "#f7f7f7"
            ],
            [
             0.6,
             "#e6f5d0"
            ],
            [
             0.7,
             "#b8e186"
            ],
            [
             0.8,
             "#7fbc41"
            ],
            [
             0.9,
             "#4d9221"
            ],
            [
             1,
             "#276419"
            ]
           ],
           "sequential": [
            [
             0,
             "#0d0887"
            ],
            [
             0.1111111111111111,
             "#46039f"
            ],
            [
             0.2222222222222222,
             "#7201a8"
            ],
            [
             0.3333333333333333,
             "#9c179e"
            ],
            [
             0.4444444444444444,
             "#bd3786"
            ],
            [
             0.5555555555555556,
             "#d8576b"
            ],
            [
             0.6666666666666666,
             "#ed7953"
            ],
            [
             0.7777777777777778,
             "#fb9f3a"
            ],
            [
             0.8888888888888888,
             "#fdca26"
            ],
            [
             1,
             "#f0f921"
            ]
           ],
           "sequentialminus": [
            [
             0,
             "#0d0887"
            ],
            [
             0.1111111111111111,
             "#46039f"
            ],
            [
             0.2222222222222222,
             "#7201a8"
            ],
            [
             0.3333333333333333,
             "#9c179e"
            ],
            [
             0.4444444444444444,
             "#bd3786"
            ],
            [
             0.5555555555555556,
             "#d8576b"
            ],
            [
             0.6666666666666666,
             "#ed7953"
            ],
            [
             0.7777777777777778,
             "#fb9f3a"
            ],
            [
             0.8888888888888888,
             "#fdca26"
            ],
            [
             1,
             "#f0f921"
            ]
           ]
          },
          "colorway": [
           "#636efa",
           "#EF553B",
           "#00cc96",
           "#ab63fa",
           "#FFA15A",
           "#19d3f3",
           "#FF6692",
           "#B6E880",
           "#FF97FF",
           "#FECB52"
          ],
          "font": {
           "color": "#f2f5fa",
           "size": 18
          },
          "geo": {
           "bgcolor": "rgb(17,17,17)",
           "lakecolor": "rgb(17,17,17)",
           "landcolor": "rgb(17,17,17)",
           "showlakes": true,
           "showland": true,
           "subunitcolor": "#506784"
          },
          "hoverlabel": {
           "align": "left"
          },
          "hovermode": "closest",
          "mapbox": {
           "style": "dark"
          },
          "paper_bgcolor": "rgb(17,17,17)",
          "plot_bgcolor": "rgb(17,17,17)",
          "polar": {
           "angularaxis": {
            "gridcolor": "#506784",
            "linecolor": "#506784",
            "ticks": ""
           },
           "bgcolor": "rgb(17,17,17)",
           "radialaxis": {
            "gridcolor": "#506784",
            "linecolor": "#506784",
            "ticks": ""
           }
          },
          "scene": {
           "xaxis": {
            "backgroundcolor": "rgb(17,17,17)",
            "gridcolor": "#506784",
            "gridwidth": 2,
            "linecolor": "#506784",
            "showbackground": true,
            "ticks": "",
            "zerolinecolor": "#C8D4E3"
           },
           "yaxis": {
            "backgroundcolor": "rgb(17,17,17)",
            "gridcolor": "#506784",
            "gridwidth": 2,
            "linecolor": "#506784",
            "showbackground": true,
            "ticks": "",
            "zerolinecolor": "#C8D4E3"
           },
           "zaxis": {
            "backgroundcolor": "rgb(17,17,17)",
            "gridcolor": "#506784",
            "gridwidth": 2,
            "linecolor": "#506784",
            "showbackground": true,
            "ticks": "",
            "zerolinecolor": "#C8D4E3"
           }
          },
          "shapedefaults": {
           "line": {
            "color": "#f2f5fa"
           }
          },
          "sliderdefaults": {
           "bgcolor": "#C8D4E3",
           "bordercolor": "rgb(17,17,17)",
           "borderwidth": 1,
           "tickwidth": 0
          },
          "ternary": {
           "aaxis": {
            "gridcolor": "#506784",
            "linecolor": "#506784",
            "ticks": ""
           },
           "baxis": {
            "gridcolor": "#506784",
            "linecolor": "#506784",
            "ticks": ""
           },
           "bgcolor": "rgb(17,17,17)",
           "caxis": {
            "gridcolor": "#506784",
            "linecolor": "#506784",
            "ticks": ""
           }
          },
          "title": {
           "x": 0.05
          },
          "updatemenudefaults": {
           "bgcolor": "#506784",
           "borderwidth": 0
          },
          "xaxis": {
           "automargin": true,
           "gridcolor": "#283442",
           "linecolor": "#506784",
           "ticks": "",
           "title": {
            "standoff": 15
           },
           "zerolinecolor": "#283442",
           "zerolinewidth": 2
          },
          "yaxis": {
           "automargin": true,
           "gridcolor": "#283442",
           "linecolor": "#506784",
           "ticks": "",
           "title": {
            "standoff": 15
           },
           "zerolinecolor": "#283442",
           "zerolinewidth": 2
          }
         }
        },
        "title": {
         "text": "IOUs rolling window: 5 papers"
        },
        "xaxis": {
         "anchor": "y",
         "autorange": true,
         "domain": [
          0,
          1
         ],
         "range": [
          "2016-09-02 21:30:34.3898",
          "2022-05-25 02:29:25.6102"
         ],
         "title": {
          "text": "publication_date"
         },
         "type": "date"
        },
        "yaxis": {
         "anchor": "x",
         "autorange": true,
         "domain": [
          0,
          1
         ],
         "range": [
          -0.09701492537313433,
          1.0970149253731343
         ],
         "title": {
          "text": "rolling_jaccard"
         },
         "type": "linear"
        }
       }
      },
      "image/png": "[encoded data removed]",
      "text/html": [
       "<div>                            <div id=\"98bdd6fa-75b4-482e-bba1-6d9c62fc2033\" class=\"plotly-graph-div\" style=\"height:525px; width:100%;\"></div>            <script type=\"text/javascript\">                require([\"plotly\"], function(Plotly) {                    window.PLOTLYENV=window.PLOTLYENV || {};                                    if (document.getElementById(\"98bdd6fa-75b4-482e-bba1-6d9c62fc2033\")) {                    Plotly.newPlot(                        \"98bdd6fa-75b4-482e-bba1-6d9c62fc2033\",                        [{\"hovertemplate\":\"author_name=Carlo Ratti<br>publication_date=%{x}<br>rolling_jaccard=%{y}<extra></extra>\",\"legendgroup\":\"Carlo Ratti\",\"line\":{\"color\":\"#636efa\",\"dash\":\"solid\"},\"marker\":{\"symbol\":\"circle\"},\"mode\":\"lines+markers\",\"name\":\"Carlo Ratti\",\"orientation\":\"v\",\"showlegend\":true,\"x\":[\"2017-01-01T00:00:00\",\"2017-01-01T00:00:00\",\"2017-01-01T00:00:00\",\"2017-01-01T00:00:00\",\"2017-01-01T00:00:00\",\"2017-01-08T00:00:00\",\"2017-02-01T00:00:00\",\"2017-02-01T00:00:00\",\"2017-02-02T00:00:00\",\"2017-03-01T00:00:00\",\"2017-03-01T00:00:00\",\"2017-03-06T00:00:00\",\"2017-04-01T00:00:00\",\"2017-04-01T00:00:00\",\"2017-04-10T00:00:00\",\"2017-04-25T00:00:00\",\"2017-04-26T00:00:00\",\"2017-05-01T00:00:00\",\"2017-06-01T00:00:00\",\"2017-06-20T00:00:00\",\"2017-06-22T00:00:00\",\"2017-07-01T00:00:00\",\"2017-07-02T00:00:00\",\"2017-07-27T00:00:00\",\"2017-09-01T00:00:00\",\"2017-09-18T00:00:00\",\"2017-09-18T00:00:00\",\"2017-10-20T00:00:00\",\"2017-11-30T00:00:00\",\"2017-12-01T00:00:00\",\"2017-12-06T00:00:00\",\"2017-12-14T00:00:00\",\"2017-12-31T00:00:00\",\"2018-01-01T00:00:00\",\"2018-01-01T00:00:00\",\"2018-01-01T00:00:00\",\"2018-02-01T00:00:00\",\"2018-03-01T00:00:00\",\"2018-03-27T00:00:00\",\"2018-04-01T00:00:00\",\"2018-04-01T00:00:00\",\"2018-05-21T00:00:00\",\"2018-05-21T00:00:00\",\"2018-06-01T00:00:00\",\"2018-06-11T00:00:00\",\"2018-06-26T00:00:00\",\"2018-07-01T00:00:00\",\"2018-07-27T00:00:00\",\"2018-08-01T00:00:00\",\"2018-08-05T00:00:00\",\"2018-08-14T00:00:00\",\"2018-08-17T00:00:00\",\"2018-08-17T00:00:00\",\"2018-09-24T00:00:00\",\"2018-10-01T00:00:00\",\"2018-10-08T00:00:00\",\"2018-11-01T00:00:00\",\"2018-11-01T00:00:00\",\"2018-11-07T00:00:00\",\"2018-12-01T00:00:00\",\"2018-12-01T00:00:00\",\"2018-12-01T00:00:00\",\"2018-12-03T00:00:00\",\"2019-01-01T00:00:00\",\"2019-01-01T00:00:00\",\"2019-01-01T00:00:00\",\"2019-01-01T00:00:00\",\"2019-01-01T00:00:00\",\"2019-01-01T00:00:00\",\"2019-01-01T00:00:00\",\"2019-01-24T00:00:00\",\"2019-02-20T00:00:00\",\"2019-02-28T00:00:00\",\"2019-03-01T00:00:00\",\"2019-03-01T00:00:00\",\"2019-03-05T00:00:00\",\"2019-03-06T00:00:00\",\"2019-03-14T00:00:00\",\"2019-04-15T00:00:00\",\"2019-05-01T00:00:00\",\"2019-05-14T00:00:00\",\"2019-05-20T00:00:00\",\"2019-06-11T00:00:00\",\"2019-06-12T00:00:00\",\"2019-06-19T00:00:00\",\"2019-07-27T00:00:00\",\"2019-07-30T00:00:00\",\"2019-08-01T00:00:00\",\"2019-08-01T00:00:00\",\"2019-08-01T00:00:00\",\"2019-08-01T00:00:00\",\"2019-08-01T00:00:00\",\"2019-08-28T00:00:00\",\"2019-09-01T00:00:00\",\"2019-09-03T00:00:00\",\"2019-09-15T00:00:00\",\"2019-10-01T00:00:00\",\"2019-10-10T00:00:00\",\"2019-10-25T00:00:00\",\"2019-10-25T00:00:00\",\"2019-10-29T00:00:00\",\"2019-10-29T00:00:00\",\"2019-11-01T00:00:00\",\"2019-11-01T00:00:00\",\"2019-11-01T00:00:00\",\"2019-11-04T00:00:00\",\"2019-11-11T00:00:00\",\"2019-11-29T00:00:00\",\"2019-11-29T00:00:00\",\"2019-12-03T00:00:00\",\"2019-12-13T00:00:00\",\"2019-12-16T00:00:00\",\"2019-12-24T00:00:00\",\"2020-01-01T00:00:00\",\"2020-01-01T00:00:00\",\"2020-01-01T00:00:00\",\"2020-02-17T00:00:00\",\"2020-03-05T00:00:00\",\"2020-03-05T00:00:00\",\"2020-03-27T00:00:00\",\"2020-04-01T00:00:00\",\"2020-05-01T00:00:00\",\"2020-05-01T00:00:00\",\"2020-05-07T00:00:00\",\"2020-05-18T00:00:00\",\"2020-06-01T00:00:00\",\"2020-06-01T00:00:00\",\"2020-06-29T00:00:00\",\"2020-07-01T00:00:00\",\"2020-07-16T00:00:00\",\"2020-07-20T00:00:00\",\"2020-07-21T00:00:00\",\"2020-08-01T00:00:00\",\"2020-08-21T00:00:00\",\"2020-09-21T00:00:00\",\"2020-09-29T00:00:00\",\"2020-10-01T00:00:00\",\"2020-10-06T00:00:00\",\"2020-10-08T00:00:00\",\"2020-10-09T00:00:00\",\"2020-10-24T00:00:00\",\"2020-10-24T00:00:00\",\"2020-10-24T00:00:00\",\"2020-10-24T00:00:00\",\"2020-10-31T00:00:00\",\"2020-11-01T00:00:00\",\"2020-12-01T00:00:00\",\"2020-12-01T00:00:00\",\"2020-12-01T00:00:00\",\"2020-12-14T00:00:00\",\"2020-12-15T00:00:00\",\"2021-01-01T00:00:00\",\"2021-01-01T00:00:00\",\"2021-01-01T00:00:00\",\"2021-01-11T00:00:00\",\"2021-01-15T00:00:00\",\"2021-01-28T00:00:00\",\"2021-02-01T00:00:00\",\"2021-02-01T00:00:00\",\"2021-02-12T00:00:00\",\"2021-02-12T00:00:00\",\"2021-03-01T00:00:00\",\"2021-03-01T00:00:00\",\"2021-03-01T00:00:00\",\"2021-03-02T00:00:00\",\"2021-03-03T00:00:00\",\"2021-03-09T00:00:00\",\"2021-03-12T00:00:00\",\"2021-03-15T00:00:00\",\"2021-03-16T00:00:00\",\"2021-03-16T00:00:00\",\"2021-03-19T00:00:00\",\"2021-03-30T00:00:00\",\"2021-04-01T00:00:00\",\"2021-04-03T00:00:00\",\"2021-04-03T00:00:00\",\"2021-04-22T00:00:00\",\"2021-04-23T00:00:00\",\"2021-04-29T00:00:00\",\"2021-05-27T00:00:00\",\"2021-05-29T00:00:00\",\"2021-05-30T00:00:00\",\"2021-05-30T00:00:00\",\"2021-05-30T00:00:00\",\"2021-06-01T00:00:00\",\"2021-06-01T00:00:00\",\"2021-06-01T00:00:00\",\"2021-07-01T00:00:00\",\"2021-07-01T00:00:00\",\"2021-07-13T00:00:00\",\"2021-07-28T00:00:00\",\"2021-08-01T00:00:00\",\"2021-08-31T00:00:00\",\"2021-09-01T00:00:00\",\"2021-10-02T00:00:00\",\"2021-10-08T00:00:00\",\"2021-10-11T00:00:00\",\"2021-10-28T00:00:00\",\"2021-11-01T00:00:00\",\"2021-11-01T00:00:00\",\"2021-12-01T00:00:00\",\"2021-12-01T00:00:00\",\"2021-12-07T00:00:00\",\"2022-01-01T00:00:00\",\"2022-01-01T00:00:00\",\"2022-01-25T00:00:00\"],\"xaxis\":\"x\",\"y\":[1.0,0.0,0.0,0.0,0.0,0.0,0.0,0.0,0.0,0.0,0.0,0.0,0.0,0.0,0.0,0.0,0.0,0.0,0.0,0.0,0.0,0.0,0.0,0.0,0.0,0.0,0.0,0.0,0.0,0.0,0.0,0.0,0.0,0.0,0.0,0.0,0.0,0.0,0.0,0.0,0.0,0.0,0.0,0.0,0.0,0.0,0.0,0.0,0.0,0.0,0.0,0.0,0.0,0.0,0.0,0.0,0.0,0.0,0.0,0.0,0.0,0.0,0.0,0.0,0.0,0.0,0.0,0.0,0.0,0.0,0.0,0.0,0.0,0.0,0.0,0.0,0.0,0.0,0.0,0.0,0.0,0.0,0.0,0.0,0.0,0.0,0.0,0.0,0.0,0.0,0.0,0.0,0.0,0.0,0.0,0.0,0.0,0.0,0.0,0.0,0.0,0.0,0.0,0.0,0.0,0.0,0.0,0.0,0.0,0.0,0.0,0.0,0.0,0.0,0.0,0.0,0.0,0.0,0.0,0.0,0.0,0.0,0.0,0.0,0.0,0.0,0.0,0.0,0.0,0.0,0.0,0.0,0.0,0.0,0.0,0.0,0.0,0.0,0.0,0.0,0.0,0.0,0.0,0.0,0.0,0.0,0.0,0.0,0.0,0.0,0.0,0.0,0.0,0.0,0.0,0.0,0.0,0.0,0.0,0.0,0.0,0.0,0.0,0.0,0.0,0.0,0.0,0.0,0.0,0.0,0.058823529411764705,0.058823529411764705,0.038461538461538464,0.0,0.0,0.0,0.0,0.0,0.0,0.0,0.0,0.0,0.0,0.0,0.0,0.0,0.0,0.0,0.0,0.0,0.0,0.0,0.0,0.0,0.0,0.0,0.0,0.0,0.0,0.0,0.0,0.0,0.0,0.0,0.0,0.0],\"yaxis\":\"y\",\"type\":\"scatter\"},{\"hovertemplate\":\"author_name=Paolo Santi<br>publication_date=%{x}<br>rolling_jaccard=%{y}<extra></extra>\",\"legendgroup\":\"Paolo Santi\",\"line\":{\"color\":\"#EF553B\",\"dash\":\"solid\"},\"marker\":{\"symbol\":\"circle\"},\"mode\":\"lines+markers\",\"name\":\"Paolo Santi\",\"orientation\":\"v\",\"showlegend\":true,\"x\":[\"2017-01-01T00:00:00\",\"2017-01-01T00:00:00\",\"2017-01-01T00:00:00\",\"2017-01-03T00:00:00\",\"2017-01-03T00:00:00\",\"2017-03-06T00:00:00\",\"2017-06-19T00:00:00\",\"2017-06-22T00:00:00\",\"2017-07-27T00:00:00\",\"2017-10-09T00:00:00\",\"2017-10-20T00:00:00\",\"2018-03-27T00:00:00\",\"2018-04-01T00:00:00\",\"2018-05-23T00:00:00\",\"2018-08-01T00:00:00\",\"2018-08-17T00:00:00\",\"2018-08-17T00:00:00\",\"2019-01-01T00:00:00\",\"2019-01-24T00:00:00\",\"2019-02-01T00:00:00\",\"2019-03-01T00:00:00\",\"2019-06-11T00:00:00\",\"2019-07-27T00:00:00\",\"2019-08-01T00:00:00\",\"2019-09-15T00:00:00\",\"2019-09-26T00:00:00\",\"2019-10-01T00:00:00\",\"2019-10-25T00:00:00\",\"2019-11-01T00:00:00\",\"2019-11-29T00:00:00\",\"2020-01-01T00:00:00\",\"2020-02-17T00:00:00\",\"2020-05-01T00:00:00\",\"2020-05-27T00:00:00\",\"2020-05-27T00:00:00\",\"2020-06-01T00:00:00\",\"2020-06-03T00:00:00\",\"2020-07-26T00:00:00\",\"2020-07-26T00:00:00\",\"2020-08-21T00:00:00\",\"2020-09-21T00:00:00\",\"2020-10-01T00:00:00\",\"2020-10-06T00:00:00\",\"2020-10-08T00:00:00\",\"2020-12-01T00:00:00\",\"2021-01-01T00:00:00\",\"2021-01-01T00:00:00\",\"2021-01-01T00:00:00\",\"2021-01-15T00:00:00\",\"2021-01-28T00:00:00\",\"2021-02-01T00:00:00\",\"2021-03-01T00:00:00\",\"2021-03-02T00:00:00\",\"2021-03-09T00:00:00\",\"2021-03-12T00:00:00\",\"2021-03-15T00:00:00\",\"2021-03-16T00:00:00\",\"2021-03-16T00:00:00\",\"2021-03-19T00:00:00\",\"2021-03-30T00:00:00\",\"2021-04-03T00:00:00\",\"2021-04-03T00:00:00\",\"2021-04-03T00:00:00\",\"2021-05-27T00:00:00\",\"2021-07-08T00:00:00\",\"2021-07-28T00:00:00\",\"2021-08-01T00:00:00\",\"2021-09-01T00:00:00\",\"2021-09-01T00:00:00\",\"2021-10-28T00:00:00\",\"2021-11-01T00:00:00\",\"2022-01-01T00:00:00\",\"2022-01-01T00:00:00\",\"2022-01-01T00:00:00\",\"2022-05-17T00:00:00\",\"2022-05-17T00:00:00\",\"2022-06-01T00:00:00\",\"2022-06-01T00:00:00\"],\"xaxis\":\"x\",\"y\":[0.06666666666666667,0.1111111111111111,1.0,0.0,0.0,0.0,0.0,0.0,0.0,0.0,0.0,0.0,0.0,0.0,0.0,0.0,0.0,0.0,0.0,0.0,0.0,0.0,0.0,0.0,0.05,0.0,0.0,0.0,0.0,0.0,0.07142857142857142,0.0625,0.05555555555555555,0.0,0.0,0.0,0.0,0.0,0.0,0.0,0.0,0.0,0.0,0.0,0.0,0.0,0.0,0.0,0.0,0.0,0.0,0.0,0.038461538461538464,0.03571428571428571,0.03333333333333333,0.038461538461538464,0.058823529411764705,0.058823529411764705,0.058823529411764705,0.038461538461538464,0.0,0.0,0.0,0.0,0.0,0.0,0.0,0.0,0.0,0.0,0.0,0.0,0.045454545454545456,0.0,0.0,0.0,0.0,0.0],\"yaxis\":\"y\",\"type\":\"scatter\"},{\"hovertemplate\":\"author_name=Tim Weninger<br>publication_date=%{x}<br>rolling_jaccard=%{y}<extra></extra>\",\"legendgroup\":\"Tim Weninger\",\"line\":{\"color\":\"#00cc96\",\"dash\":\"solid\"},\"marker\":{\"symbol\":\"circle\"},\"mode\":\"lines+markers\",\"name\":\"Tim Weninger\",\"orientation\":\"v\",\"showlegend\":true,\"x\":[\"2017-02-04T00:00:00\",\"2017-03-01T00:00:00\",\"2017-03-15T00:00:00\",\"2017-06-28T00:00:00\",\"2017-07-01T00:00:00\",\"2017-07-24T00:00:00\",\"2017-07-31T00:00:00\",\"2017-09-06T00:00:00\",\"2017-11-09T00:00:00\",\"2018-02-01T00:00:00\",\"2018-02-02T00:00:00\",\"2018-02-21T00:00:00\",\"2018-02-23T00:00:00\",\"2018-03-01T00:00:00\",\"2018-03-01T00:00:00\",\"2018-04-23T00:00:00\",\"2018-04-25T00:00:00\",\"2018-05-30T00:00:00\",\"2018-06-11T00:00:00\",\"2018-06-25T00:00:00\",\"2018-07-01T00:00:00\",\"2018-07-14T00:00:00\",\"2018-08-28T00:00:00\",\"2018-09-03T00:00:00\",\"2018-11-01T00:00:00\",\"2018-11-21T00:00:00\",\"2018-12-09T00:00:00\",\"2019-01-01T00:00:00\",\"2019-03-01T00:00:00\",\"2019-06-26T00:00:00\",\"2019-07-01T00:00:00\",\"2019-07-10T00:00:00\",\"2019-08-11T00:00:00\",\"2019-08-15T00:00:00\",\"2019-08-27T00:00:00\",\"2019-10-18T00:00:00\",\"2019-10-18T00:00:00\",\"2019-10-23T00:00:00\",\"2019-11-01T00:00:00\",\"2019-12-01T00:00:00\",\"2019-12-01T00:00:00\",\"2019-12-01T00:00:00\",\"2019-12-01T00:00:00\",\"2019-12-01T00:00:00\",\"2020-01-01T00:00:00\",\"2020-01-17T00:00:00\",\"2020-02-19T00:00:00\",\"2020-02-28T00:00:00\",\"2020-09-14T00:00:00\",\"2020-09-18T00:00:00\",\"2020-09-25T00:00:00\",\"2020-11-01T00:00:00\",\"2021-01-05T00:00:00\",\"2021-01-19T00:00:00\",\"2021-01-21T00:00:00\",\"2021-02-08T00:00:00\",\"2021-03-08T00:00:00\",\"2021-03-12T00:00:00\",\"2021-05-01T00:00:00\",\"2021-05-11T00:00:00\",\"2021-05-18T00:00:00\",\"2021-06-02T00:00:00\",\"2021-06-02T00:00:00\",\"2021-07-09T00:00:00\",\"2022-01-01T00:00:00\",\"2022-01-11T00:00:00\",\"2022-02-11T00:00:00\"],\"xaxis\":\"x\",\"y\":[1.0,0.5,0.0,0.0,0.0,0.0,0.0,0.0,0.0,0.0,0.0,0.0,0.0,0.0,0.0,0.0,0.0,0.0,0.0,0.0,0.0,0.0,0.0,0.0,0.25,0.25,0.25,0.0,0.0,0.0,0.0,0.0,0.0,0.0,0.0,0.0,0.0,0.0,0.0,0.0,0.0,0.0,0.0,0.0,0.0,0.0,0.0,0.0,0.0,0.0,0.0,0.0,0.0,0.0,0.0,0.0,0.0,0.0,0.0,0.0,0.0,0.0,0.0,0.0,0.0,0.0,0.0],\"yaxis\":\"y\",\"type\":\"scatter\"},{\"hovertemplate\":\"author_name=Santo Fortunato<br>publication_date=%{x}<br>rolling_jaccard=%{y}<extra></extra>\",\"legendgroup\":\"Santo Fortunato\",\"line\":{\"color\":\"#ab63fa\",\"dash\":\"solid\"},\"marker\":{\"symbol\":\"circle\"},\"mode\":\"lines+markers\",\"name\":\"Santo Fortunato\",\"orientation\":\"v\",\"showlegend\":true,\"x\":[\"2017-04-01T00:00:00\",\"2017-07-01T00:00:00\",\"2017-10-06T00:00:00\",\"2018-02-15T00:00:00\",\"2018-02-19T00:00:00\",\"2018-03-02T00:00:00\",\"2018-04-01T00:00:00\",\"2018-06-10T00:00:00\",\"2018-07-17T00:00:00\",\"2018-08-01T00:00:00\",\"2018-09-01T00:00:00\",\"2018-10-08T00:00:00\",\"2018-11-01T00:00:00\",\"2019-01-01T00:00:00\",\"2019-04-01T00:00:00\",\"2019-04-18T00:00:00\",\"2019-05-01T00:00:00\",\"2019-05-01T00:00:00\",\"2019-09-01T00:00:00\",\"2019-11-27T00:00:00\",\"2020-02-25T00:00:00\",\"2020-03-27T00:00:00\",\"2020-04-29T00:00:00\",\"2020-09-04T00:00:00\",\"2020-10-23T00:00:00\",\"2020-11-16T00:00:00\",\"2021-02-22T00:00:00\",\"2021-09-01T00:00:00\",\"2022-05-13T00:00:00\"],\"xaxis\":\"x\",\"y\":[1.0,0.0,0.0,0.0,0.0,0.0,0.0,0.0,0.0,0.0,0.0,0.0,0.0,0.0,0.0,0.0,0.0,0.0,0.0,0.0,0.0,0.0,0.0,0.0,0.0,0.0,0.0,0.0,0.0],\"yaxis\":\"y\",\"type\":\"scatter\"}],                        {\"template\":{\"data\":{\"barpolar\":[{\"marker\":{\"line\":{\"color\":\"rgb(17,17,17)\",\"width\":0.5},\"pattern\":{\"fillmode\":\"overlay\",\"size\":10,\"solidity\":0.2}},\"type\":\"barpolar\"}],\"bar\":[{\"error_x\":{\"color\":\"#f2f5fa\"},\"error_y\":{\"color\":\"#f2f5fa\"},\"marker\":{\"line\":{\"color\":\"rgb(17,17,17)\",\"width\":0.5},\"pattern\":{\"fillmode\":\"overlay\",\"size\":10,\"solidity\":0.2}},\"type\":\"bar\"}],\"carpet\":[{\"aaxis\":{\"endlinecolor\":\"#A2B1C6\",\"gridcolor\":\"#506784\",\"linecolor\":\"#506784\",\"minorgridcolor\":\"#506784\",\"startlinecolor\":\"#A2B1C6\"},\"baxis\":{\"endlinecolor\":\"#A2B1C6\",\"gridcolor\":\"#506784\",\"linecolor\":\"#506784\",\"minorgridcolor\":\"#506784\",\"startlinecolor\":\"#A2B1C6\"},\"type\":\"carpet\"}],\"choropleth\":[{\"colorbar\":{\"outlinewidth\":0,\"ticks\":\"\"},\"type\":\"choropleth\"}],\"contourcarpet\":[{\"colorbar\":{\"outlinewidth\":0,\"ticks\":\"\"},\"type\":\"contourcarpet\"}],\"contour\":[{\"colorbar\":{\"outlinewidth\":0,\"ticks\":\"\"},\"colorscale\":[[0.0,\"#0d0887\"],[0.1111111111111111,\"#46039f\"],[0.2222222222222222,\"#7201a8\"],[0.3333333333333333,\"#9c179e\"],[0.4444444444444444,\"#bd3786\"],[0.5555555555555556,\"#d8576b\"],[0.6666666666666666,\"#ed7953\"],[0.7777777777777778,\"#fb9f3a\"],[0.8888888888888888,\"#fdca26\"],[1.0,\"#f0f921\"]],\"type\":\"contour\"}],\"heatmapgl\":[{\"colorbar\":{\"outlinewidth\":0,\"ticks\":\"\"},\"colorscale\":[[0.0,\"#0d0887\"],[0.1111111111111111,\"#46039f\"],[0.2222222222222222,\"#7201a8\"],[0.3333333333333333,\"#9c179e\"],[0.4444444444444444,\"#bd3786\"],[0.5555555555555556,\"#d8576b\"],[0.6666666666666666,\"#ed7953\"],[0.7777777777777778,\"#fb9f3a\"],[0.8888888888888888,\"#fdca26\"],[1.0,\"#f0f921\"]],\"type\":\"heatmapgl\"}],\"heatmap\":[{\"colorbar\":{\"outlinewidth\":0,\"ticks\":\"\"},\"colorscale\":[[0.0,\"#0d0887\"],[0.1111111111111111,\"#46039f\"],[0.2222222222222222,\"#7201a8\"],[0.3333333333333333,\"#9c179e\"],[0.4444444444444444,\"#bd3786\"],[0.5555555555555556,\"#d8576b\"],[0.6666666666666666,\"#ed7953\"],[0.7777777777777778,\"#fb9f3a\"],[0.8888888888888888,\"#fdca26\"],[1.0,\"#f0f921\"]],\"type\":\"heatmap\"}],\"histogram2dcontour\":[{\"colorbar\":{\"outlinewidth\":0,\"ticks\":\"\"},\"colorscale\":[[0.0,\"#0d0887\"],[0.1111111111111111,\"#46039f\"],[0.2222222222222222,\"#7201a8\"],[0.3333333333333333,\"#9c179e\"],[0.4444444444444444,\"#bd3786\"],[0.5555555555555556,\"#d8576b\"],[0.6666666666666666,\"#ed7953\"],[0.7777777777777778,\"#fb9f3a\"],[0.8888888888888888,\"#fdca26\"],[1.0,\"#f0f921\"]],\"type\":\"histogram2dcontour\"}],\"histogram2d\":[{\"colorbar\":{\"outlinewidth\":0,\"ticks\":\"\"},\"colorscale\":[[0.0,\"#0d0887\"],[0.1111111111111111,\"#46039f\"],[0.2222222222222222,\"#7201a8\"],[0.3333333333333333,\"#9c179e\"],[0.4444444444444444,\"#bd3786\"],[0.5555555555555556,\"#d8576b\"],[0.6666666666666666,\"#ed7953\"],[0.7777777777777778,\"#fb9f3a\"],[0.8888888888888888,\"#fdca26\"],[1.0,\"#f0f921\"]],\"type\":\"histogram2d\"}],\"histogram\":[{\"marker\":{\"pattern\":{\"fillmode\":\"overlay\",\"size\":10,\"solidity\":0.2}},\"type\":\"histogram\"}],\"mesh3d\":[{\"colorbar\":{\"outlinewidth\":0,\"ticks\":\"\"},\"type\":\"mesh3d\"}],\"parcoords\":[{\"line\":{\"colorbar\":{\"outlinewidth\":0,\"ticks\":\"\"}},\"type\":\"parcoords\"}],\"pie\":[{\"automargin\":true,\"type\":\"pie\"}],\"scatter3d\":[{\"line\":{\"colorbar\":{\"outlinewidth\":0,\"ticks\":\"\"},\"width\":3},\"marker\":{\"colorbar\":{\"outlinewidth\":0,\"ticks\":\"\"},\"size\":9},\"type\":\"scatter3d\"}],\"scattercarpet\":[{\"marker\":{\"colorbar\":{\"outlinewidth\":0,\"ticks\":\"\"}},\"type\":\"scattercarpet\"}],\"scattergeo\":[{\"marker\":{\"colorbar\":{\"outlinewidth\":0,\"ticks\":\"\"},\"size\":9},\"type\":\"scattergeo\",\"line\":{\"width\":3}}],\"scattergl\":[{\"marker\":{\"line\":{\"color\":\"#283442\"},\"size\":9},\"type\":\"scattergl\",\"line\":{\"width\":3}}],\"scattermapbox\":[{\"marker\":{\"colorbar\":{\"outlinewidth\":0,\"ticks\":\"\"}},\"type\":\"scattermapbox\"}],\"scatterpolargl\":[{\"marker\":{\"colorbar\":{\"outlinewidth\":0,\"ticks\":\"\"},\"size\":9},\"type\":\"scatterpolargl\",\"line\":{\"width\":3}}],\"scatterpolar\":[{\"marker\":{\"colorbar\":{\"outlinewidth\":0,\"ticks\":\"\"},\"size\":9},\"type\":\"scatterpolar\",\"line\":{\"width\":3}}],\"scatter\":[{\"marker\":{\"line\":{\"color\":\"#283442\"},\"size\":9},\"type\":\"scatter\",\"line\":{\"width\":3}}],\"scatterternary\":[{\"marker\":{\"colorbar\":{\"outlinewidth\":0,\"ticks\":\"\"},\"size\":9},\"type\":\"scatterternary\",\"line\":{\"width\":3}}],\"surface\":[{\"colorbar\":{\"outlinewidth\":0,\"ticks\":\"\"},\"colorscale\":[[0.0,\"#0d0887\"],[0.1111111111111111,\"#46039f\"],[0.2222222222222222,\"#7201a8\"],[0.3333333333333333,\"#9c179e\"],[0.4444444444444444,\"#bd3786\"],[0.5555555555555556,\"#d8576b\"],[0.6666666666666666,\"#ed7953\"],[0.7777777777777778,\"#fb9f3a\"],[0.8888888888888888,\"#fdca26\"],[1.0,\"#f0f921\"]],\"type\":\"surface\"}],\"table\":[{\"cells\":{\"fill\":{\"color\":\"#506784\"},\"line\":{\"color\":\"rgb(17,17,17)\"},\"height\":30},\"header\":{\"fill\":{\"color\":\"#2a3f5f\"},\"line\":{\"color\":\"rgb(17,17,17)\"},\"height\":36},\"type\":\"table\"}]},\"layout\":{\"annotationdefaults\":{\"arrowcolor\":\"#f2f5fa\",\"arrowhead\":0,\"arrowwidth\":1},\"autotypenumbers\":\"strict\",\"coloraxis\":{\"colorbar\":{\"outlinewidth\":0,\"ticks\":\"\"}},\"colorscale\":{\"diverging\":[[0,\"#8e0152\"],[0.1,\"#c51b7d\"],[0.2,\"#de77ae\"],[0.3,\"#f1b6da\"],[0.4,\"#fde0ef\"],[0.5,\"#f7f7f7\"],[0.6,\"#e6f5d0\"],[0.7,\"#b8e186\"],[0.8,\"#7fbc41\"],[0.9,\"#4d9221\"],[1,\"#276419\"]],\"sequential\":[[0.0,\"#0d0887\"],[0.1111111111111111,\"#46039f\"],[0.2222222222222222,\"#7201a8\"],[0.3333333333333333,\"#9c179e\"],[0.4444444444444444,\"#bd3786\"],[0.5555555555555556,\"#d8576b\"],[0.6666666666666666,\"#ed7953\"],[0.7777777777777778,\"#fb9f3a\"],[0.8888888888888888,\"#fdca26\"],[1.0,\"#f0f921\"]],\"sequentialminus\":[[0.0,\"#0d0887\"],[0.1111111111111111,\"#46039f\"],[0.2222222222222222,\"#7201a8\"],[0.3333333333333333,\"#9c179e\"],[0.4444444444444444,\"#bd3786\"],[0.5555555555555556,\"#d8576b\"],[0.6666666666666666,\"#ed7953\"],[0.7777777777777778,\"#fb9f3a\"],[0.8888888888888888,\"#fdca26\"],[1.0,\"#f0f921\"]]},\"colorway\":[\"#636efa\",\"#EF553B\",\"#00cc96\",\"#ab63fa\",\"#FFA15A\",\"#19d3f3\",\"#FF6692\",\"#B6E880\",\"#FF97FF\",\"#FECB52\"],\"font\":{\"color\":\"#f2f5fa\",\"size\":18},\"geo\":{\"bgcolor\":\"rgb(17,17,17)\",\"lakecolor\":\"rgb(17,17,17)\",\"landcolor\":\"rgb(17,17,17)\",\"showlakes\":true,\"showland\":true,\"subunitcolor\":\"#506784\"},\"hoverlabel\":{\"align\":\"left\"},\"hovermode\":\"closest\",\"mapbox\":{\"style\":\"dark\"},\"paper_bgcolor\":\"rgb(17,17,17)\",\"plot_bgcolor\":\"rgb(17,17,17)\",\"polar\":{\"angularaxis\":{\"gridcolor\":\"#506784\",\"linecolor\":\"#506784\",\"ticks\":\"\"},\"bgcolor\":\"rgb(17,17,17)\",\"radialaxis\":{\"gridcolor\":\"#506784\",\"linecolor\":\"#506784\",\"ticks\":\"\"}},\"scene\":{\"xaxis\":{\"backgroundcolor\":\"rgb(17,17,17)\",\"gridcolor\":\"#506784\",\"gridwidth\":2,\"linecolor\":\"#506784\",\"showbackground\":true,\"ticks\":\"\",\"zerolinecolor\":\"#C8D4E3\"},\"yaxis\":{\"backgroundcolor\":\"rgb(17,17,17)\",\"gridcolor\":\"#506784\",\"gridwidth\":2,\"linecolor\":\"#506784\",\"showbackground\":true,\"ticks\":\"\",\"zerolinecolor\":\"#C8D4E3\"},\"zaxis\":{\"backgroundcolor\":\"rgb(17,17,17)\",\"gridcolor\":\"#506784\",\"gridwidth\":2,\"linecolor\":\"#506784\",\"showbackground\":true,\"ticks\":\"\",\"zerolinecolor\":\"#C8D4E3\"}},\"shapedefaults\":{\"line\":{\"color\":\"#f2f5fa\"}},\"sliderdefaults\":{\"bgcolor\":\"#C8D4E3\",\"bordercolor\":\"rgb(17,17,17)\",\"borderwidth\":1,\"tickwidth\":0},\"ternary\":{\"aaxis\":{\"gridcolor\":\"#506784\",\"linecolor\":\"#506784\",\"ticks\":\"\"},\"baxis\":{\"gridcolor\":\"#506784\",\"linecolor\":\"#506784\",\"ticks\":\"\"},\"bgcolor\":\"rgb(17,17,17)\",\"caxis\":{\"gridcolor\":\"#506784\",\"linecolor\":\"#506784\",\"ticks\":\"\"}},\"title\":{\"x\":0.05},\"updatemenudefaults\":{\"bgcolor\":\"#506784\",\"borderwidth\":0},\"xaxis\":{\"automargin\":true,\"gridcolor\":\"#283442\",\"linecolor\":\"#506784\",\"ticks\":\"\",\"title\":{\"standoff\":15},\"zerolinecolor\":\"#283442\",\"zerolinewidth\":2},\"yaxis\":{\"automargin\":true,\"gridcolor\":\"#283442\",\"linecolor\":\"#506784\",\"ticks\":\"\",\"title\":{\"standoff\":15},\"zerolinecolor\":\"#283442\",\"zerolinewidth\":2}}},\"xaxis\":{\"anchor\":\"y\",\"domain\":[0.0,1.0],\"title\":{\"text\":\"publication_date\"}},\"yaxis\":{\"anchor\":\"x\",\"domain\":[0.0,1.0],\"title\":{\"text\":\"rolling_jaccard\"}},\"legend\":{\"title\":{\"text\":\"author_name\"},\"tracegroupgap\":0},\"title\":{\"text\":\"IOUs rolling window: 5 papers\"}},                        {\"responsive\": true}                    ).then(function(){\n",
       "                            \n",
       "var gd = document.getElementById('98bdd6fa-75b4-482e-bba1-6d9c62fc2033');\n",
       "var x = new MutationObserver(function (mutations, observer) {{\n",
       "        var display = window.getComputedStyle(gd).display;\n",
       "        if (!display || display === 'none') {{\n",
       "            console.log([gd, 'removed!']);\n",
       "            Plotly.purge(gd);\n",
       "            observer.disconnect();\n",
       "        }}\n",
       "}});\n",
       "\n",
       "// Listen for the removal of the full notebook cells\n",
       "var notebookContainer = gd.closest('#notebook-container');\n",
       "if (notebookContainer) {{\n",
       "    x.observe(notebookContainer, {childList: true});\n",
       "}}\n",
       "\n",
       "// Listen for the clearing of the current output cell\n",
       "var outputEl = gd.closest('.output');\n",
       "if (outputEl) {{\n",
       "    x.observe(outputEl, {childList: true});\n",
       "}}\n",
       "\n",
       "                        })                };                });            </script>        </div>"
      ]
     },
     "metadata": {},
     "output_type": "display_data"
    }
   ],
   "source": [
    "window = f'{combined_df.window_size.values[0]} papers'\n",
    "(\n",
    "    combined_df\n",
    "    # .groupby(pd.Grouper(freq='1D'))\n",
    "    # .agg(author_name=pd.NamedAgg(column='author_name', aggfunc='first'),\n",
    "    #      rolling_iou=pd.NamedAgg(column='rolling_jaccard', aggfunc='mean'))\n",
    "    # .dropna(subset=['rolling_iou'])\n",
    "    # .rename(columns={'rolling_iou': 'Rolling IOU'})\n",
    "    .plot\n",
    "    .line(y='rolling_jaccard', color='author_name', markers=True, \n",
    "          title=f'IOUs rolling window: {window}')\n",
    ")"
   ]
  },
  {
   "cell_type": "code",
   "execution_count": 361,
   "id": "8f7a9252-266d-4be1-bd60-9abe60bf6bbd",
   "metadata": {
    "execution": {
     "iopub.execute_input": "2022-10-12T20:30:52.633004Z",
     "iopub.status.busy": "2022-10-12T20:30:52.632352Z",
     "iopub.status.idle": "2022-10-12T20:30:52.749108Z",
     "shell.execute_reply": "2022-10-12T20:30:52.748145Z",
     "shell.execute_reply.started": "2022-10-12T20:30:52.632952Z"
    },
    "tags": []
   },
   "outputs": [
    {
     "data": {
      "application/vnd.plotly.v1+json": {
       "config": {
        "plotlyServerURL": "https://plot.ly"
       },
       "data": [
        {
         "hovertemplate": "author_name=Carlo Ratti<br>publication_date=%{x}<br>rolling_jaccard=%{y}<extra></extra>",
         "legendgroup": "Carlo Ratti",
         "line": {
          "color": "#636efa",
          "dash": "solid"
         },
         "marker": {
          "symbol": "circle"
         },
         "mode": "lines+markers",
         "name": "Carlo Ratti",
         "orientation": "v",
         "showlegend": true,
         "type": "scatter",
         "visible": true,
         "x": [
          "2017-01-01T00:00:00",
          "2017-01-01T00:00:00",
          "2017-01-01T00:00:00",
          "2017-01-01T00:00:00",
          "2017-01-01T00:00:00",
          "2017-01-08T00:00:00",
          "2017-02-01T00:00:00",
          "2017-02-01T00:00:00",
          "2017-02-02T00:00:00",
          "2017-03-01T00:00:00",
          "2017-03-01T00:00:00",
          "2017-03-06T00:00:00",
          "2017-04-01T00:00:00",
          "2017-04-01T00:00:00",
          "2017-04-10T00:00:00",
          "2017-04-25T00:00:00",
          "2017-04-26T00:00:00",
          "2017-05-01T00:00:00",
          "2017-06-01T00:00:00",
          "2017-06-20T00:00:00",
          "2017-06-22T00:00:00",
          "2017-07-01T00:00:00",
          "2017-07-02T00:00:00",
          "2017-07-27T00:00:00",
          "2017-09-01T00:00:00",
          "2017-09-18T00:00:00",
          "2017-09-18T00:00:00",
          "2017-10-20T00:00:00",
          "2017-11-30T00:00:00",
          "2017-12-01T00:00:00",
          "2017-12-06T00:00:00",
          "2017-12-14T00:00:00",
          "2017-12-31T00:00:00",
          "2018-01-01T00:00:00",
          "2018-01-01T00:00:00",
          "2018-01-01T00:00:00",
          "2018-02-01T00:00:00",
          "2018-03-01T00:00:00",
          "2018-03-27T00:00:00",
          "2018-04-01T00:00:00",
          "2018-04-01T00:00:00",
          "2018-05-21T00:00:00",
          "2018-05-21T00:00:00",
          "2018-06-01T00:00:00",
          "2018-06-11T00:00:00",
          "2018-06-26T00:00:00",
          "2018-07-01T00:00:00",
          "2018-07-27T00:00:00",
          "2018-08-01T00:00:00",
          "2018-08-05T00:00:00",
          "2018-08-14T00:00:00",
          "2018-08-17T00:00:00",
          "2018-08-17T00:00:00",
          "2018-09-24T00:00:00",
          "2018-10-01T00:00:00",
          "2018-10-08T00:00:00",
          "2018-11-01T00:00:00",
          "2018-11-01T00:00:00",
          "2018-11-07T00:00:00",
          "2018-12-01T00:00:00",
          "2018-12-01T00:00:00",
          "2018-12-01T00:00:00",
          "2018-12-03T00:00:00",
          "2019-01-01T00:00:00",
          "2019-01-01T00:00:00",
          "2019-01-01T00:00:00",
          "2019-01-01T00:00:00",
          "2019-01-01T00:00:00",
          "2019-01-01T00:00:00",
          "2019-01-01T00:00:00",
          "2019-01-24T00:00:00",
          "2019-02-20T00:00:00",
          "2019-02-28T00:00:00",
          "2019-03-01T00:00:00",
          "2019-03-01T00:00:00",
          "2019-03-05T00:00:00",
          "2019-03-06T00:00:00",
          "2019-03-14T00:00:00",
          "2019-04-15T00:00:00",
          "2019-05-01T00:00:00",
          "2019-05-14T00:00:00",
          "2019-05-20T00:00:00",
          "2019-06-11T00:00:00",
          "2019-06-12T00:00:00",
          "2019-06-19T00:00:00",
          "2019-07-27T00:00:00",
          "2019-07-30T00:00:00",
          "2019-08-01T00:00:00",
          "2019-08-01T00:00:00",
          "2019-08-01T00:00:00",
          "2019-08-01T00:00:00",
          "2019-08-01T00:00:00",
          "2019-08-28T00:00:00",
          "2019-09-01T00:00:00",
          "2019-09-03T00:00:00",
          "2019-09-15T00:00:00",
          "2019-10-01T00:00:00",
          "2019-10-10T00:00:00",
          "2019-10-25T00:00:00",
          "2019-10-25T00:00:00",
          "2019-10-29T00:00:00",
          "2019-10-29T00:00:00",
          "2019-11-01T00:00:00",
          "2019-11-01T00:00:00",
          "2019-11-01T00:00:00",
          "2019-11-04T00:00:00",
          "2019-11-11T00:00:00",
          "2019-11-29T00:00:00",
          "2019-11-29T00:00:00",
          "2019-12-03T00:00:00",
          "2019-12-13T00:00:00",
          "2019-12-16T00:00:00",
          "2019-12-24T00:00:00",
          "2020-01-01T00:00:00",
          "2020-01-01T00:00:00",
          "2020-01-01T00:00:00",
          "2020-02-17T00:00:00",
          "2020-03-05T00:00:00",
          "2020-03-05T00:00:00",
          "2020-03-27T00:00:00",
          "2020-04-01T00:00:00",
          "2020-05-01T00:00:00",
          "2020-05-01T00:00:00",
          "2020-05-07T00:00:00",
          "2020-05-18T00:00:00",
          "2020-06-01T00:00:00",
          "2020-06-01T00:00:00",
          "2020-06-29T00:00:00",
          "2020-07-01T00:00:00",
          "2020-07-16T00:00:00",
          "2020-07-20T00:00:00",
          "2020-07-21T00:00:00",
          "2020-08-01T00:00:00",
          "2020-08-21T00:00:00",
          "2020-09-21T00:00:00",
          "2020-09-29T00:00:00",
          "2020-10-01T00:00:00",
          "2020-10-06T00:00:00",
          "2020-10-08T00:00:00",
          "2020-10-09T00:00:00",
          "2020-10-24T00:00:00",
          "2020-10-24T00:00:00",
          "2020-10-24T00:00:00",
          "2020-10-24T00:00:00",
          "2020-10-31T00:00:00",
          "2020-11-01T00:00:00",
          "2020-12-01T00:00:00",
          "2020-12-01T00:00:00",
          "2020-12-01T00:00:00",
          "2020-12-14T00:00:00",
          "2020-12-15T00:00:00",
          "2021-01-01T00:00:00",
          "2021-01-01T00:00:00",
          "2021-01-01T00:00:00",
          "2021-01-11T00:00:00",
          "2021-01-15T00:00:00",
          "2021-01-28T00:00:00",
          "2021-02-01T00:00:00",
          "2021-02-01T00:00:00",
          "2021-02-12T00:00:00",
          "2021-02-12T00:00:00",
          "2021-03-01T00:00:00",
          "2021-03-01T00:00:00",
          "2021-03-01T00:00:00",
          "2021-03-02T00:00:00",
          "2021-03-03T00:00:00",
          "2021-03-09T00:00:00",
          "2021-03-12T00:00:00",
          "2021-03-15T00:00:00",
          "2021-03-16T00:00:00",
          "2021-03-16T00:00:00",
          "2021-03-19T00:00:00",
          "2021-03-30T00:00:00",
          "2021-04-01T00:00:00",
          "2021-04-03T00:00:00",
          "2021-04-03T00:00:00",
          "2021-04-22T00:00:00",
          "2021-04-23T00:00:00",
          "2021-04-29T00:00:00",
          "2021-05-27T00:00:00",
          "2021-05-29T00:00:00",
          "2021-05-30T00:00:00",
          "2021-05-30T00:00:00",
          "2021-05-30T00:00:00",
          "2021-06-01T00:00:00",
          "2021-06-01T00:00:00",
          "2021-06-01T00:00:00",
          "2021-07-01T00:00:00",
          "2021-07-01T00:00:00",
          "2021-07-13T00:00:00",
          "2021-07-28T00:00:00",
          "2021-08-01T00:00:00",
          "2021-08-31T00:00:00",
          "2021-09-01T00:00:00",
          "2021-10-02T00:00:00",
          "2021-10-08T00:00:00",
          "2021-10-11T00:00:00",
          "2021-10-28T00:00:00",
          "2021-11-01T00:00:00",
          "2021-11-01T00:00:00",
          "2021-12-01T00:00:00",
          "2021-12-01T00:00:00",
          "2021-12-07T00:00:00",
          "2022-01-01T00:00:00",
          "2022-01-01T00:00:00",
          "2022-01-25T00:00:00"
         ],
         "xaxis": "x",
         "y": [
          1,
          0,
          0,
          0,
          0,
          0,
          0,
          0,
          0,
          0,
          0,
          0,
          0,
          0,
          0,
          0,
          0,
          0,
          0,
          0,
          0,
          0,
          0,
          0,
          0,
          0,
          0,
          0,
          0,
          0,
          0,
          0,
          0,
          0,
          0,
          0,
          0,
          0,
          0,
          0,
          0,
          0,
          0,
          0,
          0,
          0,
          0,
          0,
          0,
          0,
          0,
          0,
          0,
          0,
          0,
          0,
          0,
          0,
          0,
          0,
          0,
          0,
          0,
          0,
          0,
          0,
          0,
          0,
          0,
          0,
          0,
          0,
          0,
          0,
          0,
          0,
          0,
          0,
          0,
          0,
          0,
          0,
          0,
          0,
          0,
          0,
          0,
          0,
          0,
          0,
          0,
          0,
          0,
          0,
          0,
          0,
          0,
          0,
          0,
          0,
          0,
          0,
          0,
          0,
          0,
          0,
          0,
          0,
          0,
          0,
          0,
          0,
          0,
          0,
          0,
          0,
          0,
          0,
          0,
          0,
          0,
          0,
          0,
          0,
          0,
          0,
          0,
          0,
          0,
          0,
          0,
          0,
          0,
          0,
          0,
          0,
          0,
          0,
          0,
          0,
          0,
          0,
          0,
          0,
          0,
          0,
          0,
          0,
          0,
          0,
          0,
          0,
          0,
          0,
          0,
          0,
          0,
          0,
          0,
          0,
          0,
          0,
          0,
          0,
          0,
          0,
          0,
          0,
          0,
          0,
          0,
          0,
          0,
          0,
          0,
          0,
          0,
          0,
          0,
          0,
          0,
          0,
          0,
          0,
          0,
          0,
          0,
          0,
          0,
          0,
          0,
          0,
          0,
          0,
          0,
          0,
          0,
          0,
          0,
          0,
          0,
          0,
          0,
          0,
          0,
          0
         ],
         "yaxis": "y"
        },
        {
         "hovertemplate": "author_name=Paolo Santi<br>publication_date=%{x}<br>rolling_jaccard=%{y}<extra></extra>",
         "legendgroup": "Paolo Santi",
         "line": {
          "color": "#EF553B",
          "dash": "solid"
         },
         "marker": {
          "symbol": "circle"
         },
         "mode": "lines+markers",
         "name": "Paolo Santi",
         "orientation": "v",
         "showlegend": true,
         "type": "scatter",
         "visible": "legendonly",
         "x": [
          "2017-01-01T00:00:00",
          "2017-01-01T00:00:00",
          "2017-01-01T00:00:00",
          "2017-01-03T00:00:00",
          "2017-01-03T00:00:00",
          "2017-03-06T00:00:00",
          "2017-06-19T00:00:00",
          "2017-06-22T00:00:00",
          "2017-07-27T00:00:00",
          "2017-10-09T00:00:00",
          "2017-10-20T00:00:00",
          "2018-03-27T00:00:00",
          "2018-04-01T00:00:00",
          "2018-05-23T00:00:00",
          "2018-08-01T00:00:00",
          "2018-08-17T00:00:00",
          "2018-08-17T00:00:00",
          "2019-01-01T00:00:00",
          "2019-01-24T00:00:00",
          "2019-02-01T00:00:00",
          "2019-03-01T00:00:00",
          "2019-06-11T00:00:00",
          "2019-07-27T00:00:00",
          "2019-08-01T00:00:00",
          "2019-09-15T00:00:00",
          "2019-09-26T00:00:00",
          "2019-10-01T00:00:00",
          "2019-10-25T00:00:00",
          "2019-11-01T00:00:00",
          "2019-11-29T00:00:00",
          "2020-01-01T00:00:00",
          "2020-02-17T00:00:00",
          "2020-05-01T00:00:00",
          "2020-05-27T00:00:00",
          "2020-05-27T00:00:00",
          "2020-06-01T00:00:00",
          "2020-06-03T00:00:00",
          "2020-07-26T00:00:00",
          "2020-07-26T00:00:00",
          "2020-08-21T00:00:00",
          "2020-09-21T00:00:00",
          "2020-10-01T00:00:00",
          "2020-10-06T00:00:00",
          "2020-10-08T00:00:00",
          "2020-12-01T00:00:00",
          "2021-01-01T00:00:00",
          "2021-01-01T00:00:00",
          "2021-01-01T00:00:00",
          "2021-01-15T00:00:00",
          "2021-01-28T00:00:00",
          "2021-02-01T00:00:00",
          "2021-03-01T00:00:00",
          "2021-03-02T00:00:00",
          "2021-03-09T00:00:00",
          "2021-03-12T00:00:00",
          "2021-03-15T00:00:00",
          "2021-03-16T00:00:00",
          "2021-03-16T00:00:00",
          "2021-03-19T00:00:00",
          "2021-03-30T00:00:00",
          "2021-04-03T00:00:00",
          "2021-04-03T00:00:00",
          "2021-04-03T00:00:00",
          "2021-05-27T00:00:00",
          "2021-07-08T00:00:00",
          "2021-07-28T00:00:00",
          "2021-08-01T00:00:00",
          "2021-09-01T00:00:00",
          "2021-09-01T00:00:00",
          "2021-10-28T00:00:00",
          "2021-11-01T00:00:00",
          "2022-01-01T00:00:00",
          "2022-01-01T00:00:00",
          "2022-01-01T00:00:00",
          "2022-05-17T00:00:00",
          "2022-05-17T00:00:00",
          "2022-06-01T00:00:00",
          "2022-06-01T00:00:00"
         ],
         "xaxis": "x",
         "y": [
          0.06666666666666667,
          0.1111111111111111,
          1,
          0,
          0,
          0,
          0,
          0,
          0,
          0,
          0,
          0,
          0,
          0,
          0,
          0,
          0,
          0,
          0,
          0,
          0,
          0,
          0,
          0,
          0,
          0,
          0,
          0,
          0,
          0,
          0,
          0,
          0,
          0,
          0,
          0,
          0,
          0,
          0,
          0,
          0,
          0,
          0,
          0,
          0,
          0,
          0,
          0,
          0,
          0,
          0,
          0,
          0,
          0,
          0,
          0,
          0,
          0,
          0,
          0,
          0,
          0,
          0,
          0,
          0,
          0,
          0,
          0,
          0,
          0,
          0,
          0,
          0,
          0,
          0,
          0,
          0,
          0
         ],
         "yaxis": "y"
        },
        {
         "hovertemplate": "author_name=Tim Weninger<br>publication_date=%{x}<br>rolling_jaccard=%{y}<extra></extra>",
         "legendgroup": "Tim Weninger",
         "line": {
          "color": "#00cc96",
          "dash": "solid"
         },
         "marker": {
          "symbol": "circle"
         },
         "mode": "lines+markers",
         "name": "Tim Weninger",
         "orientation": "v",
         "showlegend": true,
         "type": "scatter",
         "visible": "legendonly",
         "x": [
          "2017-02-04T00:00:00",
          "2017-03-01T00:00:00",
          "2017-03-15T00:00:00",
          "2017-06-28T00:00:00",
          "2017-07-01T00:00:00",
          "2017-07-24T00:00:00",
          "2017-07-31T00:00:00",
          "2017-09-06T00:00:00",
          "2017-11-09T00:00:00",
          "2018-02-01T00:00:00",
          "2018-02-02T00:00:00",
          "2018-02-21T00:00:00",
          "2018-02-23T00:00:00",
          "2018-03-01T00:00:00",
          "2018-03-01T00:00:00",
          "2018-04-23T00:00:00",
          "2018-04-25T00:00:00",
          "2018-05-30T00:00:00",
          "2018-06-11T00:00:00",
          "2018-06-25T00:00:00",
          "2018-07-01T00:00:00",
          "2018-07-14T00:00:00",
          "2018-08-28T00:00:00",
          "2018-09-03T00:00:00",
          "2018-11-01T00:00:00",
          "2018-11-21T00:00:00",
          "2018-12-09T00:00:00",
          "2019-01-01T00:00:00",
          "2019-03-01T00:00:00",
          "2019-06-26T00:00:00",
          "2019-07-01T00:00:00",
          "2019-07-10T00:00:00",
          "2019-08-11T00:00:00",
          "2019-08-15T00:00:00",
          "2019-08-27T00:00:00",
          "2019-10-18T00:00:00",
          "2019-10-18T00:00:00",
          "2019-10-23T00:00:00",
          "2019-11-01T00:00:00",
          "2019-12-01T00:00:00",
          "2019-12-01T00:00:00",
          "2019-12-01T00:00:00",
          "2019-12-01T00:00:00",
          "2019-12-01T00:00:00",
          "2020-01-01T00:00:00",
          "2020-01-17T00:00:00",
          "2020-02-19T00:00:00",
          "2020-02-28T00:00:00",
          "2020-09-14T00:00:00",
          "2020-09-18T00:00:00",
          "2020-09-25T00:00:00",
          "2020-11-01T00:00:00",
          "2021-01-05T00:00:00",
          "2021-01-19T00:00:00",
          "2021-01-21T00:00:00",
          "2021-02-08T00:00:00",
          "2021-03-08T00:00:00",
          "2021-03-12T00:00:00",
          "2021-05-01T00:00:00",
          "2021-05-11T00:00:00",
          "2021-05-18T00:00:00",
          "2021-06-02T00:00:00",
          "2021-06-02T00:00:00",
          "2021-07-09T00:00:00",
          "2022-01-01T00:00:00",
          "2022-01-11T00:00:00",
          "2022-02-11T00:00:00"
         ],
         "xaxis": "x",
         "y": [
          1,
          0.5,
          0,
          0,
          0,
          0,
          0,
          0,
          0,
          0,
          0,
          0,
          0,
          0,
          0,
          0,
          0,
          0,
          0,
          0,
          0,
          0,
          0,
          0,
          0,
          0,
          0,
          0,
          0,
          0,
          0,
          0,
          0,
          0,
          0,
          0,
          0,
          0,
          0,
          0,
          0,
          0,
          0,
          0,
          0,
          0,
          0,
          0,
          0,
          0,
          0,
          0,
          0,
          0,
          0,
          0,
          0,
          0,
          0,
          0,
          0,
          0,
          0,
          0,
          0,
          0,
          0
         ],
         "yaxis": "y"
        },
        {
         "hovertemplate": "author_name=Santo Fortunato<br>publication_date=%{x}<br>rolling_jaccard=%{y}<extra></extra>",
         "legendgroup": "Santo Fortunato",
         "line": {
          "color": "#ab63fa",
          "dash": "solid"
         },
         "marker": {
          "symbol": "circle"
         },
         "mode": "lines+markers",
         "name": "Santo Fortunato",
         "orientation": "v",
         "showlegend": true,
         "type": "scatter",
         "visible": "legendonly",
         "x": [
          "2017-04-01T00:00:00",
          "2017-07-01T00:00:00",
          "2017-10-06T00:00:00",
          "2018-02-15T00:00:00",
          "2018-02-19T00:00:00",
          "2018-03-02T00:00:00",
          "2018-04-01T00:00:00",
          "2018-06-10T00:00:00",
          "2018-07-17T00:00:00",
          "2018-08-01T00:00:00",
          "2018-09-01T00:00:00",
          "2018-10-08T00:00:00",
          "2018-11-01T00:00:00",
          "2019-01-01T00:00:00",
          "2019-04-01T00:00:00",
          "2019-04-18T00:00:00",
          "2019-05-01T00:00:00",
          "2019-05-01T00:00:00",
          "2019-09-01T00:00:00",
          "2019-11-27T00:00:00",
          "2020-02-25T00:00:00",
          "2020-03-27T00:00:00",
          "2020-04-29T00:00:00",
          "2020-09-04T00:00:00",
          "2020-10-23T00:00:00",
          "2020-11-16T00:00:00",
          "2021-02-22T00:00:00",
          "2021-09-01T00:00:00",
          "2022-05-13T00:00:00"
         ],
         "xaxis": "x",
         "y": [
          1,
          0,
          0,
          0,
          0,
          0,
          0,
          0,
          0,
          0,
          0,
          0,
          0,
          0,
          0,
          0,
          0,
          0,
          0,
          0,
          0,
          0,
          0,
          0,
          0,
          0,
          0,
          0,
          0.1
         ],
         "yaxis": "y"
        }
       ],
       "layout": {
        "autosize": true,
        "legend": {
         "title": {
          "text": "author_name"
         },
         "tracegroupgap": 0
        },
        "template": {
         "data": {
          "bar": [
           {
            "error_x": {
             "color": "#f2f5fa"
            },
            "error_y": {
             "color": "#f2f5fa"
            },
            "marker": {
             "line": {
              "color": "rgb(17,17,17)",
              "width": 0.5
             },
             "pattern": {
              "fillmode": "overlay",
              "size": 10,
              "solidity": 0.2
             }
            },
            "type": "bar"
           }
          ],
          "barpolar": [
           {
            "marker": {
             "line": {
              "color": "rgb(17,17,17)",
              "width": 0.5
             },
             "pattern": {
              "fillmode": "overlay",
              "size": 10,
              "solidity": 0.2
             }
            },
            "type": "barpolar"
           }
          ],
          "carpet": [
           {
            "aaxis": {
             "endlinecolor": "#A2B1C6",
             "gridcolor": "#506784",
             "linecolor": "#506784",
             "minorgridcolor": "#506784",
             "startlinecolor": "#A2B1C6"
            },
            "baxis": {
             "endlinecolor": "#A2B1C6",
             "gridcolor": "#506784",
             "linecolor": "#506784",
             "minorgridcolor": "#506784",
             "startlinecolor": "#A2B1C6"
            },
            "type": "carpet"
           }
          ],
          "choropleth": [
           {
            "colorbar": {
             "outlinewidth": 0,
             "ticks": ""
            },
            "type": "choropleth"
           }
          ],
          "contour": [
           {
            "colorbar": {
             "outlinewidth": 0,
             "ticks": ""
            },
            "colorscale": [
             [
              0,
              "#0d0887"
             ],
             [
              0.1111111111111111,
              "#46039f"
             ],
             [
              0.2222222222222222,
              "#7201a8"
             ],
             [
              0.3333333333333333,
              "#9c179e"
             ],
             [
              0.4444444444444444,
              "#bd3786"
             ],
             [
              0.5555555555555556,
              "#d8576b"
             ],
             [
              0.6666666666666666,
              "#ed7953"
             ],
             [
              0.7777777777777778,
              "#fb9f3a"
             ],
             [
              0.8888888888888888,
              "#fdca26"
             ],
             [
              1,
              "#f0f921"
             ]
            ],
            "type": "contour"
           }
          ],
          "contourcarpet": [
           {
            "colorbar": {
             "outlinewidth": 0,
             "ticks": ""
            },
            "type": "contourcarpet"
           }
          ],
          "heatmap": [
           {
            "colorbar": {
             "outlinewidth": 0,
             "ticks": ""
            },
            "colorscale": [
             [
              0,
              "#0d0887"
             ],
             [
              0.1111111111111111,
              "#46039f"
             ],
             [
              0.2222222222222222,
              "#7201a8"
             ],
             [
              0.3333333333333333,
              "#9c179e"
             ],
             [
              0.4444444444444444,
              "#bd3786"
             ],
             [
              0.5555555555555556,
              "#d8576b"
             ],
             [
              0.6666666666666666,
              "#ed7953"
             ],
             [
              0.7777777777777778,
              "#fb9f3a"
             ],
             [
              0.8888888888888888,
              "#fdca26"
             ],
             [
              1,
              "#f0f921"
             ]
            ],
            "type": "heatmap"
           }
          ],
          "heatmapgl": [
           {
            "colorbar": {
             "outlinewidth": 0,
             "ticks": ""
            },
            "colorscale": [
             [
              0,
              "#0d0887"
             ],
             [
              0.1111111111111111,
              "#46039f"
             ],
             [
              0.2222222222222222,
              "#7201a8"
             ],
             [
              0.3333333333333333,
              "#9c179e"
             ],
             [
              0.4444444444444444,
              "#bd3786"
             ],
             [
              0.5555555555555556,
              "#d8576b"
             ],
             [
              0.6666666666666666,
              "#ed7953"
             ],
             [
              0.7777777777777778,
              "#fb9f3a"
             ],
             [
              0.8888888888888888,
              "#fdca26"
             ],
             [
              1,
              "#f0f921"
             ]
            ],
            "type": "heatmapgl"
           }
          ],
          "histogram": [
           {
            "marker": {
             "pattern": {
              "fillmode": "overlay",
              "size": 10,
              "solidity": 0.2
             }
            },
            "type": "histogram"
           }
          ],
          "histogram2d": [
           {
            "colorbar": {
             "outlinewidth": 0,
             "ticks": ""
            },
            "colorscale": [
             [
              0,
              "#0d0887"
             ],
             [
              0.1111111111111111,
              "#46039f"
             ],
             [
              0.2222222222222222,
              "#7201a8"
             ],
             [
              0.3333333333333333,
              "#9c179e"
             ],
             [
              0.4444444444444444,
              "#bd3786"
             ],
             [
              0.5555555555555556,
              "#d8576b"
             ],
             [
              0.6666666666666666,
              "#ed7953"
             ],
             [
              0.7777777777777778,
              "#fb9f3a"
             ],
             [
              0.8888888888888888,
              "#fdca26"
             ],
             [
              1,
              "#f0f921"
             ]
            ],
            "type": "histogram2d"
           }
          ],
          "histogram2dcontour": [
           {
            "colorbar": {
             "outlinewidth": 0,
             "ticks": ""
            },
            "colorscale": [
             [
              0,
              "#0d0887"
             ],
             [
              0.1111111111111111,
              "#46039f"
             ],
             [
              0.2222222222222222,
              "#7201a8"
             ],
             [
              0.3333333333333333,
              "#9c179e"
             ],
             [
              0.4444444444444444,
              "#bd3786"
             ],
             [
              0.5555555555555556,
              "#d8576b"
             ],
             [
              0.6666666666666666,
              "#ed7953"
             ],
             [
              0.7777777777777778,
              "#fb9f3a"
             ],
             [
              0.8888888888888888,
              "#fdca26"
             ],
             [
              1,
              "#f0f921"
             ]
            ],
            "type": "histogram2dcontour"
           }
          ],
          "mesh3d": [
           {
            "colorbar": {
             "outlinewidth": 0,
             "ticks": ""
            },
            "type": "mesh3d"
           }
          ],
          "parcoords": [
           {
            "line": {
             "colorbar": {
              "outlinewidth": 0,
              "ticks": ""
             }
            },
            "type": "parcoords"
           }
          ],
          "pie": [
           {
            "automargin": true,
            "type": "pie"
           }
          ],
          "scatter": [
           {
            "line": {
             "width": 3
            },
            "marker": {
             "line": {
              "color": "#283442"
             },
             "size": 9
            },
            "type": "scatter"
           }
          ],
          "scatter3d": [
           {
            "line": {
             "colorbar": {
              "outlinewidth": 0,
              "ticks": ""
             },
             "width": 3
            },
            "marker": {
             "colorbar": {
              "outlinewidth": 0,
              "ticks": ""
             },
             "size": 9
            },
            "type": "scatter3d"
           }
          ],
          "scattercarpet": [
           {
            "marker": {
             "colorbar": {
              "outlinewidth": 0,
              "ticks": ""
             }
            },
            "type": "scattercarpet"
           }
          ],
          "scattergeo": [
           {
            "line": {
             "width": 3
            },
            "marker": {
             "colorbar": {
              "outlinewidth": 0,
              "ticks": ""
             },
             "size": 9
            },
            "type": "scattergeo"
           }
          ],
          "scattergl": [
           {
            "line": {
             "width": 3
            },
            "marker": {
             "line": {
              "color": "#283442"
             },
             "size": 9
            },
            "type": "scattergl"
           }
          ],
          "scattermapbox": [
           {
            "marker": {
             "colorbar": {
              "outlinewidth": 0,
              "ticks": ""
             }
            },
            "type": "scattermapbox"
           }
          ],
          "scatterpolar": [
           {
            "line": {
             "width": 3
            },
            "marker": {
             "colorbar": {
              "outlinewidth": 0,
              "ticks": ""
             },
             "size": 9
            },
            "type": "scatterpolar"
           }
          ],
          "scatterpolargl": [
           {
            "line": {
             "width": 3
            },
            "marker": {
             "colorbar": {
              "outlinewidth": 0,
              "ticks": ""
             },
             "size": 9
            },
            "type": "scatterpolargl"
           }
          ],
          "scatterternary": [
           {
            "line": {
             "width": 3
            },
            "marker": {
             "colorbar": {
              "outlinewidth": 0,
              "ticks": ""
             },
             "size": 9
            },
            "type": "scatterternary"
           }
          ],
          "surface": [
           {
            "colorbar": {
             "outlinewidth": 0,
             "ticks": ""
            },
            "colorscale": [
             [
              0,
              "#0d0887"
             ],
             [
              0.1111111111111111,
              "#46039f"
             ],
             [
              0.2222222222222222,
              "#7201a8"
             ],
             [
              0.3333333333333333,
              "#9c179e"
             ],
             [
              0.4444444444444444,
              "#bd3786"
             ],
             [
              0.5555555555555556,
              "#d8576b"
             ],
             [
              0.6666666666666666,
              "#ed7953"
             ],
             [
              0.7777777777777778,
              "#fb9f3a"
             ],
             [
              0.8888888888888888,
              "#fdca26"
             ],
             [
              1,
              "#f0f921"
             ]
            ],
            "type": "surface"
           }
          ],
          "table": [
           {
            "cells": {
             "fill": {
              "color": "#506784"
             },
             "height": 30,
             "line": {
              "color": "rgb(17,17,17)"
             }
            },
            "header": {
             "fill": {
              "color": "#2a3f5f"
             },
             "height": 36,
             "line": {
              "color": "rgb(17,17,17)"
             }
            },
            "type": "table"
           }
          ]
         },
         "layout": {
          "annotationdefaults": {
           "arrowcolor": "#f2f5fa",
           "arrowhead": 0,
           "arrowwidth": 1
          },
          "autotypenumbers": "strict",
          "coloraxis": {
           "colorbar": {
            "outlinewidth": 0,
            "ticks": ""
           }
          },
          "colorscale": {
           "diverging": [
            [
             0,
             "#8e0152"
            ],
            [
             0.1,
             "#c51b7d"
            ],
            [
             0.2,
             "#de77ae"
            ],
            [
             0.3,
             "#f1b6da"
            ],
            [
             0.4,
             "#fde0ef"
            ],
            [
             0.5,
             "#f7f7f7"
            ],
            [
             0.6,
             "#e6f5d0"
            ],
            [
             0.7,
             "#b8e186"
            ],
            [
             0.8,
             "#7fbc41"
            ],
            [
             0.9,
             "#4d9221"
            ],
            [
             1,
             "#276419"
            ]
           ],
           "sequential": [
            [
             0,
             "#0d0887"
            ],
            [
             0.1111111111111111,
             "#46039f"
            ],
            [
             0.2222222222222222,
             "#7201a8"
            ],
            [
             0.3333333333333333,
             "#9c179e"
            ],
            [
             0.4444444444444444,
             "#bd3786"
            ],
            [
             0.5555555555555556,
             "#d8576b"
            ],
            [
             0.6666666666666666,
             "#ed7953"
            ],
            [
             0.7777777777777778,
             "#fb9f3a"
            ],
            [
             0.8888888888888888,
             "#fdca26"
            ],
            [
             1,
             "#f0f921"
            ]
           ],
           "sequentialminus": [
            [
             0,
             "#0d0887"
            ],
            [
             0.1111111111111111,
             "#46039f"
            ],
            [
             0.2222222222222222,
             "#7201a8"
            ],
            [
             0.3333333333333333,
             "#9c179e"
            ],
            [
             0.4444444444444444,
             "#bd3786"
            ],
            [
             0.5555555555555556,
             "#d8576b"
            ],
            [
             0.6666666666666666,
             "#ed7953"
            ],
            [
             0.7777777777777778,
             "#fb9f3a"
            ],
            [
             0.8888888888888888,
             "#fdca26"
            ],
            [
             1,
             "#f0f921"
            ]
           ]
          },
          "colorway": [
           "#636efa",
           "#EF553B",
           "#00cc96",
           "#ab63fa",
           "#FFA15A",
           "#19d3f3",
           "#FF6692",
           "#B6E880",
           "#FF97FF",
           "#FECB52"
          ],
          "font": {
           "color": "#f2f5fa",
           "size": 18
          },
          "geo": {
           "bgcolor": "rgb(17,17,17)",
           "lakecolor": "rgb(17,17,17)",
           "landcolor": "rgb(17,17,17)",
           "showlakes": true,
           "showland": true,
           "subunitcolor": "#506784"
          },
          "hoverlabel": {
           "align": "left"
          },
          "hovermode": "closest",
          "mapbox": {
           "style": "dark"
          },
          "paper_bgcolor": "rgb(17,17,17)",
          "plot_bgcolor": "rgb(17,17,17)",
          "polar": {
           "angularaxis": {
            "gridcolor": "#506784",
            "linecolor": "#506784",
            "ticks": ""
           },
           "bgcolor": "rgb(17,17,17)",
           "radialaxis": {
            "gridcolor": "#506784",
            "linecolor": "#506784",
            "ticks": ""
           }
          },
          "scene": {
           "xaxis": {
            "backgroundcolor": "rgb(17,17,17)",
            "gridcolor": "#506784",
            "gridwidth": 2,
            "linecolor": "#506784",
            "showbackground": true,
            "ticks": "",
            "zerolinecolor": "#C8D4E3"
           },
           "yaxis": {
            "backgroundcolor": "rgb(17,17,17)",
            "gridcolor": "#506784",
            "gridwidth": 2,
            "linecolor": "#506784",
            "showbackground": true,
            "ticks": "",
            "zerolinecolor": "#C8D4E3"
           },
           "zaxis": {
            "backgroundcolor": "rgb(17,17,17)",
            "gridcolor": "#506784",
            "gridwidth": 2,
            "linecolor": "#506784",
            "showbackground": true,
            "ticks": "",
            "zerolinecolor": "#C8D4E3"
           }
          },
          "shapedefaults": {
           "line": {
            "color": "#f2f5fa"
           }
          },
          "sliderdefaults": {
           "bgcolor": "#C8D4E3",
           "bordercolor": "rgb(17,17,17)",
           "borderwidth": 1,
           "tickwidth": 0
          },
          "ternary": {
           "aaxis": {
            "gridcolor": "#506784",
            "linecolor": "#506784",
            "ticks": ""
           },
           "baxis": {
            "gridcolor": "#506784",
            "linecolor": "#506784",
            "ticks": ""
           },
           "bgcolor": "rgb(17,17,17)",
           "caxis": {
            "gridcolor": "#506784",
            "linecolor": "#506784",
            "ticks": ""
           }
          },
          "title": {
           "x": 0.05
          },
          "updatemenudefaults": {
           "bgcolor": "#506784",
           "borderwidth": 0
          },
          "xaxis": {
           "automargin": true,
           "gridcolor": "#283442",
           "linecolor": "#506784",
           "ticks": "",
           "title": {
            "standoff": 15
           },
           "zerolinecolor": "#283442",
           "zerolinewidth": 2
          },
          "yaxis": {
           "automargin": true,
           "gridcolor": "#283442",
           "linecolor": "#506784",
           "ticks": "",
           "title": {
            "standoff": 15
           },
           "zerolinecolor": "#283442",
           "zerolinewidth": 2
          }
         }
        },
        "title": {
         "text": "IOUs rolling window: 365D"
        },
        "xaxis": {
         "anchor": "y",
         "autorange": true,
         "domain": [
          0,
          1
         ],
         "range": [
          "2016-09-02 21:30:34.3898",
          "2022-05-25 02:29:25.6102"
         ],
         "title": {
          "text": "publication_date"
         },
         "type": "date"
        },
        "yaxis": {
         "anchor": "x",
         "autorange": true,
         "domain": [
          0,
          1
         ],
         "range": [
          -0.09701492537313433,
          1.0970149253731343
         ],
         "title": {
          "text": "rolling_jaccard"
         },
         "type": "linear"
        }
       }
      },
      "image/png": "[encoded data removed]",
      "text/html": [
       "<div>                            <div id=\"78acc16f-35ed-49e1-962d-6cb16ac031c0\" class=\"plotly-graph-div\" style=\"height:525px; width:100%;\"></div>            <script type=\"text/javascript\">                require([\"plotly\"], function(Plotly) {                    window.PLOTLYENV=window.PLOTLYENV || {};                                    if (document.getElementById(\"78acc16f-35ed-49e1-962d-6cb16ac031c0\")) {                    Plotly.newPlot(                        \"78acc16f-35ed-49e1-962d-6cb16ac031c0\",                        [{\"hovertemplate\":\"author_name=Carlo Ratti<br>publication_date=%{x}<br>rolling_jaccard=%{y}<extra></extra>\",\"legendgroup\":\"Carlo Ratti\",\"line\":{\"color\":\"#636efa\",\"dash\":\"solid\"},\"marker\":{\"symbol\":\"circle\"},\"mode\":\"lines+markers\",\"name\":\"Carlo Ratti\",\"orientation\":\"v\",\"showlegend\":true,\"x\":[\"2017-01-01T00:00:00\",\"2017-01-01T00:00:00\",\"2017-01-01T00:00:00\",\"2017-01-01T00:00:00\",\"2017-01-01T00:00:00\",\"2017-01-08T00:00:00\",\"2017-02-01T00:00:00\",\"2017-02-01T00:00:00\",\"2017-02-02T00:00:00\",\"2017-03-01T00:00:00\",\"2017-03-01T00:00:00\",\"2017-03-06T00:00:00\",\"2017-04-01T00:00:00\",\"2017-04-01T00:00:00\",\"2017-04-10T00:00:00\",\"2017-04-25T00:00:00\",\"2017-04-26T00:00:00\",\"2017-05-01T00:00:00\",\"2017-06-01T00:00:00\",\"2017-06-20T00:00:00\",\"2017-06-22T00:00:00\",\"2017-07-01T00:00:00\",\"2017-07-02T00:00:00\",\"2017-07-27T00:00:00\",\"2017-09-01T00:00:00\",\"2017-09-18T00:00:00\",\"2017-09-18T00:00:00\",\"2017-10-20T00:00:00\",\"2017-11-30T00:00:00\",\"2017-12-01T00:00:00\",\"2017-12-06T00:00:00\",\"2017-12-14T00:00:00\",\"2017-12-31T00:00:00\",\"2018-01-01T00:00:00\",\"2018-01-01T00:00:00\",\"2018-01-01T00:00:00\",\"2018-02-01T00:00:00\",\"2018-03-01T00:00:00\",\"2018-03-27T00:00:00\",\"2018-04-01T00:00:00\",\"2018-04-01T00:00:00\",\"2018-05-21T00:00:00\",\"2018-05-21T00:00:00\",\"2018-06-01T00:00:00\",\"2018-06-11T00:00:00\",\"2018-06-26T00:00:00\",\"2018-07-01T00:00:00\",\"2018-07-27T00:00:00\",\"2018-08-01T00:00:00\",\"2018-08-05T00:00:00\",\"2018-08-14T00:00:00\",\"2018-08-17T00:00:00\",\"2018-08-17T00:00:00\",\"2018-09-24T00:00:00\",\"2018-10-01T00:00:00\",\"2018-10-08T00:00:00\",\"2018-11-01T00:00:00\",\"2018-11-01T00:00:00\",\"2018-11-07T00:00:00\",\"2018-12-01T00:00:00\",\"2018-12-01T00:00:00\",\"2018-12-01T00:00:00\",\"2018-12-03T00:00:00\",\"2019-01-01T00:00:00\",\"2019-01-01T00:00:00\",\"2019-01-01T00:00:00\",\"2019-01-01T00:00:00\",\"2019-01-01T00:00:00\",\"2019-01-01T00:00:00\",\"2019-01-01T00:00:00\",\"2019-01-24T00:00:00\",\"2019-02-20T00:00:00\",\"2019-02-28T00:00:00\",\"2019-03-01T00:00:00\",\"2019-03-01T00:00:00\",\"2019-03-05T00:00:00\",\"2019-03-06T00:00:00\",\"2019-03-14T00:00:00\",\"2019-04-15T00:00:00\",\"2019-05-01T00:00:00\",\"2019-05-14T00:00:00\",\"2019-05-20T00:00:00\",\"2019-06-11T00:00:00\",\"2019-06-12T00:00:00\",\"2019-06-19T00:00:00\",\"2019-07-27T00:00:00\",\"2019-07-30T00:00:00\",\"2019-08-01T00:00:00\",\"2019-08-01T00:00:00\",\"2019-08-01T00:00:00\",\"2019-08-01T00:00:00\",\"2019-08-01T00:00:00\",\"2019-08-28T00:00:00\",\"2019-09-01T00:00:00\",\"2019-09-03T00:00:00\",\"2019-09-15T00:00:00\",\"2019-10-01T00:00:00\",\"2019-10-10T00:00:00\",\"2019-10-25T00:00:00\",\"2019-10-25T00:00:00\",\"2019-10-29T00:00:00\",\"2019-10-29T00:00:00\",\"2019-11-01T00:00:00\",\"2019-11-01T00:00:00\",\"2019-11-01T00:00:00\",\"2019-11-04T00:00:00\",\"2019-11-11T00:00:00\",\"2019-11-29T00:00:00\",\"2019-11-29T00:00:00\",\"2019-12-03T00:00:00\",\"2019-12-13T00:00:00\",\"2019-12-16T00:00:00\",\"2019-12-24T00:00:00\",\"2020-01-01T00:00:00\",\"2020-01-01T00:00:00\",\"2020-01-01T00:00:00\",\"2020-02-17T00:00:00\",\"2020-03-05T00:00:00\",\"2020-03-05T00:00:00\",\"2020-03-27T00:00:00\",\"2020-04-01T00:00:00\",\"2020-05-01T00:00:00\",\"2020-05-01T00:00:00\",\"2020-05-07T00:00:00\",\"2020-05-18T00:00:00\",\"2020-06-01T00:00:00\",\"2020-06-01T00:00:00\",\"2020-06-29T00:00:00\",\"2020-07-01T00:00:00\",\"2020-07-16T00:00:00\",\"2020-07-20T00:00:00\",\"2020-07-21T00:00:00\",\"2020-08-01T00:00:00\",\"2020-08-21T00:00:00\",\"2020-09-21T00:00:00\",\"2020-09-29T00:00:00\",\"2020-10-01T00:00:00\",\"2020-10-06T00:00:00\",\"2020-10-08T00:00:00\",\"2020-10-09T00:00:00\",\"2020-10-24T00:00:00\",\"2020-10-24T00:00:00\",\"2020-10-24T00:00:00\",\"2020-10-24T00:00:00\",\"2020-10-31T00:00:00\",\"2020-11-01T00:00:00\",\"2020-12-01T00:00:00\",\"2020-12-01T00:00:00\",\"2020-12-01T00:00:00\",\"2020-12-14T00:00:00\",\"2020-12-15T00:00:00\",\"2021-01-01T00:00:00\",\"2021-01-01T00:00:00\",\"2021-01-01T00:00:00\",\"2021-01-11T00:00:00\",\"2021-01-15T00:00:00\",\"2021-01-28T00:00:00\",\"2021-02-01T00:00:00\",\"2021-02-01T00:00:00\",\"2021-02-12T00:00:00\",\"2021-02-12T00:00:00\",\"2021-03-01T00:00:00\",\"2021-03-01T00:00:00\",\"2021-03-01T00:00:00\",\"2021-03-02T00:00:00\",\"2021-03-03T00:00:00\",\"2021-03-09T00:00:00\",\"2021-03-12T00:00:00\",\"2021-03-15T00:00:00\",\"2021-03-16T00:00:00\",\"2021-03-16T00:00:00\",\"2021-03-19T00:00:00\",\"2021-03-30T00:00:00\",\"2021-04-01T00:00:00\",\"2021-04-03T00:00:00\",\"2021-04-03T00:00:00\",\"2021-04-22T00:00:00\",\"2021-04-23T00:00:00\",\"2021-04-29T00:00:00\",\"2021-05-27T00:00:00\",\"2021-05-29T00:00:00\",\"2021-05-30T00:00:00\",\"2021-05-30T00:00:00\",\"2021-05-30T00:00:00\",\"2021-06-01T00:00:00\",\"2021-06-01T00:00:00\",\"2021-06-01T00:00:00\",\"2021-07-01T00:00:00\",\"2021-07-01T00:00:00\",\"2021-07-13T00:00:00\",\"2021-07-28T00:00:00\",\"2021-08-01T00:00:00\",\"2021-08-31T00:00:00\",\"2021-09-01T00:00:00\",\"2021-10-02T00:00:00\",\"2021-10-08T00:00:00\",\"2021-10-11T00:00:00\",\"2021-10-28T00:00:00\",\"2021-11-01T00:00:00\",\"2021-11-01T00:00:00\",\"2021-12-01T00:00:00\",\"2021-12-01T00:00:00\",\"2021-12-07T00:00:00\",\"2022-01-01T00:00:00\",\"2022-01-01T00:00:00\",\"2022-01-25T00:00:00\"],\"xaxis\":\"x\",\"y\":[1.0,0.0,0.0,0.0,0.0,0.0,0.0,0.0,0.0,0.0,0.0,0.0,0.0,0.0,0.0,0.0,0.0,0.0,0.0,0.0,0.0,0.0,0.0,0.0,0.0,0.0,0.0,0.0,0.0,0.0,0.0,0.0,0.0,0.0,0.0,0.0,0.0,0.0,0.0,0.0,0.0,0.0,0.0,0.0,0.0,0.0,0.0,0.0,0.0,0.0,0.0,0.0,0.0,0.0,0.0,0.0,0.0,0.0,0.0,0.0,0.0,0.0,0.0,0.0,0.0,0.0,0.0,0.0,0.0,0.0,0.0,0.0,0.0,0.0,0.0,0.0,0.0,0.0,0.0,0.0,0.0,0.0,0.0,0.0,0.0,0.0,0.0,0.0,0.0,0.0,0.0,0.0,0.0,0.0,0.0,0.0,0.0,0.0,0.0,0.0,0.0,0.0,0.0,0.0,0.0,0.0,0.0,0.0,0.0,0.0,0.0,0.0,0.0,0.0,0.0,0.0,0.0,0.0,0.0,0.0,0.0,0.0,0.0,0.0,0.0,0.0,0.0,0.0,0.0,0.0,0.0,0.0,0.0,0.0,0.0,0.0,0.0,0.0,0.0,0.0,0.0,0.0,0.0,0.0,0.0,0.0,0.0,0.0,0.0,0.0,0.0,0.0,0.0,0.0,0.0,0.0,0.0,0.0,0.0,0.0,0.0,0.0,0.0,0.0,0.0,0.0,0.0,0.0,0.0,0.0,0.0,0.0,0.0,0.0,0.0,0.0,0.0,0.0,0.0,0.0,0.0,0.0,0.0,0.0,0.0,0.0,0.0,0.0,0.0,0.0,0.0,0.0,0.0,0.0,0.0,0.0,0.0,0.0,0.0,0.0,0.0,0.0,0.0,0.0,0.0,0.0],\"yaxis\":\"y\",\"type\":\"scatter\"},{\"hovertemplate\":\"author_name=Paolo Santi<br>publication_date=%{x}<br>rolling_jaccard=%{y}<extra></extra>\",\"legendgroup\":\"Paolo Santi\",\"line\":{\"color\":\"#EF553B\",\"dash\":\"solid\"},\"marker\":{\"symbol\":\"circle\"},\"mode\":\"lines+markers\",\"name\":\"Paolo Santi\",\"orientation\":\"v\",\"showlegend\":true,\"x\":[\"2017-01-01T00:00:00\",\"2017-01-01T00:00:00\",\"2017-01-01T00:00:00\",\"2017-01-03T00:00:00\",\"2017-01-03T00:00:00\",\"2017-03-06T00:00:00\",\"2017-06-19T00:00:00\",\"2017-06-22T00:00:00\",\"2017-07-27T00:00:00\",\"2017-10-09T00:00:00\",\"2017-10-20T00:00:00\",\"2018-03-27T00:00:00\",\"2018-04-01T00:00:00\",\"2018-05-23T00:00:00\",\"2018-08-01T00:00:00\",\"2018-08-17T00:00:00\",\"2018-08-17T00:00:00\",\"2019-01-01T00:00:00\",\"2019-01-24T00:00:00\",\"2019-02-01T00:00:00\",\"2019-03-01T00:00:00\",\"2019-06-11T00:00:00\",\"2019-07-27T00:00:00\",\"2019-08-01T00:00:00\",\"2019-09-15T00:00:00\",\"2019-09-26T00:00:00\",\"2019-10-01T00:00:00\",\"2019-10-25T00:00:00\",\"2019-11-01T00:00:00\",\"2019-11-29T00:00:00\",\"2020-01-01T00:00:00\",\"2020-02-17T00:00:00\",\"2020-05-01T00:00:00\",\"2020-05-27T00:00:00\",\"2020-05-27T00:00:00\",\"2020-06-01T00:00:00\",\"2020-06-03T00:00:00\",\"2020-07-26T00:00:00\",\"2020-07-26T00:00:00\",\"2020-08-21T00:00:00\",\"2020-09-21T00:00:00\",\"2020-10-01T00:00:00\",\"2020-10-06T00:00:00\",\"2020-10-08T00:00:00\",\"2020-12-01T00:00:00\",\"2021-01-01T00:00:00\",\"2021-01-01T00:00:00\",\"2021-01-01T00:00:00\",\"2021-01-15T00:00:00\",\"2021-01-28T00:00:00\",\"2021-02-01T00:00:00\",\"2021-03-01T00:00:00\",\"2021-03-02T00:00:00\",\"2021-03-09T00:00:00\",\"2021-03-12T00:00:00\",\"2021-03-15T00:00:00\",\"2021-03-16T00:00:00\",\"2021-03-16T00:00:00\",\"2021-03-19T00:00:00\",\"2021-03-30T00:00:00\",\"2021-04-03T00:00:00\",\"2021-04-03T00:00:00\",\"2021-04-03T00:00:00\",\"2021-05-27T00:00:00\",\"2021-07-08T00:00:00\",\"2021-07-28T00:00:00\",\"2021-08-01T00:00:00\",\"2021-09-01T00:00:00\",\"2021-09-01T00:00:00\",\"2021-10-28T00:00:00\",\"2021-11-01T00:00:00\",\"2022-01-01T00:00:00\",\"2022-01-01T00:00:00\",\"2022-01-01T00:00:00\",\"2022-05-17T00:00:00\",\"2022-05-17T00:00:00\",\"2022-06-01T00:00:00\",\"2022-06-01T00:00:00\"],\"xaxis\":\"x\",\"y\":[0.06666666666666667,0.1111111111111111,1.0,0.0,0.0,0.0,0.0,0.0,0.0,0.0,0.0,0.0,0.0,0.0,0.0,0.0,0.0,0.0,0.0,0.0,0.0,0.0,0.0,0.0,0.0,0.0,0.0,0.0,0.0,0.0,0.0,0.0,0.0,0.0,0.0,0.0,0.0,0.0,0.0,0.0,0.0,0.0,0.0,0.0,0.0,0.0,0.0,0.0,0.0,0.0,0.0,0.0,0.0,0.0,0.0,0.0,0.0,0.0,0.0,0.0,0.0,0.0,0.0,0.0,0.0,0.0,0.0,0.0,0.0,0.0,0.0,0.0,0.0,0.0,0.0,0.0,0.0,0.0],\"yaxis\":\"y\",\"type\":\"scatter\"},{\"hovertemplate\":\"author_name=Tim Weninger<br>publication_date=%{x}<br>rolling_jaccard=%{y}<extra></extra>\",\"legendgroup\":\"Tim Weninger\",\"line\":{\"color\":\"#00cc96\",\"dash\":\"solid\"},\"marker\":{\"symbol\":\"circle\"},\"mode\":\"lines+markers\",\"name\":\"Tim Weninger\",\"orientation\":\"v\",\"showlegend\":true,\"x\":[\"2017-02-04T00:00:00\",\"2017-03-01T00:00:00\",\"2017-03-15T00:00:00\",\"2017-06-28T00:00:00\",\"2017-07-01T00:00:00\",\"2017-07-24T00:00:00\",\"2017-07-31T00:00:00\",\"2017-09-06T00:00:00\",\"2017-11-09T00:00:00\",\"2018-02-01T00:00:00\",\"2018-02-02T00:00:00\",\"2018-02-21T00:00:00\",\"2018-02-23T00:00:00\",\"2018-03-01T00:00:00\",\"2018-03-01T00:00:00\",\"2018-04-23T00:00:00\",\"2018-04-25T00:00:00\",\"2018-05-30T00:00:00\",\"2018-06-11T00:00:00\",\"2018-06-25T00:00:00\",\"2018-07-01T00:00:00\",\"2018-07-14T00:00:00\",\"2018-08-28T00:00:00\",\"2018-09-03T00:00:00\",\"2018-11-01T00:00:00\",\"2018-11-21T00:00:00\",\"2018-12-09T00:00:00\",\"2019-01-01T00:00:00\",\"2019-03-01T00:00:00\",\"2019-06-26T00:00:00\",\"2019-07-01T00:00:00\",\"2019-07-10T00:00:00\",\"2019-08-11T00:00:00\",\"2019-08-15T00:00:00\",\"2019-08-27T00:00:00\",\"2019-10-18T00:00:00\",\"2019-10-18T00:00:00\",\"2019-10-23T00:00:00\",\"2019-11-01T00:00:00\",\"2019-12-01T00:00:00\",\"2019-12-01T00:00:00\",\"2019-12-01T00:00:00\",\"2019-12-01T00:00:00\",\"2019-12-01T00:00:00\",\"2020-01-01T00:00:00\",\"2020-01-17T00:00:00\",\"2020-02-19T00:00:00\",\"2020-02-28T00:00:00\",\"2020-09-14T00:00:00\",\"2020-09-18T00:00:00\",\"2020-09-25T00:00:00\",\"2020-11-01T00:00:00\",\"2021-01-05T00:00:00\",\"2021-01-19T00:00:00\",\"2021-01-21T00:00:00\",\"2021-02-08T00:00:00\",\"2021-03-08T00:00:00\",\"2021-03-12T00:00:00\",\"2021-05-01T00:00:00\",\"2021-05-11T00:00:00\",\"2021-05-18T00:00:00\",\"2021-06-02T00:00:00\",\"2021-06-02T00:00:00\",\"2021-07-09T00:00:00\",\"2022-01-01T00:00:00\",\"2022-01-11T00:00:00\",\"2022-02-11T00:00:00\"],\"xaxis\":\"x\",\"y\":[1.0,0.5,0.0,0.0,0.0,0.0,0.0,0.0,0.0,0.0,0.0,0.0,0.0,0.0,0.0,0.0,0.0,0.0,0.0,0.0,0.0,0.0,0.0,0.0,0.0,0.0,0.0,0.0,0.0,0.0,0.0,0.0,0.0,0.0,0.0,0.0,0.0,0.0,0.0,0.0,0.0,0.0,0.0,0.0,0.0,0.0,0.0,0.0,0.0,0.0,0.0,0.0,0.0,0.0,0.0,0.0,0.0,0.0,0.0,0.0,0.0,0.0,0.0,0.0,0.0,0.0,0.0],\"yaxis\":\"y\",\"type\":\"scatter\"},{\"hovertemplate\":\"author_name=Santo Fortunato<br>publication_date=%{x}<br>rolling_jaccard=%{y}<extra></extra>\",\"legendgroup\":\"Santo Fortunato\",\"line\":{\"color\":\"#ab63fa\",\"dash\":\"solid\"},\"marker\":{\"symbol\":\"circle\"},\"mode\":\"lines+markers\",\"name\":\"Santo Fortunato\",\"orientation\":\"v\",\"showlegend\":true,\"x\":[\"2017-04-01T00:00:00\",\"2017-07-01T00:00:00\",\"2017-10-06T00:00:00\",\"2018-02-15T00:00:00\",\"2018-02-19T00:00:00\",\"2018-03-02T00:00:00\",\"2018-04-01T00:00:00\",\"2018-06-10T00:00:00\",\"2018-07-17T00:00:00\",\"2018-08-01T00:00:00\",\"2018-09-01T00:00:00\",\"2018-10-08T00:00:00\",\"2018-11-01T00:00:00\",\"2019-01-01T00:00:00\",\"2019-04-01T00:00:00\",\"2019-04-18T00:00:00\",\"2019-05-01T00:00:00\",\"2019-05-01T00:00:00\",\"2019-09-01T00:00:00\",\"2019-11-27T00:00:00\",\"2020-02-25T00:00:00\",\"2020-03-27T00:00:00\",\"2020-04-29T00:00:00\",\"2020-09-04T00:00:00\",\"2020-10-23T00:00:00\",\"2020-11-16T00:00:00\",\"2021-02-22T00:00:00\",\"2021-09-01T00:00:00\",\"2022-05-13T00:00:00\"],\"xaxis\":\"x\",\"y\":[1.0,0.0,0.0,0.0,0.0,0.0,0.0,0.0,0.0,0.0,0.0,0.0,0.0,0.0,0.0,0.0,0.0,0.0,0.0,0.0,0.0,0.0,0.0,0.0,0.0,0.0,0.0,0.0,0.1],\"yaxis\":\"y\",\"type\":\"scatter\"}],                        {\"template\":{\"data\":{\"barpolar\":[{\"marker\":{\"line\":{\"color\":\"rgb(17,17,17)\",\"width\":0.5},\"pattern\":{\"fillmode\":\"overlay\",\"size\":10,\"solidity\":0.2}},\"type\":\"barpolar\"}],\"bar\":[{\"error_x\":{\"color\":\"#f2f5fa\"},\"error_y\":{\"color\":\"#f2f5fa\"},\"marker\":{\"line\":{\"color\":\"rgb(17,17,17)\",\"width\":0.5},\"pattern\":{\"fillmode\":\"overlay\",\"size\":10,\"solidity\":0.2}},\"type\":\"bar\"}],\"carpet\":[{\"aaxis\":{\"endlinecolor\":\"#A2B1C6\",\"gridcolor\":\"#506784\",\"linecolor\":\"#506784\",\"minorgridcolor\":\"#506784\",\"startlinecolor\":\"#A2B1C6\"},\"baxis\":{\"endlinecolor\":\"#A2B1C6\",\"gridcolor\":\"#506784\",\"linecolor\":\"#506784\",\"minorgridcolor\":\"#506784\",\"startlinecolor\":\"#A2B1C6\"},\"type\":\"carpet\"}],\"choropleth\":[{\"colorbar\":{\"outlinewidth\":0,\"ticks\":\"\"},\"type\":\"choropleth\"}],\"contourcarpet\":[{\"colorbar\":{\"outlinewidth\":0,\"ticks\":\"\"},\"type\":\"contourcarpet\"}],\"contour\":[{\"colorbar\":{\"outlinewidth\":0,\"ticks\":\"\"},\"colorscale\":[[0.0,\"#0d0887\"],[0.1111111111111111,\"#46039f\"],[0.2222222222222222,\"#7201a8\"],[0.3333333333333333,\"#9c179e\"],[0.4444444444444444,\"#bd3786\"],[0.5555555555555556,\"#d8576b\"],[0.6666666666666666,\"#ed7953\"],[0.7777777777777778,\"#fb9f3a\"],[0.8888888888888888,\"#fdca26\"],[1.0,\"#f0f921\"]],\"type\":\"contour\"}],\"heatmapgl\":[{\"colorbar\":{\"outlinewidth\":0,\"ticks\":\"\"},\"colorscale\":[[0.0,\"#0d0887\"],[0.1111111111111111,\"#46039f\"],[0.2222222222222222,\"#7201a8\"],[0.3333333333333333,\"#9c179e\"],[0.4444444444444444,\"#bd3786\"],[0.5555555555555556,\"#d8576b\"],[0.6666666666666666,\"#ed7953\"],[0.7777777777777778,\"#fb9f3a\"],[0.8888888888888888,\"#fdca26\"],[1.0,\"#f0f921\"]],\"type\":\"heatmapgl\"}],\"heatmap\":[{\"colorbar\":{\"outlinewidth\":0,\"ticks\":\"\"},\"colorscale\":[[0.0,\"#0d0887\"],[0.1111111111111111,\"#46039f\"],[0.2222222222222222,\"#7201a8\"],[0.3333333333333333,\"#9c179e\"],[0.4444444444444444,\"#bd3786\"],[0.5555555555555556,\"#d8576b\"],[0.6666666666666666,\"#ed7953\"],[0.7777777777777778,\"#fb9f3a\"],[0.8888888888888888,\"#fdca26\"],[1.0,\"#f0f921\"]],\"type\":\"heatmap\"}],\"histogram2dcontour\":[{\"colorbar\":{\"outlinewidth\":0,\"ticks\":\"\"},\"colorscale\":[[0.0,\"#0d0887\"],[0.1111111111111111,\"#46039f\"],[0.2222222222222222,\"#7201a8\"],[0.3333333333333333,\"#9c179e\"],[0.4444444444444444,\"#bd3786\"],[0.5555555555555556,\"#d8576b\"],[0.6666666666666666,\"#ed7953\"],[0.7777777777777778,\"#fb9f3a\"],[0.8888888888888888,\"#fdca26\"],[1.0,\"#f0f921\"]],\"type\":\"histogram2dcontour\"}],\"histogram2d\":[{\"colorbar\":{\"outlinewidth\":0,\"ticks\":\"\"},\"colorscale\":[[0.0,\"#0d0887\"],[0.1111111111111111,\"#46039f\"],[0.2222222222222222,\"#7201a8\"],[0.3333333333333333,\"#9c179e\"],[0.4444444444444444,\"#bd3786\"],[0.5555555555555556,\"#d8576b\"],[0.6666666666666666,\"#ed7953\"],[0.7777777777777778,\"#fb9f3a\"],[0.8888888888888888,\"#fdca26\"],[1.0,\"#f0f921\"]],\"type\":\"histogram2d\"}],\"histogram\":[{\"marker\":{\"pattern\":{\"fillmode\":\"overlay\",\"size\":10,\"solidity\":0.2}},\"type\":\"histogram\"}],\"mesh3d\":[{\"colorbar\":{\"outlinewidth\":0,\"ticks\":\"\"},\"type\":\"mesh3d\"}],\"parcoords\":[{\"line\":{\"colorbar\":{\"outlinewidth\":0,\"ticks\":\"\"}},\"type\":\"parcoords\"}],\"pie\":[{\"automargin\":true,\"type\":\"pie\"}],\"scatter3d\":[{\"line\":{\"colorbar\":{\"outlinewidth\":0,\"ticks\":\"\"},\"width\":3},\"marker\":{\"colorbar\":{\"outlinewidth\":0,\"ticks\":\"\"},\"size\":9},\"type\":\"scatter3d\"}],\"scattercarpet\":[{\"marker\":{\"colorbar\":{\"outlinewidth\":0,\"ticks\":\"\"}},\"type\":\"scattercarpet\"}],\"scattergeo\":[{\"marker\":{\"colorbar\":{\"outlinewidth\":0,\"ticks\":\"\"},\"size\":9},\"type\":\"scattergeo\",\"line\":{\"width\":3}}],\"scattergl\":[{\"marker\":{\"line\":{\"color\":\"#283442\"},\"size\":9},\"type\":\"scattergl\",\"line\":{\"width\":3}}],\"scattermapbox\":[{\"marker\":{\"colorbar\":{\"outlinewidth\":0,\"ticks\":\"\"}},\"type\":\"scattermapbox\"}],\"scatterpolargl\":[{\"marker\":{\"colorbar\":{\"outlinewidth\":0,\"ticks\":\"\"},\"size\":9},\"type\":\"scatterpolargl\",\"line\":{\"width\":3}}],\"scatterpolar\":[{\"marker\":{\"colorbar\":{\"outlinewidth\":0,\"ticks\":\"\"},\"size\":9},\"type\":\"scatterpolar\",\"line\":{\"width\":3}}],\"scatter\":[{\"marker\":{\"line\":{\"color\":\"#283442\"},\"size\":9},\"type\":\"scatter\",\"line\":{\"width\":3}}],\"scatterternary\":[{\"marker\":{\"colorbar\":{\"outlinewidth\":0,\"ticks\":\"\"},\"size\":9},\"type\":\"scatterternary\",\"line\":{\"width\":3}}],\"surface\":[{\"colorbar\":{\"outlinewidth\":0,\"ticks\":\"\"},\"colorscale\":[[0.0,\"#0d0887\"],[0.1111111111111111,\"#46039f\"],[0.2222222222222222,\"#7201a8\"],[0.3333333333333333,\"#9c179e\"],[0.4444444444444444,\"#bd3786\"],[0.5555555555555556,\"#d8576b\"],[0.6666666666666666,\"#ed7953\"],[0.7777777777777778,\"#fb9f3a\"],[0.8888888888888888,\"#fdca26\"],[1.0,\"#f0f921\"]],\"type\":\"surface\"}],\"table\":[{\"cells\":{\"fill\":{\"color\":\"#506784\"},\"line\":{\"color\":\"rgb(17,17,17)\"},\"height\":30},\"header\":{\"fill\":{\"color\":\"#2a3f5f\"},\"line\":{\"color\":\"rgb(17,17,17)\"},\"height\":36},\"type\":\"table\"}]},\"layout\":{\"annotationdefaults\":{\"arrowcolor\":\"#f2f5fa\",\"arrowhead\":0,\"arrowwidth\":1},\"autotypenumbers\":\"strict\",\"coloraxis\":{\"colorbar\":{\"outlinewidth\":0,\"ticks\":\"\"}},\"colorscale\":{\"diverging\":[[0,\"#8e0152\"],[0.1,\"#c51b7d\"],[0.2,\"#de77ae\"],[0.3,\"#f1b6da\"],[0.4,\"#fde0ef\"],[0.5,\"#f7f7f7\"],[0.6,\"#e6f5d0\"],[0.7,\"#b8e186\"],[0.8,\"#7fbc41\"],[0.9,\"#4d9221\"],[1,\"#276419\"]],\"sequential\":[[0.0,\"#0d0887\"],[0.1111111111111111,\"#46039f\"],[0.2222222222222222,\"#7201a8\"],[0.3333333333333333,\"#9c179e\"],[0.4444444444444444,\"#bd3786\"],[0.5555555555555556,\"#d8576b\"],[0.6666666666666666,\"#ed7953\"],[0.7777777777777778,\"#fb9f3a\"],[0.8888888888888888,\"#fdca26\"],[1.0,\"#f0f921\"]],\"sequentialminus\":[[0.0,\"#0d0887\"],[0.1111111111111111,\"#46039f\"],[0.2222222222222222,\"#7201a8\"],[0.3333333333333333,\"#9c179e\"],[0.4444444444444444,\"#bd3786\"],[0.5555555555555556,\"#d8576b\"],[0.6666666666666666,\"#ed7953\"],[0.7777777777777778,\"#fb9f3a\"],[0.8888888888888888,\"#fdca26\"],[1.0,\"#f0f921\"]]},\"colorway\":[\"#636efa\",\"#EF553B\",\"#00cc96\",\"#ab63fa\",\"#FFA15A\",\"#19d3f3\",\"#FF6692\",\"#B6E880\",\"#FF97FF\",\"#FECB52\"],\"font\":{\"color\":\"#f2f5fa\",\"size\":18},\"geo\":{\"bgcolor\":\"rgb(17,17,17)\",\"lakecolor\":\"rgb(17,17,17)\",\"landcolor\":\"rgb(17,17,17)\",\"showlakes\":true,\"showland\":true,\"subunitcolor\":\"#506784\"},\"hoverlabel\":{\"align\":\"left\"},\"hovermode\":\"closest\",\"mapbox\":{\"style\":\"dark\"},\"paper_bgcolor\":\"rgb(17,17,17)\",\"plot_bgcolor\":\"rgb(17,17,17)\",\"polar\":{\"angularaxis\":{\"gridcolor\":\"#506784\",\"linecolor\":\"#506784\",\"ticks\":\"\"},\"bgcolor\":\"rgb(17,17,17)\",\"radialaxis\":{\"gridcolor\":\"#506784\",\"linecolor\":\"#506784\",\"ticks\":\"\"}},\"scene\":{\"xaxis\":{\"backgroundcolor\":\"rgb(17,17,17)\",\"gridcolor\":\"#506784\",\"gridwidth\":2,\"linecolor\":\"#506784\",\"showbackground\":true,\"ticks\":\"\",\"zerolinecolor\":\"#C8D4E3\"},\"yaxis\":{\"backgroundcolor\":\"rgb(17,17,17)\",\"gridcolor\":\"#506784\",\"gridwidth\":2,\"linecolor\":\"#506784\",\"showbackground\":true,\"ticks\":\"\",\"zerolinecolor\":\"#C8D4E3\"},\"zaxis\":{\"backgroundcolor\":\"rgb(17,17,17)\",\"gridcolor\":\"#506784\",\"gridwidth\":2,\"linecolor\":\"#506784\",\"showbackground\":true,\"ticks\":\"\",\"zerolinecolor\":\"#C8D4E3\"}},\"shapedefaults\":{\"line\":{\"color\":\"#f2f5fa\"}},\"sliderdefaults\":{\"bgcolor\":\"#C8D4E3\",\"bordercolor\":\"rgb(17,17,17)\",\"borderwidth\":1,\"tickwidth\":0},\"ternary\":{\"aaxis\":{\"gridcolor\":\"#506784\",\"linecolor\":\"#506784\",\"ticks\":\"\"},\"baxis\":{\"gridcolor\":\"#506784\",\"linecolor\":\"#506784\",\"ticks\":\"\"},\"bgcolor\":\"rgb(17,17,17)\",\"caxis\":{\"gridcolor\":\"#506784\",\"linecolor\":\"#506784\",\"ticks\":\"\"}},\"title\":{\"x\":0.05},\"updatemenudefaults\":{\"bgcolor\":\"#506784\",\"borderwidth\":0},\"xaxis\":{\"automargin\":true,\"gridcolor\":\"#283442\",\"linecolor\":\"#506784\",\"ticks\":\"\",\"title\":{\"standoff\":15},\"zerolinecolor\":\"#283442\",\"zerolinewidth\":2},\"yaxis\":{\"automargin\":true,\"gridcolor\":\"#283442\",\"linecolor\":\"#506784\",\"ticks\":\"\",\"title\":{\"standoff\":15},\"zerolinecolor\":\"#283442\",\"zerolinewidth\":2}}},\"xaxis\":{\"anchor\":\"y\",\"domain\":[0.0,1.0],\"title\":{\"text\":\"publication_date\"}},\"yaxis\":{\"anchor\":\"x\",\"domain\":[0.0,1.0],\"title\":{\"text\":\"rolling_jaccard\"}},\"legend\":{\"title\":{\"text\":\"author_name\"},\"tracegroupgap\":0},\"title\":{\"text\":\"IOUs rolling window: 365D\"}},                        {\"responsive\": true}                    ).then(function(){\n",
       "                            \n",
       "var gd = document.getElementById('78acc16f-35ed-49e1-962d-6cb16ac031c0');\n",
       "var x = new MutationObserver(function (mutations, observer) {{\n",
       "        var display = window.getComputedStyle(gd).display;\n",
       "        if (!display || display === 'none') {{\n",
       "            console.log([gd, 'removed!']);\n",
       "            Plotly.purge(gd);\n",
       "            observer.disconnect();\n",
       "        }}\n",
       "}});\n",
       "\n",
       "// Listen for the removal of the full notebook cells\n",
       "var notebookContainer = gd.closest('#notebook-container');\n",
       "if (notebookContainer) {{\n",
       "    x.observe(notebookContainer, {childList: true});\n",
       "}}\n",
       "\n",
       "// Listen for the clearing of the current output cell\n",
       "var outputEl = gd.closest('.output');\n",
       "if (outputEl) {{\n",
       "    x.observe(outputEl, {childList: true});\n",
       "}}\n",
       "\n",
       "                        })                };                });            </script>        </div>"
      ]
     },
     "metadata": {},
     "output_type": "display_data"
    }
   ],
   "source": [
    "window = combined_df2.window_size.values[0]\n",
    "(\n",
    "    combined_df2\n",
    "    # .groupby(pd.Grouper(freq='1D'))\n",
    "    # .agg(author_name=pd.NamedAgg(column='author_name', aggfunc='first'),\n",
    "    #      rolling_iou=pd.NamedAgg(column='rolling_jaccard', aggfunc='mean'))\n",
    "    # .dropna(subset=['rolling_iou'])\n",
    "    # .rename(columns={'rolling_iou': 'Rolling IOU'})\n",
    "    .plot\n",
    "    .line(y='rolling_jaccard', color='author_name', markers=True, \n",
    "          title=f'IOUs rolling window: {window}')\n",
    ")"
   ]
  },
  {
   "cell_type": "code",
   "execution_count": 314,
   "id": "52d631ca-aa7f-4288-9a39-1ee769cd44c0",
   "metadata": {
    "execution": {
     "iopub.execute_input": "2022-10-12T19:32:55.370079Z",
     "iopub.status.busy": "2022-10-12T19:32:55.369385Z",
     "iopub.status.idle": "2022-10-12T19:32:55.396636Z",
     "shell.execute_reply": "2022-10-12T19:32:55.396022Z",
     "shell.execute_reply.started": "2022-10-12T19:32:55.370026Z"
    },
    "tags": []
   },
   "outputs": [
    {
     "data": {
      "text/html": [
       "<div>\n",
       "<style scoped>\n",
       "    .dataframe tbody tr th:only-of-type {\n",
       "        vertical-align: middle;\n",
       "    }\n",
       "\n",
       "    .dataframe tbody tr th {\n",
       "        vertical-align: top;\n",
       "    }\n",
       "\n",
       "    .dataframe thead th {\n",
       "        text-align: right;\n",
       "    }\n",
       "</style>\n",
       "<table border=\"1\" class=\"dataframe\">\n",
       "  <thead>\n",
       "    <tr style=\"text-align: right;\">\n",
       "      <th></th>\n",
       "      <th>work_id</th>\n",
       "      <th>author_id</th>\n",
       "      <th>author_name</th>\n",
       "      <th>institution_id</th>\n",
       "      <th>coauthors</th>\n",
       "      <th>rolling_coauthors</th>\n",
       "      <th>rolling_jaccard</th>\n",
       "      <th>window_size</th>\n",
       "    </tr>\n",
       "    <tr>\n",
       "      <th>publication_date</th>\n",
       "      <th></th>\n",
       "      <th></th>\n",
       "      <th></th>\n",
       "      <th></th>\n",
       "      <th></th>\n",
       "      <th></th>\n",
       "      <th></th>\n",
       "      <th></th>\n",
       "    </tr>\n",
       "  </thead>\n",
       "  <tbody>\n",
       "    <tr>\n",
       "      <th>2017-10-06</th>\n",
       "      <td>2761435952</td>\n",
       "      <td>2122189410</td>\n",
       "      <td>Santo Fortunato</td>\n",
       "      <td>&lt;NA&gt;</td>\n",
       "      <td>[1274808907, 2257442005]</td>\n",
       "      <td>[[2949512033, 2395754243, 3210888771, 22387040...</td>\n",
       "      <td>0.076923</td>\n",
       "      <td>180D</td>\n",
       "    </tr>\n",
       "    <tr>\n",
       "      <th>2018-02-15</th>\n",
       "      <td>3121329986</td>\n",
       "      <td>2122189410</td>\n",
       "      <td>Santo Fortunato</td>\n",
       "      <td>&lt;NA&gt;</td>\n",
       "      <td>[2157809153, 2952575497, 2025463562, 216398695...</td>\n",
       "      <td>[[1274808907, 2257442005], [2157809153, 295257...</td>\n",
       "      <td>0.010000</td>\n",
       "      <td>180D</td>\n",
       "    </tr>\n",
       "    <tr>\n",
       "      <th>2018-02-19</th>\n",
       "      <td>2963041679</td>\n",
       "      <td>2122189410</td>\n",
       "      <td>Santo Fortunato</td>\n",
       "      <td>592451</td>\n",
       "      <td>[1274808907, 2257442005]</td>\n",
       "      <td>[[1274808907, 2257442005], [2157809153, 295257...</td>\n",
       "      <td>0.010000</td>\n",
       "      <td>180D</td>\n",
       "    </tr>\n",
       "  </tbody>\n",
       "</table>\n",
       "</div>"
      ],
      "text/plain": [
       "                     work_id   author_id      author_name  institution_id  \\\n",
       "publication_date                                                            \n",
       "2017-10-06        2761435952  2122189410  Santo Fortunato            <NA>   \n",
       "2018-02-15        3121329986  2122189410  Santo Fortunato            <NA>   \n",
       "2018-02-19        2963041679  2122189410  Santo Fortunato          592451   \n",
       "\n",
       "                                                          coauthors  \\\n",
       "publication_date                                                      \n",
       "2017-10-06                                 [1274808907, 2257442005]   \n",
       "2018-02-15        [2157809153, 2952575497, 2025463562, 216398695...   \n",
       "2018-02-19                                 [1274808907, 2257442005]   \n",
       "\n",
       "                                                  rolling_coauthors  \\\n",
       "publication_date                                                      \n",
       "2017-10-06        [[2949512033, 2395754243, 3210888771, 22387040...   \n",
       "2018-02-15        [[1274808907, 2257442005], [2157809153, 295257...   \n",
       "2018-02-19        [[1274808907, 2257442005], [2157809153, 295257...   \n",
       "\n",
       "                  rolling_jaccard window_size  \n",
       "publication_date                               \n",
       "2017-10-06               0.076923        180D  \n",
       "2018-02-15               0.010000        180D  \n",
       "2018-02-19               0.010000        180D  "
      ]
     },
     "execution_count": 314,
     "metadata": {},
     "output_type": "execute_result"
    }
   ],
   "source": [
    "(\n",
    "    combined_df2\n",
    "    .query('author_name==\"Santo Fortunato\"')\n",
    "    .query('rolling_jaccard>0')\n",
    ")"
   ]
  },
  {
   "cell_type": "code",
   "execution_count": 315,
   "id": "9eb81450-bbd5-4061-9e5e-c23ee2d22888",
   "metadata": {
    "execution": {
     "iopub.execute_input": "2022-10-12T19:32:59.370902Z",
     "iopub.status.busy": "2022-10-12T19:32:59.370214Z",
     "iopub.status.idle": "2022-10-12T19:32:59.530098Z",
     "shell.execute_reply": "2022-10-12T19:32:59.529446Z",
     "shell.execute_reply.started": "2022-10-12T19:32:59.370850Z"
    },
    "tags": []
   },
   "outputs": [
    {
     "data": {
      "text/html": [
       "<div>\n",
       "<style scoped>\n",
       "    .dataframe tbody tr th:only-of-type {\n",
       "        vertical-align: middle;\n",
       "    }\n",
       "\n",
       "    .dataframe tbody tr th {\n",
       "        vertical-align: top;\n",
       "    }\n",
       "\n",
       "    .dataframe thead th {\n",
       "        text-align: right;\n",
       "    }\n",
       "</style>\n",
       "<table border=\"1\" class=\"dataframe\">\n",
       "  <thead>\n",
       "    <tr style=\"text-align: right;\">\n",
       "      <th></th>\n",
       "      <th>work_id</th>\n",
       "      <th>author_id</th>\n",
       "      <th>author_name</th>\n",
       "      <th>institution_id</th>\n",
       "      <th>coauthors</th>\n",
       "      <th>rolling_coauthors</th>\n",
       "      <th>rolling_jaccard</th>\n",
       "      <th>window_size</th>\n",
       "    </tr>\n",
       "    <tr>\n",
       "      <th>publication_date</th>\n",
       "      <th></th>\n",
       "      <th></th>\n",
       "      <th></th>\n",
       "      <th></th>\n",
       "      <th></th>\n",
       "      <th></th>\n",
       "      <th></th>\n",
       "      <th></th>\n",
       "    </tr>\n",
       "  </thead>\n",
       "  <tbody>\n",
       "    <tr>\n",
       "      <th>2020-01-01</th>\n",
       "      <td>3173804767</td>\n",
       "      <td>2037649753</td>\n",
       "      <td>Tim Weninger</td>\n",
       "      <td>107639228</td>\n",
       "      <td>[2999961928, 3000004337, 2746653655, 279316447...</td>\n",
       "      <td>[[2947576465, 2746653655], [2297758725, 296882...</td>\n",
       "      <td>0.0</td>\n",
       "      <td>180D</td>\n",
       "    </tr>\n",
       "    <tr>\n",
       "      <th>2020-01-17</th>\n",
       "      <td>3000690722</td>\n",
       "      <td>2037649753</td>\n",
       "      <td>Tim Weninger</td>\n",
       "      <td>107639228</td>\n",
       "      <td>[2999961928, 3000004337, 2746653655, 279316447...</td>\n",
       "      <td>[[2297758725, 2968829366], [2014907840, 224819...</td>\n",
       "      <td>0.0</td>\n",
       "      <td>180D</td>\n",
       "    </tr>\n",
       "    <tr>\n",
       "      <th>2020-02-19</th>\n",
       "      <td>3007996372</td>\n",
       "      <td>2037649753</td>\n",
       "      <td>Tim Weninger</td>\n",
       "      <td>&lt;NA&gt;</td>\n",
       "      <td>[3008716992, 2082382046]</td>\n",
       "      <td>[[2947576465, 2746653655], [2297758725, 296882...</td>\n",
       "      <td>0.0</td>\n",
       "      <td>180D</td>\n",
       "    </tr>\n",
       "    <tr>\n",
       "      <th>2020-02-28</th>\n",
       "      <td>3008221414</td>\n",
       "      <td>2037649753</td>\n",
       "      <td>Tim Weninger</td>\n",
       "      <td>107639228</td>\n",
       "      <td>[2947576465, 2746653655]</td>\n",
       "      <td>[[2297758725, 2968829366], [2947576465], [2222...</td>\n",
       "      <td>0.0</td>\n",
       "      <td>180D</td>\n",
       "    </tr>\n",
       "    <tr>\n",
       "      <th>2020-09-14</th>\n",
       "      <td>3084934683</td>\n",
       "      <td>2037649753</td>\n",
       "      <td>Tim Weninger</td>\n",
       "      <td>107639228</td>\n",
       "      <td>[2968829366, 2297758725, 3086190262]</td>\n",
       "      <td>[[2968829366, 2297758725, 3086190262]]</td>\n",
       "      <td>0.0</td>\n",
       "      <td>180D</td>\n",
       "    </tr>\n",
       "    <tr>\n",
       "      <th>2020-09-18</th>\n",
       "      <td>3087679241</td>\n",
       "      <td>2037649753</td>\n",
       "      <td>Tim Weninger</td>\n",
       "      <td>107639228</td>\n",
       "      <td>[2297758725, 3086190262, 3087140631]</td>\n",
       "      <td>[[2968829366, 2297758725, 3086190262], [229775...</td>\n",
       "      <td>0.5</td>\n",
       "      <td>180D</td>\n",
       "    </tr>\n",
       "    <tr>\n",
       "      <th>2020-09-25</th>\n",
       "      <td>3091314601</td>\n",
       "      <td>2037649753</td>\n",
       "      <td>Tim Weninger</td>\n",
       "      <td>107639228</td>\n",
       "      <td>[2787316701, 3091203919]</td>\n",
       "      <td>[[2968829366, 2297758725, 3086190262], [229775...</td>\n",
       "      <td>0.0</td>\n",
       "      <td>180D</td>\n",
       "    </tr>\n",
       "  </tbody>\n",
       "</table>\n",
       "</div>"
      ],
      "text/plain": [
       "                     work_id   author_id   author_name  institution_id  \\\n",
       "publication_date                                                         \n",
       "2020-01-01        3173804767  2037649753  Tim Weninger       107639228   \n",
       "2020-01-17        3000690722  2037649753  Tim Weninger       107639228   \n",
       "2020-02-19        3007996372  2037649753  Tim Weninger            <NA>   \n",
       "2020-02-28        3008221414  2037649753  Tim Weninger       107639228   \n",
       "2020-09-14        3084934683  2037649753  Tim Weninger       107639228   \n",
       "2020-09-18        3087679241  2037649753  Tim Weninger       107639228   \n",
       "2020-09-25        3091314601  2037649753  Tim Weninger       107639228   \n",
       "\n",
       "                                                          coauthors  \\\n",
       "publication_date                                                      \n",
       "2020-01-01        [2999961928, 3000004337, 2746653655, 279316447...   \n",
       "2020-01-17        [2999961928, 3000004337, 2746653655, 279316447...   \n",
       "2020-02-19                                 [3008716992, 2082382046]   \n",
       "2020-02-28                                 [2947576465, 2746653655]   \n",
       "2020-09-14                     [2968829366, 2297758725, 3086190262]   \n",
       "2020-09-18                     [2297758725, 3086190262, 3087140631]   \n",
       "2020-09-25                                 [2787316701, 3091203919]   \n",
       "\n",
       "                                                  rolling_coauthors  \\\n",
       "publication_date                                                      \n",
       "2020-01-01        [[2947576465, 2746653655], [2297758725, 296882...   \n",
       "2020-01-17        [[2297758725, 2968829366], [2014907840, 224819...   \n",
       "2020-02-19        [[2947576465, 2746653655], [2297758725, 296882...   \n",
       "2020-02-28        [[2297758725, 2968829366], [2947576465], [2222...   \n",
       "2020-09-14                   [[2968829366, 2297758725, 3086190262]]   \n",
       "2020-09-18        [[2968829366, 2297758725, 3086190262], [229775...   \n",
       "2020-09-25        [[2968829366, 2297758725, 3086190262], [229775...   \n",
       "\n",
       "                  rolling_jaccard window_size  \n",
       "publication_date                               \n",
       "2020-01-01                    0.0        180D  \n",
       "2020-01-17                    0.0        180D  \n",
       "2020-02-19                    0.0        180D  \n",
       "2020-02-28                    0.0        180D  \n",
       "2020-09-14                    0.0        180D  \n",
       "2020-09-18                    0.5        180D  \n",
       "2020-09-25                    0.0        180D  "
      ]
     },
     "execution_count": 315,
     "metadata": {},
     "output_type": "execute_result"
    }
   ],
   "source": [
    "(\n",
    "    combined_df2\n",
    "    .query('author_name==\"Tim Weninger\"')\n",
    "    .loc['2020': '2020-09']\n",
    ")"
   ]
  },
  {
   "cell_type": "code",
   "execution_count": 322,
   "id": "bb17d711-87d9-4fb4-82f7-f8282a550a7c",
   "metadata": {
    "execution": {
     "iopub.execute_input": "2022-10-12T19:51:19.377692Z",
     "iopub.status.busy": "2022-10-12T19:51:19.373498Z",
     "iopub.status.idle": "2022-10-12T19:51:19.500839Z",
     "shell.execute_reply": "2022-10-12T19:51:19.500193Z",
     "shell.execute_reply.started": "2022-10-12T19:51:19.377634Z"
    },
    "tags": []
   },
   "outputs": [
    {
     "data": {
      "text/html": [
       "<div>\n",
       "<style scoped>\n",
       "    .dataframe tbody tr th:only-of-type {\n",
       "        vertical-align: middle;\n",
       "    }\n",
       "\n",
       "    .dataframe tbody tr th {\n",
       "        vertical-align: top;\n",
       "    }\n",
       "\n",
       "    .dataframe thead th {\n",
       "        text-align: right;\n",
       "    }\n",
       "</style>\n",
       "<table border=\"1\" class=\"dataframe\">\n",
       "  <thead>\n",
       "    <tr style=\"text-align: right;\">\n",
       "      <th></th>\n",
       "      <th>work_id</th>\n",
       "      <th>author_id</th>\n",
       "      <th>author_name</th>\n",
       "      <th>institution_id</th>\n",
       "      <th>coauthors</th>\n",
       "      <th>rolling_coauthors</th>\n",
       "      <th>rolling_jaccard</th>\n",
       "      <th>window_size</th>\n",
       "    </tr>\n",
       "    <tr>\n",
       "      <th>publication_date</th>\n",
       "      <th></th>\n",
       "      <th></th>\n",
       "      <th></th>\n",
       "      <th></th>\n",
       "      <th></th>\n",
       "      <th></th>\n",
       "      <th></th>\n",
       "      <th></th>\n",
       "    </tr>\n",
       "  </thead>\n",
       "  <tbody>\n",
       "    <tr>\n",
       "      <th>2018-02-01</th>\n",
       "      <td>2750171493</td>\n",
       "      <td>2037649753</td>\n",
       "      <td>Tim Weninger</td>\n",
       "      <td>107639228</td>\n",
       "      <td>[2110072997, 2157503142, 2629702310, 211829905...</td>\n",
       "      <td>[[2229551975], [2229551975], [2082264248, 2229...</td>\n",
       "      <td>0.00</td>\n",
       "      <td>5</td>\n",
       "    </tr>\n",
       "    <tr>\n",
       "      <th>2018-02-02</th>\n",
       "      <td>2787896276</td>\n",
       "      <td>2037649753</td>\n",
       "      <td>Tim Weninger</td>\n",
       "      <td>107639228</td>\n",
       "      <td>[2167285659, 2131539564, 2158342695]</td>\n",
       "      <td>[[2229551975], [2082264248, 2229551975], [2222...</td>\n",
       "      <td>0.00</td>\n",
       "      <td>5</td>\n",
       "    </tr>\n",
       "    <tr>\n",
       "      <th>2018-02-21</th>\n",
       "      <td>2788570566</td>\n",
       "      <td>2037649753</td>\n",
       "      <td>Tim Weninger</td>\n",
       "      <td>107639228</td>\n",
       "      <td>[2084141825, 2297564775]</td>\n",
       "      <td>[[2082264248, 2229551975], [2222650814], [2110...</td>\n",
       "      <td>0.00</td>\n",
       "      <td>5</td>\n",
       "    </tr>\n",
       "    <tr>\n",
       "      <th>2018-02-23</th>\n",
       "      <td>2788260867</td>\n",
       "      <td>2037649753</td>\n",
       "      <td>Tim Weninger</td>\n",
       "      <td>107639228</td>\n",
       "      <td>[2222650814]</td>\n",
       "      <td>[[2222650814], [2110072997, 2157503142, 262970...</td>\n",
       "      <td>0.00</td>\n",
       "      <td>5</td>\n",
       "    </tr>\n",
       "    <tr>\n",
       "      <th>2018-03-01</th>\n",
       "      <td>3125265912</td>\n",
       "      <td>2037649753</td>\n",
       "      <td>Tim Weninger</td>\n",
       "      <td>107639228</td>\n",
       "      <td>[2791827785, 2179590732, 319400591]</td>\n",
       "      <td>[[2110072997, 2157503142, 2629702310, 21182990...</td>\n",
       "      <td>0.00</td>\n",
       "      <td>5</td>\n",
       "    </tr>\n",
       "    <tr>\n",
       "      <th>2018-03-01</th>\n",
       "      <td>2791945349</td>\n",
       "      <td>2037649753</td>\n",
       "      <td>Tim Weninger</td>\n",
       "      <td>107639228</td>\n",
       "      <td>[2791827785, 2179590732, 319400591]</td>\n",
       "      <td>[[2167285659, 2131539564, 2158342695], [208414...</td>\n",
       "      <td>0.00</td>\n",
       "      <td>5</td>\n",
       "    </tr>\n",
       "    <tr>\n",
       "      <th>2018-04-23</th>\n",
       "      <td>3101273361</td>\n",
       "      <td>2037649753</td>\n",
       "      <td>Tim Weninger</td>\n",
       "      <td>107639228</td>\n",
       "      <td>[2222650814]</td>\n",
       "      <td>[[2084141825, 2297564775], [2222650814], [2791...</td>\n",
       "      <td>0.00</td>\n",
       "      <td>5</td>\n",
       "    </tr>\n",
       "    <tr>\n",
       "      <th>2018-04-25</th>\n",
       "      <td>2963041663</td>\n",
       "      <td>2037649753</td>\n",
       "      <td>Tim Weninger</td>\n",
       "      <td>107639228</td>\n",
       "      <td>[2222650814]</td>\n",
       "      <td>[[2222650814], [2791827785, 2179590732, 319400...</td>\n",
       "      <td>0.00</td>\n",
       "      <td>5</td>\n",
       "    </tr>\n",
       "    <tr>\n",
       "      <th>2018-05-30</th>\n",
       "      <td>2949112265</td>\n",
       "      <td>2037649753</td>\n",
       "      <td>Tim Weninger</td>\n",
       "      <td>107639228</td>\n",
       "      <td>[2170978862, 2229551975]</td>\n",
       "      <td>[[2791827785, 2179590732, 319400591], [2791827...</td>\n",
       "      <td>0.00</td>\n",
       "      <td>5</td>\n",
       "    </tr>\n",
       "    <tr>\n",
       "      <th>2018-06-11</th>\n",
       "      <td>2809556120</td>\n",
       "      <td>2037649753</td>\n",
       "      <td>Tim Weninger</td>\n",
       "      <td>&lt;NA&gt;</td>\n",
       "      <td>[2792761488, 2084141825, 2297564775]</td>\n",
       "      <td>[[2791827785, 2179590732, 319400591], [2222650...</td>\n",
       "      <td>0.00</td>\n",
       "      <td>5</td>\n",
       "    </tr>\n",
       "    <tr>\n",
       "      <th>2018-06-25</th>\n",
       "      <td>2805966204</td>\n",
       "      <td>2037649753</td>\n",
       "      <td>Tim Weninger</td>\n",
       "      <td>107639228</td>\n",
       "      <td>[2082264248, 2297758725, 2798292629, 2297564775]</td>\n",
       "      <td>[[2222650814], [2222650814], [2170978862, 2229...</td>\n",
       "      <td>0.00</td>\n",
       "      <td>5</td>\n",
       "    </tr>\n",
       "    <tr>\n",
       "      <th>2018-07-01</th>\n",
       "      <td>2798376639</td>\n",
       "      <td>2037649753</td>\n",
       "      <td>Tim Weninger</td>\n",
       "      <td>107639228</td>\n",
       "      <td>[2170978862, 2229551975]</td>\n",
       "      <td>[[2222650814], [2170978862, 2229551975], [2792...</td>\n",
       "      <td>0.00</td>\n",
       "      <td>5</td>\n",
       "    </tr>\n",
       "    <tr>\n",
       "      <th>2018-07-14</th>\n",
       "      <td>2884287101</td>\n",
       "      <td>2037649753</td>\n",
       "      <td>Tim Weninger</td>\n",
       "      <td>107639228</td>\n",
       "      <td>[2170978862, 2229551975]</td>\n",
       "      <td>[[2170978862, 2229551975], [2792761488, 208414...</td>\n",
       "      <td>0.00</td>\n",
       "      <td>5</td>\n",
       "    </tr>\n",
       "    <tr>\n",
       "      <th>2018-08-28</th>\n",
       "      <td>2963154879</td>\n",
       "      <td>2037649753</td>\n",
       "      <td>Tim Weninger</td>\n",
       "      <td>107639228</td>\n",
       "      <td>[2170978862, 2229551975]</td>\n",
       "      <td>[[2792761488, 2084141825, 2297564775], [208226...</td>\n",
       "      <td>0.00</td>\n",
       "      <td>5</td>\n",
       "    </tr>\n",
       "    <tr>\n",
       "      <th>2018-09-03</th>\n",
       "      <td>2891771966</td>\n",
       "      <td>2037649753</td>\n",
       "      <td>Tim Weninger</td>\n",
       "      <td>107639228</td>\n",
       "      <td>[3205281731, 2020459140, 2229551975]</td>\n",
       "      <td>[[2082264248, 2297758725, 2798292629, 22975647...</td>\n",
       "      <td>0.00</td>\n",
       "      <td>5</td>\n",
       "    </tr>\n",
       "    <tr>\n",
       "      <th>2018-11-01</th>\n",
       "      <td>2964215131</td>\n",
       "      <td>2037649753</td>\n",
       "      <td>Tim Weninger</td>\n",
       "      <td>107639228</td>\n",
       "      <td>[3205281731, 2020459140, 2229551975]</td>\n",
       "      <td>[[2170978862, 2229551975], [2170978862, 222955...</td>\n",
       "      <td>0.25</td>\n",
       "      <td>5</td>\n",
       "    </tr>\n",
       "    <tr>\n",
       "      <th>2018-11-21</th>\n",
       "      <td>3102739576</td>\n",
       "      <td>2037649753</td>\n",
       "      <td>Tim Weninger</td>\n",
       "      <td>107639228</td>\n",
       "      <td>[2170978862, 2229551975]</td>\n",
       "      <td>[[2170978862, 2229551975], [2170978862, 222955...</td>\n",
       "      <td>0.25</td>\n",
       "      <td>5</td>\n",
       "    </tr>\n",
       "    <tr>\n",
       "      <th>2018-12-09</th>\n",
       "      <td>2901048557</td>\n",
       "      <td>2037649753</td>\n",
       "      <td>Tim Weninger</td>\n",
       "      <td>107639228</td>\n",
       "      <td>[2170978862, 2229551975]</td>\n",
       "      <td>[[2170978862, 2229551975], [3205281731, 202045...</td>\n",
       "      <td>0.25</td>\n",
       "      <td>5</td>\n",
       "    </tr>\n",
       "  </tbody>\n",
       "</table>\n",
       "</div>"
      ],
      "text/plain": [
       "                     work_id   author_id   author_name  institution_id  \\\n",
       "publication_date                                                         \n",
       "2018-02-01        2750171493  2037649753  Tim Weninger       107639228   \n",
       "2018-02-02        2787896276  2037649753  Tim Weninger       107639228   \n",
       "2018-02-21        2788570566  2037649753  Tim Weninger       107639228   \n",
       "2018-02-23        2788260867  2037649753  Tim Weninger       107639228   \n",
       "2018-03-01        3125265912  2037649753  Tim Weninger       107639228   \n",
       "2018-03-01        2791945349  2037649753  Tim Weninger       107639228   \n",
       "2018-04-23        3101273361  2037649753  Tim Weninger       107639228   \n",
       "2018-04-25        2963041663  2037649753  Tim Weninger       107639228   \n",
       "2018-05-30        2949112265  2037649753  Tim Weninger       107639228   \n",
       "2018-06-11        2809556120  2037649753  Tim Weninger            <NA>   \n",
       "2018-06-25        2805966204  2037649753  Tim Weninger       107639228   \n",
       "2018-07-01        2798376639  2037649753  Tim Weninger       107639228   \n",
       "2018-07-14        2884287101  2037649753  Tim Weninger       107639228   \n",
       "2018-08-28        2963154879  2037649753  Tim Weninger       107639228   \n",
       "2018-09-03        2891771966  2037649753  Tim Weninger       107639228   \n",
       "2018-11-01        2964215131  2037649753  Tim Weninger       107639228   \n",
       "2018-11-21        3102739576  2037649753  Tim Weninger       107639228   \n",
       "2018-12-09        2901048557  2037649753  Tim Weninger       107639228   \n",
       "\n",
       "                                                          coauthors  \\\n",
       "publication_date                                                      \n",
       "2018-02-01        [2110072997, 2157503142, 2629702310, 211829905...   \n",
       "2018-02-02                     [2167285659, 2131539564, 2158342695]   \n",
       "2018-02-21                                 [2084141825, 2297564775]   \n",
       "2018-02-23                                             [2222650814]   \n",
       "2018-03-01                      [2791827785, 2179590732, 319400591]   \n",
       "2018-03-01                      [2791827785, 2179590732, 319400591]   \n",
       "2018-04-23                                             [2222650814]   \n",
       "2018-04-25                                             [2222650814]   \n",
       "2018-05-30                                 [2170978862, 2229551975]   \n",
       "2018-06-11                     [2792761488, 2084141825, 2297564775]   \n",
       "2018-06-25         [2082264248, 2297758725, 2798292629, 2297564775]   \n",
       "2018-07-01                                 [2170978862, 2229551975]   \n",
       "2018-07-14                                 [2170978862, 2229551975]   \n",
       "2018-08-28                                 [2170978862, 2229551975]   \n",
       "2018-09-03                     [3205281731, 2020459140, 2229551975]   \n",
       "2018-11-01                     [3205281731, 2020459140, 2229551975]   \n",
       "2018-11-21                                 [2170978862, 2229551975]   \n",
       "2018-12-09                                 [2170978862, 2229551975]   \n",
       "\n",
       "                                                  rolling_coauthors  \\\n",
       "publication_date                                                      \n",
       "2018-02-01        [[2229551975], [2229551975], [2082264248, 2229...   \n",
       "2018-02-02        [[2229551975], [2082264248, 2229551975], [2222...   \n",
       "2018-02-21        [[2082264248, 2229551975], [2222650814], [2110...   \n",
       "2018-02-23        [[2222650814], [2110072997, 2157503142, 262970...   \n",
       "2018-03-01        [[2110072997, 2157503142, 2629702310, 21182990...   \n",
       "2018-03-01        [[2167285659, 2131539564, 2158342695], [208414...   \n",
       "2018-04-23        [[2084141825, 2297564775], [2222650814], [2791...   \n",
       "2018-04-25        [[2222650814], [2791827785, 2179590732, 319400...   \n",
       "2018-05-30        [[2791827785, 2179590732, 319400591], [2791827...   \n",
       "2018-06-11        [[2791827785, 2179590732, 319400591], [2222650...   \n",
       "2018-06-25        [[2222650814], [2222650814], [2170978862, 2229...   \n",
       "2018-07-01        [[2222650814], [2170978862, 2229551975], [2792...   \n",
       "2018-07-14        [[2170978862, 2229551975], [2792761488, 208414...   \n",
       "2018-08-28        [[2792761488, 2084141825, 2297564775], [208226...   \n",
       "2018-09-03        [[2082264248, 2297758725, 2798292629, 22975647...   \n",
       "2018-11-01        [[2170978862, 2229551975], [2170978862, 222955...   \n",
       "2018-11-21        [[2170978862, 2229551975], [2170978862, 222955...   \n",
       "2018-12-09        [[2170978862, 2229551975], [3205281731, 202045...   \n",
       "\n",
       "                  rolling_jaccard  window_size  \n",
       "publication_date                                \n",
       "2018-02-01                   0.00            5  \n",
       "2018-02-02                   0.00            5  \n",
       "2018-02-21                   0.00            5  \n",
       "2018-02-23                   0.00            5  \n",
       "2018-03-01                   0.00            5  \n",
       "2018-03-01                   0.00            5  \n",
       "2018-04-23                   0.00            5  \n",
       "2018-04-25                   0.00            5  \n",
       "2018-05-30                   0.00            5  \n",
       "2018-06-11                   0.00            5  \n",
       "2018-06-25                   0.00            5  \n",
       "2018-07-01                   0.00            5  \n",
       "2018-07-14                   0.00            5  \n",
       "2018-08-28                   0.00            5  \n",
       "2018-09-03                   0.00            5  \n",
       "2018-11-01                   0.25            5  \n",
       "2018-11-21                   0.25            5  \n",
       "2018-12-09                   0.25            5  "
      ]
     },
     "execution_count": 322,
     "metadata": {},
     "output_type": "execute_result"
    }
   ],
   "source": [
    "(\n",
    "    combined_df\n",
    "    .query('author_name==\"Tim Weninger\"')\n",
    "    .loc['2018']\n",
    ")"
   ]
  },
  {
   "cell_type": "code",
   "execution_count": null,
   "id": "f3edf363-cdd5-47ee-84f9-a24195c899ad",
   "metadata": {},
   "outputs": [],
   "source": []
  }
 ],
 "metadata": {
  "kernelspec": {
   "display_name": "sci-sci",
   "language": "python",
   "name": "sci-sci"
  },
  "language_info": {
   "codemirror_mode": {
    "name": "ipython",
    "version": 3
   },
   "file_extension": ".py",
   "mimetype": "text/x-python",
   "name": "python",
   "nbconvert_exporter": "python",
   "pygments_lexer": "ipython3",
   "version": "3.9.13"
  }
 },
 "nbformat": 4,
 "nbformat_minor": 5
}
