{
 "cells": [
  {
   "cell_type": "markdown",
   "id": "05cd59b6-bbd9-495a-b2c3-256558332d78",
   "metadata": {},
   "source": [
    "# Author IOU computation \n",
    "## Oct 12, 2022"
   ]
  },
  {
   "cell_type": "code",
   "execution_count": 2,
   "id": "b054e3e9-72b7-4346-9384-c3bf39bc7db6",
   "metadata": {
    "execution": {
     "iopub.execute_input": "2022-10-12T23:46:21.463784Z",
     "iopub.status.busy": "2022-10-12T23:46:21.463124Z",
     "iopub.status.idle": "2022-10-12T23:47:53.621177Z",
     "shell.execute_reply": "2022-10-12T23:47:53.619870Z",
     "shell.execute_reply.started": "2022-10-12T23:46:21.463732Z"
    },
    "tags": []
   },
   "outputs": [],
   "source": [
    "import pandas as pd\n",
    "from pathlib import Path\n",
    "import sys \n",
    "import gc\n",
    "from tqdm.auto import tqdm \n",
    "import re\n",
    "from string import punctuation\n",
    "import matplotlib.pyplot as plt \n",
    "import seaborn as sns\n",
    "import igraph as ig \n",
    "import ast\n",
    "import orjson as json\n",
    "import datetime as dt\n",
    "import pyarrow.parquet as pq\n",
    "import plotly.express as px\n",
    "import plotly.io as pio\n",
    "\n",
    "tqdm.pandas()\n",
    "plt.rcParams.update({'font.size': 22})\n",
    "sns.set(style=\"ticks\", context=\"talk\")\n",
    "plt.style.use(\"dark_background\")\n",
    "\n",
    "pd.options.plotting.backend = 'plotly'\n",
    "pio.templates.default = 'plotly_dark+presentation'"
   ]
  },
  {
   "cell_type": "code",
   "execution_count": 3,
   "id": "aac4dca9-8da6-4e90-949b-01192b0bb65c",
   "metadata": {
    "execution": {
     "iopub.execute_input": "2022-10-12T23:47:53.623690Z",
     "iopub.status.busy": "2022-10-12T23:47:53.623055Z",
     "iopub.status.idle": "2022-10-12T23:47:53.628365Z",
     "shell.execute_reply": "2022-10-12T23:47:53.627785Z",
     "shell.execute_reply.started": "2022-10-12T23:47:53.623667Z"
    },
    "tags": []
   },
   "outputs": [],
   "source": [
    "basepath = Path('/N/project/openalex/ssikdar/filtered')"
   ]
  },
  {
   "cell_type": "markdown",
   "id": "d65bbd9a-7770-45b9-9af6-4ef3382b4251",
   "metadata": {},
   "source": [
    "For the whole dataset, run this cell"
   ]
  },
  {
   "cell_type": "code",
   "execution_count": 301,
   "id": "76bef657-8e10-4631-9f11-0b24d5a6b0e0",
   "metadata": {
    "execution": {
     "iopub.execute_input": "2022-10-12T19:29:03.371884Z",
     "iopub.status.busy": "2022-10-12T19:29:03.371031Z",
     "iopub.status.idle": "2022-10-12T19:31:03.552874Z",
     "shell.execute_reply": "2022-10-12T19:31:03.550884Z",
     "shell.execute_reply.started": "2022-10-12T19:29:03.371828Z"
    },
    "tags": []
   },
   "outputs": [
    {
     "data": {
      "text/plain": [
       "'len(works_authors_df)=137,068,709'"
      ]
     },
     "metadata": {},
     "output_type": "display_data"
    },
    {
     "data": {
      "text/html": [
       "<div>\n",
       "<style scoped>\n",
       "    .dataframe tbody tr th:only-of-type {\n",
       "        vertical-align: middle;\n",
       "    }\n",
       "\n",
       "    .dataframe tbody tr th {\n",
       "        vertical-align: top;\n",
       "    }\n",
       "\n",
       "    .dataframe thead th {\n",
       "        text-align: right;\n",
       "    }\n",
       "</style>\n",
       "<table border=\"1\" class=\"dataframe\">\n",
       "  <thead>\n",
       "    <tr style=\"text-align: right;\">\n",
       "      <th></th>\n",
       "      <th>work_id</th>\n",
       "      <th>author_id</th>\n",
       "      <th>author_name</th>\n",
       "      <th>institution_id</th>\n",
       "      <th>publication_date</th>\n",
       "      <th>year</th>\n",
       "      <th>month</th>\n",
       "    </tr>\n",
       "  </thead>\n",
       "  <tbody>\n",
       "    <tr>\n",
       "      <th>3389</th>\n",
       "      <td>2286263278</td>\n",
       "      <td>3175442675</td>\n",
       "      <td>Jeffrey Brown</td>\n",
       "      <td>&lt;NA&gt;</td>\n",
       "      <td>2017-01-01</td>\n",
       "      <td>2017</td>\n",
       "      <td>1</td>\n",
       "    </tr>\n",
       "    <tr>\n",
       "      <th>3422</th>\n",
       "      <td>2286418227</td>\n",
       "      <td>2630270478</td>\n",
       "      <td>Nicole Coutrelis</td>\n",
       "      <td>&lt;NA&gt;</td>\n",
       "      <td>2017-01-01</td>\n",
       "      <td>2017</td>\n",
       "      <td>1</td>\n",
       "    </tr>\n",
       "    <tr>\n",
       "      <th>3423</th>\n",
       "      <td>2286418227</td>\n",
       "      <td>2342147013</td>\n",
       "      <td>Thomas Gourdea</td>\n",
       "      <td>&lt;NA&gt;</td>\n",
       "      <td>2017-01-01</td>\n",
       "      <td>2017</td>\n",
       "      <td>1</td>\n",
       "    </tr>\n",
       "    <tr>\n",
       "      <th>6467</th>\n",
       "      <td>2295757329</td>\n",
       "      <td>2157057934</td>\n",
       "      <td>Margaret Hodgins</td>\n",
       "      <td>&lt;NA&gt;</td>\n",
       "      <td>2017-01-01</td>\n",
       "      <td>2017</td>\n",
       "      <td>1</td>\n",
       "    </tr>\n",
       "    <tr>\n",
       "      <th>6468</th>\n",
       "      <td>2295757329</td>\n",
       "      <td>2778590059</td>\n",
       "      <td>Paul Fleming</td>\n",
       "      <td>&lt;NA&gt;</td>\n",
       "      <td>2017-01-01</td>\n",
       "      <td>2017</td>\n",
       "      <td>1</td>\n",
       "    </tr>\n",
       "  </tbody>\n",
       "</table>\n",
       "</div>"
      ],
      "text/plain": [
       "         work_id   author_id       author_name  institution_id  \\\n",
       "3389  2286263278  3175442675     Jeffrey Brown            <NA>   \n",
       "3422  2286418227  2630270478  Nicole Coutrelis            <NA>   \n",
       "3423  2286418227  2342147013    Thomas Gourdea            <NA>   \n",
       "6467  2295757329  2157057934  Margaret Hodgins            <NA>   \n",
       "6468  2295757329  2778590059      Paul Fleming            <NA>   \n",
       "\n",
       "     publication_date  year month  \n",
       "3389       2017-01-01  2017     1  \n",
       "3422       2017-01-01  2017     1  \n",
       "3423       2017-01-01  2017     1  \n",
       "6467       2017-01-01  2017     1  \n",
       "6468       2017-01-01  2017     1  "
      ]
     },
     "metadata": {},
     "output_type": "display_data"
    }
   ],
   "source": [
    "years = [2017, 2018, 2019, 2020, 2021, 2022]\n",
    "\n",
    "dataset = pq.ParquetDataset(basepath / 'works_authorship_split', use_legacy_dataset=False,\n",
    "                            filters=[('year', 'in', years),])\n",
    "\n",
    "works_authors_df = dataset.read().to_pandas()\n",
    "\n",
    "display(f'{len(works_authors_df)=:,}')\n",
    "display(works_authors_df.head())"
   ]
  },
  {
   "cell_type": "markdown",
   "id": "a4f03eb3-2834-4355-a5c4-9eed7a7146bd",
   "metadata": {},
   "source": [
    "For the small snapshot, run the following cell instead"
   ]
  },
  {
   "cell_type": "code",
   "execution_count": 4,
   "id": "ff41b3b0-a740-4801-983e-9498d191dedf",
   "metadata": {
    "execution": {
     "iopub.execute_input": "2022-10-12T23:47:53.629170Z",
     "iopub.status.busy": "2022-10-12T23:47:53.629003Z",
     "iopub.status.idle": "2022-10-12T23:47:53.997969Z",
     "shell.execute_reply": "2022-10-12T23:47:53.996892Z",
     "shell.execute_reply.started": "2022-10-12T23:47:53.629154Z"
    },
    "tags": []
   },
   "outputs": [
    {
     "data": {
      "text/html": [
       "<div>\n",
       "<style scoped>\n",
       "    .dataframe tbody tr th:only-of-type {\n",
       "        vertical-align: middle;\n",
       "    }\n",
       "\n",
       "    .dataframe tbody tr th {\n",
       "        vertical-align: top;\n",
       "    }\n",
       "\n",
       "    .dataframe thead th {\n",
       "        text-align: right;\n",
       "    }\n",
       "</style>\n",
       "<table border=\"1\" class=\"dataframe\">\n",
       "  <thead>\n",
       "    <tr style=\"text-align: right;\">\n",
       "      <th></th>\n",
       "      <th>work_id</th>\n",
       "      <th>author_id</th>\n",
       "      <th>author_name</th>\n",
       "      <th>institution_id</th>\n",
       "      <th>publication_date</th>\n",
       "    </tr>\n",
       "  </thead>\n",
       "  <tbody>\n",
       "    <tr>\n",
       "      <th>4066359</th>\n",
       "      <td>2597768936</td>\n",
       "      <td>2113839928</td>\n",
       "      <td>Carlo Ratti</td>\n",
       "      <td>&lt;NA&gt;</td>\n",
       "      <td>2017-01-01</td>\n",
       "    </tr>\n",
       "    <tr>\n",
       "      <th>4066360</th>\n",
       "      <td>2597768936</td>\n",
       "      <td>2303729449</td>\n",
       "      <td>Anthony Townsend</td>\n",
       "      <td>&lt;NA&gt;</td>\n",
       "      <td>2017-01-01</td>\n",
       "    </tr>\n",
       "    <tr>\n",
       "      <th>7810095</th>\n",
       "      <td>2564771753</td>\n",
       "      <td>2570477082</td>\n",
       "      <td>Alexander Kocian</td>\n",
       "      <td>108290504</td>\n",
       "      <td>2017-01-03</td>\n",
       "    </tr>\n",
       "    <tr>\n",
       "      <th>7810096</th>\n",
       "      <td>2564771753</td>\n",
       "      <td>1979704246</td>\n",
       "      <td>Mihai-Alin Badiu</td>\n",
       "      <td>891191580</td>\n",
       "      <td>2017-01-03</td>\n",
       "    </tr>\n",
       "    <tr>\n",
       "      <th>7810097</th>\n",
       "      <td>2564771753</td>\n",
       "      <td>2472223787</td>\n",
       "      <td>Bernard Henri Fleury</td>\n",
       "      <td>891191580</td>\n",
       "      <td>2017-01-03</td>\n",
       "    </tr>\n",
       "    <tr>\n",
       "      <th>...</th>\n",
       "      <td>...</td>\n",
       "      <td>...</td>\n",
       "      <td>...</td>\n",
       "      <td>...</td>\n",
       "      <td>...</td>\n",
       "    </tr>\n",
       "    <tr>\n",
       "      <th>27521817</th>\n",
       "      <td>4224234379</td>\n",
       "      <td>4221802513</td>\n",
       "      <td>Xiaohu Zhang</td>\n",
       "      <td>68236693</td>\n",
       "      <td>2022-06-01</td>\n",
       "    </tr>\n",
       "    <tr>\n",
       "      <th>27521818</th>\n",
       "      <td>4224234379</td>\n",
       "      <td>4224574267</td>\n",
       "      <td>Martina Mazzarello</td>\n",
       "      <td>63966007</td>\n",
       "      <td>2022-06-01</td>\n",
       "    </tr>\n",
       "    <tr>\n",
       "      <th>27521819</th>\n",
       "      <td>4224234379</td>\n",
       "      <td>2980553576</td>\n",
       "      <td>Lin Yang</td>\n",
       "      <td>14243506</td>\n",
       "      <td>2022-06-01</td>\n",
       "    </tr>\n",
       "    <tr>\n",
       "      <th>27521820</th>\n",
       "      <td>4224234379</td>\n",
       "      <td>2980553576</td>\n",
       "      <td>Lin Yang</td>\n",
       "      <td>14243506</td>\n",
       "      <td>2022-06-01</td>\n",
       "    </tr>\n",
       "    <tr>\n",
       "      <th>27521821</th>\n",
       "      <td>4224234379</td>\n",
       "      <td>4221802516</td>\n",
       "      <td>Carlo Ratti</td>\n",
       "      <td>63966007</td>\n",
       "      <td>2022-06-01</td>\n",
       "    </tr>\n",
       "  </tbody>\n",
       "</table>\n",
       "<p>1857 rows × 5 columns</p>\n",
       "</div>"
      ],
      "text/plain": [
       "             work_id   author_id           author_name  institution_id  \\\n",
       "4066359   2597768936  2113839928           Carlo Ratti            <NA>   \n",
       "4066360   2597768936  2303729449      Anthony Townsend            <NA>   \n",
       "7810095   2564771753  2570477082      Alexander Kocian       108290504   \n",
       "7810096   2564771753  1979704246      Mihai-Alin Badiu       891191580   \n",
       "7810097   2564771753  2472223787  Bernard Henri Fleury       891191580   \n",
       "...              ...         ...                   ...             ...   \n",
       "27521817  4224234379  4221802513          Xiaohu Zhang        68236693   \n",
       "27521818  4224234379  4224574267    Martina Mazzarello        63966007   \n",
       "27521819  4224234379  2980553576              Lin Yang        14243506   \n",
       "27521820  4224234379  2980553576              Lin Yang        14243506   \n",
       "27521821  4224234379  4221802516           Carlo Ratti        63966007   \n",
       "\n",
       "         publication_date  \n",
       "4066359        2017-01-01  \n",
       "4066360        2017-01-01  \n",
       "7810095        2017-01-03  \n",
       "7810096        2017-01-03  \n",
       "7810097        2017-01-03  \n",
       "...                   ...  \n",
       "27521817       2022-06-01  \n",
       "27521818       2022-06-01  \n",
       "27521819       2022-06-01  \n",
       "27521820       2022-06-01  \n",
       "27521821       2022-06-01  \n",
       "\n",
       "[1857 rows x 5 columns]"
      ]
     },
     "execution_count": 4,
     "metadata": {},
     "output_type": "execute_result"
    }
   ],
   "source": [
    "works_authors_df = pd.read_parquet('../data/works_authors_small.parquet')\n",
    "works_authors_df"
   ]
  },
  {
   "cell_type": "code",
   "execution_count": 32,
   "id": "86e0210e-f5ee-4562-b107-feef4bd6b19c",
   "metadata": {
    "execution": {
     "iopub.execute_input": "2022-10-13T00:01:26.853008Z",
     "iopub.status.busy": "2022-10-13T00:01:26.852350Z",
     "iopub.status.idle": "2022-10-13T00:01:26.868046Z",
     "shell.execute_reply": "2022-10-13T00:01:26.866790Z",
     "shell.execute_reply.started": "2022-10-13T00:01:26.852957Z"
    },
    "tags": []
   },
   "outputs": [],
   "source": [
    "def jaccard(list_of_lists):    \n",
    "    list_of_sets = [set(l) for l in list_of_lists]\n",
    "    intersection = set.intersection(*list_of_sets)\n",
    "    union = set.union(*list_of_sets)\n",
    "\n",
    "    return len(intersection) / max(1, len(union))\n",
    "\n",
    "def rolling_iou_author(author_id, works_authors, window_size=2):\n",
    "    \"\"\"\n",
    "    author_id: author id for the intended author\n",
    "    works_authors: dataframe linking works and authors - must have publication_date \n",
    "    window_size: window parameter for the pd.rolling method \n",
    "    \"\"\"\n",
    "    # get all rows for the author, and set the publication date as the index \n",
    "    authors_works_df = (\n",
    "        works_authors\n",
    "        .query('author_id==@author_id', engine='python')\n",
    "        .drop_duplicates(subset=['work_id'])  # drop works with multiple affils \n",
    "        .sort_values(by='publication_date')\n",
    "        .set_index('publication_date')\n",
    "    )\n",
    "    \n",
    "    # get the work ids for the author\n",
    "    author_work_ids = set(\n",
    "        authors_works_df\n",
    "        .work_id\n",
    "        .unique()\n",
    "    )\n",
    "    \n",
    "    # store the set of coauthors for each work id sorted by date \n",
    "    temporal_coauthors_df = authors_works_df.join(\n",
    "        works_authors\n",
    "        .query('work_id.isin(@author_work_ids)', engine='python')\n",
    "        .groupby('work_id')\n",
    "        .author_id\n",
    "        .apply(lambda ser: set(ser) - {author_id})  # remove the author from the set \n",
    "        .rename('coauthors'),\n",
    "        on='work_id'\n",
    "    )\n",
    "\n",
    "    res = (\n",
    "        temporal_coauthors_df\n",
    "        .assign(\n",
    "            rolling_coauthors=lambda df_: ([window.to_list()\n",
    "                                            for window in \n",
    "                                            df_\n",
    "                                            .coauthors\n",
    "                                            .rolling(window=window_size)]),   # possible bug here\n",
    "            window_size=window_size\n",
    "        )\n",
    "        .assign(rolling_jaccard=lambda df_: df_.rolling_coauthors.apply(jaccard))  # calculate jaccard\n",
    "    )\n",
    "    \n",
    "    return res"
   ]
  },
  {
   "cell_type": "code",
   "execution_count": 12,
   "id": "f32531ba-0571-492f-8d1a-69a7afdc8784",
   "metadata": {
    "execution": {
     "iopub.execute_input": "2022-10-12T23:52:21.769424Z",
     "iopub.status.busy": "2022-10-12T23:52:21.768849Z",
     "iopub.status.idle": "2022-10-12T23:52:21.776288Z",
     "shell.execute_reply": "2022-10-12T23:52:21.774839Z",
     "shell.execute_reply.started": "2022-10-12T23:52:21.769374Z"
    },
    "tags": []
   },
   "outputs": [],
   "source": [
    "# carlo, santo, paolo, and Tim's IDs \n",
    "author_ids = [2122189410, 2113839928, 2127131468, 2037649753]\n",
    "combined_df = None"
   ]
  },
  {
   "cell_type": "code",
   "execution_count": 29,
   "id": "21bf9221-e735-42fe-9940-e9862743634a",
   "metadata": {
    "execution": {
     "iopub.execute_input": "2022-10-13T00:00:00.270990Z",
     "iopub.status.busy": "2022-10-13T00:00:00.270037Z",
     "iopub.status.idle": "2022-10-13T00:00:00.307156Z",
     "shell.execute_reply": "2022-10-13T00:00:00.306482Z",
     "shell.execute_reply.started": "2022-10-13T00:00:00.270935Z"
    },
    "tags": []
   },
   "outputs": [
    {
     "data": {
      "text/html": [
       "<div>\n",
       "<style scoped>\n",
       "    .dataframe tbody tr th:only-of-type {\n",
       "        vertical-align: middle;\n",
       "    }\n",
       "\n",
       "    .dataframe tbody tr th {\n",
       "        vertical-align: top;\n",
       "    }\n",
       "\n",
       "    .dataframe thead th {\n",
       "        text-align: right;\n",
       "    }\n",
       "</style>\n",
       "<table border=\"1\" class=\"dataframe\">\n",
       "  <thead>\n",
       "    <tr style=\"text-align: right;\">\n",
       "      <th></th>\n",
       "      <th>work_id</th>\n",
       "      <th>author_id</th>\n",
       "      <th>author_name</th>\n",
       "      <th>institution_id</th>\n",
       "      <th>coauthors</th>\n",
       "      <th>rolling_coauthors</th>\n",
       "      <th>window_size</th>\n",
       "      <th>rolling_jaccard</th>\n",
       "    </tr>\n",
       "    <tr>\n",
       "      <th>publication_date</th>\n",
       "      <th></th>\n",
       "      <th></th>\n",
       "      <th></th>\n",
       "      <th></th>\n",
       "      <th></th>\n",
       "      <th></th>\n",
       "      <th></th>\n",
       "      <th></th>\n",
       "    </tr>\n",
       "  </thead>\n",
       "  <tbody>\n",
       "    <tr>\n",
       "      <th>2017-04-01</th>\n",
       "      <td>2604374094</td>\n",
       "      <td>2122189410</td>\n",
       "      <td>Santo Fortunato</td>\n",
       "      <td>&lt;NA&gt;</td>\n",
       "      <td>{2156931689, 2105367364, 2037037628, 2074066684}</td>\n",
       "      <td>[{2156931689, 2105367364, 2037037628, 20740666...</td>\n",
       "      <td>2</td>\n",
       "      <td>1.000000</td>\n",
       "    </tr>\n",
       "    <tr>\n",
       "      <th>2017-07-01</th>\n",
       "      <td>2766966917</td>\n",
       "      <td>2122189410</td>\n",
       "      <td>Santo Fortunato</td>\n",
       "      <td>&lt;NA&gt;</td>\n",
       "      <td>{2949512033, 2395754243, 3210888771, 223870407...</td>\n",
       "      <td>[{2156931689, 2105367364, 2037037628, 20740666...</td>\n",
       "      <td>2</td>\n",
       "      <td>0.000000</td>\n",
       "    </tr>\n",
       "    <tr>\n",
       "      <th>2017-10-06</th>\n",
       "      <td>2761435952</td>\n",
       "      <td>2122189410</td>\n",
       "      <td>Santo Fortunato</td>\n",
       "      <td>&lt;NA&gt;</td>\n",
       "      <td>{1274808907, 2257442005}</td>\n",
       "      <td>[{2949512033, 2395754243, 3210888771, 22387040...</td>\n",
       "      <td>2</td>\n",
       "      <td>0.076923</td>\n",
       "    </tr>\n",
       "    <tr>\n",
       "      <th>2018-02-15</th>\n",
       "      <td>3121329986</td>\n",
       "      <td>2122189410</td>\n",
       "      <td>Santo Fortunato</td>\n",
       "      <td>&lt;NA&gt;</td>\n",
       "      <td>{2157809153, 2952575497, 2025463562, 216398695...</td>\n",
       "      <td>[{1274808907, 2257442005}, {2157809153, 295257...</td>\n",
       "      <td>2</td>\n",
       "      <td>0.010000</td>\n",
       "    </tr>\n",
       "    <tr>\n",
       "      <th>2018-02-19</th>\n",
       "      <td>2963041679</td>\n",
       "      <td>2122189410</td>\n",
       "      <td>Santo Fortunato</td>\n",
       "      <td>592451</td>\n",
       "      <td>{1274808907, 2257442005}</td>\n",
       "      <td>[{2157809153, 2952575497, 2025463562, 21639869...</td>\n",
       "      <td>2</td>\n",
       "      <td>0.010000</td>\n",
       "    </tr>\n",
       "  </tbody>\n",
       "</table>\n",
       "</div>"
      ],
      "text/plain": [
       "                     work_id   author_id      author_name  institution_id  \\\n",
       "publication_date                                                            \n",
       "2017-04-01        2604374094  2122189410  Santo Fortunato            <NA>   \n",
       "2017-07-01        2766966917  2122189410  Santo Fortunato            <NA>   \n",
       "2017-10-06        2761435952  2122189410  Santo Fortunato            <NA>   \n",
       "2018-02-15        3121329986  2122189410  Santo Fortunato            <NA>   \n",
       "2018-02-19        2963041679  2122189410  Santo Fortunato          592451   \n",
       "\n",
       "                                                          coauthors  \\\n",
       "publication_date                                                      \n",
       "2017-04-01         {2156931689, 2105367364, 2037037628, 2074066684}   \n",
       "2017-07-01        {2949512033, 2395754243, 3210888771, 223870407...   \n",
       "2017-10-06                                 {1274808907, 2257442005}   \n",
       "2018-02-15        {2157809153, 2952575497, 2025463562, 216398695...   \n",
       "2018-02-19                                 {1274808907, 2257442005}   \n",
       "\n",
       "                                                  rolling_coauthors  \\\n",
       "publication_date                                                      \n",
       "2017-04-01        [{2156931689, 2105367364, 2037037628, 20740666...   \n",
       "2017-07-01        [{2156931689, 2105367364, 2037037628, 20740666...   \n",
       "2017-10-06        [{2949512033, 2395754243, 3210888771, 22387040...   \n",
       "2018-02-15        [{1274808907, 2257442005}, {2157809153, 295257...   \n",
       "2018-02-19        [{2157809153, 2952575497, 2025463562, 21639869...   \n",
       "\n",
       "                  window_size  rolling_jaccard  \n",
       "publication_date                                \n",
       "2017-04-01                  2         1.000000  \n",
       "2017-07-01                  2         0.000000  \n",
       "2017-10-06                  2         0.076923  \n",
       "2018-02-15                  2         0.010000  \n",
       "2018-02-19                  2         0.010000  "
      ]
     },
     "execution_count": 29,
     "metadata": {},
     "output_type": "execute_result"
    }
   ],
   "source": [
    "rolling_iou_author(author_id=author_ids[0], works_authors=works_authors_df, window_size=2).head()"
   ]
  },
  {
   "cell_type": "code",
   "execution_count": 26,
   "id": "59d6cf4c-709e-4d19-874f-625235c7aa20",
   "metadata": {
    "execution": {
     "iopub.execute_input": "2022-10-12T23:58:19.782866Z",
     "iopub.status.busy": "2022-10-12T23:58:19.782173Z",
     "iopub.status.idle": "2022-10-12T23:58:19.970284Z",
     "shell.execute_reply": "2022-10-12T23:58:19.969641Z",
     "shell.execute_reply.started": "2022-10-12T23:58:19.782813Z"
    },
    "tags": []
   },
   "outputs": [
    {
     "data": {
      "application/vnd.jupyter.widget-view+json": {
       "model_id": "38af33d5a1ae4133a372c251aad5cec6",
       "version_major": 2,
       "version_minor": 0
      },
      "text/plain": [
       "  0%|          | 0/4 [00:00<?, ?it/s]"
      ]
     },
     "metadata": {},
     "output_type": "display_data"
    },
    {
     "data": {
      "text/html": [
       "<div>\n",
       "<style scoped>\n",
       "    .dataframe tbody tr th:only-of-type {\n",
       "        vertical-align: middle;\n",
       "    }\n",
       "\n",
       "    .dataframe tbody tr th {\n",
       "        vertical-align: top;\n",
       "    }\n",
       "\n",
       "    .dataframe thead th {\n",
       "        text-align: right;\n",
       "    }\n",
       "</style>\n",
       "<table border=\"1\" class=\"dataframe\">\n",
       "  <thead>\n",
       "    <tr style=\"text-align: right;\">\n",
       "      <th></th>\n",
       "      <th>work_id</th>\n",
       "      <th>author_id</th>\n",
       "      <th>author_name</th>\n",
       "      <th>institution_id</th>\n",
       "      <th>coauthors</th>\n",
       "      <th>rolling_coauthors</th>\n",
       "      <th>window_size</th>\n",
       "      <th>rolling_jaccard</th>\n",
       "    </tr>\n",
       "    <tr>\n",
       "      <th>publication_date</th>\n",
       "      <th></th>\n",
       "      <th></th>\n",
       "      <th></th>\n",
       "      <th></th>\n",
       "      <th></th>\n",
       "      <th></th>\n",
       "      <th></th>\n",
       "      <th></th>\n",
       "    </tr>\n",
       "  </thead>\n",
       "  <tbody>\n",
       "    <tr>\n",
       "      <th>2017-01-01</th>\n",
       "      <td>2597768936</td>\n",
       "      <td>2113839928</td>\n",
       "      <td>Carlo Ratti</td>\n",
       "      <td>&lt;NA&gt;</td>\n",
       "      <td>{2303729449}</td>\n",
       "      <td>[{2303729449}]</td>\n",
       "      <td>365D</td>\n",
       "      <td>1.000000</td>\n",
       "    </tr>\n",
       "    <tr>\n",
       "      <th>2017-01-01</th>\n",
       "      <td>2743414500</td>\n",
       "      <td>2113839928</td>\n",
       "      <td>Carlo Ratti</td>\n",
       "      <td>&lt;NA&gt;</td>\n",
       "      <td>{2342688999, 2164998664, 2032565163, 212713146...</td>\n",
       "      <td>[{2303729449}, {3031885824, 2746258369, 302906...</td>\n",
       "      <td>365D</td>\n",
       "      <td>0.000000</td>\n",
       "    </tr>\n",
       "    <tr>\n",
       "      <th>2017-01-01</th>\n",
       "      <td>2754261237</td>\n",
       "      <td>2113839928</td>\n",
       "      <td>Carlo Ratti</td>\n",
       "      <td>63966007</td>\n",
       "      <td>{2127131468, 1270670167, 2121986678, 2490743655}</td>\n",
       "      <td>[{2303729449}, {3031885824, 2746258369, 302906...</td>\n",
       "      <td>365D</td>\n",
       "      <td>0.000000</td>\n",
       "    </tr>\n",
       "    <tr>\n",
       "      <th>2017-01-01</th>\n",
       "      <td>2764360978</td>\n",
       "      <td>2127131468</td>\n",
       "      <td>Paolo Santi</td>\n",
       "      <td>63966007</td>\n",
       "      <td>{2155208067, 2098713349, 2196641131, 256814961...</td>\n",
       "      <td>[{2342688999, 2164998664, 2032565163, 21138399...</td>\n",
       "      <td>365D</td>\n",
       "      <td>0.066667</td>\n",
       "    </tr>\n",
       "    <tr>\n",
       "      <th>2017-01-01</th>\n",
       "      <td>2754261237</td>\n",
       "      <td>2127131468</td>\n",
       "      <td>Paolo Santi</td>\n",
       "      <td>63966007</td>\n",
       "      <td>{2113839928, 1270670167, 2121986678, 2490743655}</td>\n",
       "      <td>[{2342688999, 2164998664, 2032565163, 21138399...</td>\n",
       "      <td>365D</td>\n",
       "      <td>0.111111</td>\n",
       "    </tr>\n",
       "    <tr>\n",
       "      <th>...</th>\n",
       "      <td>...</td>\n",
       "      <td>...</td>\n",
       "      <td>...</td>\n",
       "      <td>...</td>\n",
       "      <td>...</td>\n",
       "      <td>...</td>\n",
       "      <td>...</td>\n",
       "      <td>...</td>\n",
       "    </tr>\n",
       "    <tr>\n",
       "      <th>2022-01-25</th>\n",
       "      <td>4210655647</td>\n",
       "      <td>2113839928</td>\n",
       "      <td>Carlo Ratti</td>\n",
       "      <td>63966007</td>\n",
       "      <td>{2746258369, 4212306377, 4212306378, 421230637...</td>\n",
       "      <td>[{2805501479, 2127131468, 185943888, 215422866...</td>\n",
       "      <td>365D</td>\n",
       "      <td>0.000000</td>\n",
       "    </tr>\n",
       "    <tr>\n",
       "      <th>2022-02-11</th>\n",
       "      <td>3207443205</td>\n",
       "      <td>2037649753</td>\n",
       "      <td>Tim Weninger</td>\n",
       "      <td>107639228</td>\n",
       "      <td>{2297758725, 2397954333}</td>\n",
       "      <td>[{2968829366, 2297758725, 3086190262}, {274665...</td>\n",
       "      <td>365D</td>\n",
       "      <td>0.000000</td>\n",
       "    </tr>\n",
       "    <tr>\n",
       "      <th>2022-05-13</th>\n",
       "      <td>3204399149</td>\n",
       "      <td>2122189410</td>\n",
       "      <td>Santo Fortunato</td>\n",
       "      <td>&lt;NA&gt;</td>\n",
       "      <td>{2793809274, 2469326107, 115369229, 2505591981}</td>\n",
       "      <td>[{2248192384, 2148494662, 2980714778, 84223386...</td>\n",
       "      <td>365D</td>\n",
       "      <td>0.100000</td>\n",
       "    </tr>\n",
       "    <tr>\n",
       "      <th>2022-05-17</th>\n",
       "      <td>4280593352</td>\n",
       "      <td>2127131468</td>\n",
       "      <td>Paolo Santi</td>\n",
       "      <td>63966007</td>\n",
       "      <td>{4280714948, 4280714949}</td>\n",
       "      <td>[{2184855622, 2490743655, 2164998664, 21137864...</td>\n",
       "      <td>365D</td>\n",
       "      <td>0.000000</td>\n",
       "    </tr>\n",
       "    <tr>\n",
       "      <th>2022-06-01</th>\n",
       "      <td>4224234379</td>\n",
       "      <td>2127131468</td>\n",
       "      <td>Paolo Santi</td>\n",
       "      <td>4210130157</td>\n",
       "      <td>{2306505153, 2917502338, 2980553576, 422456778...</td>\n",
       "      <td>[{2440824083, 2146357355, 2122290892, 21164468...</td>\n",
       "      <td>365D</td>\n",
       "      <td>0.000000</td>\n",
       "    </tr>\n",
       "  </tbody>\n",
       "</table>\n",
       "<p>373 rows × 8 columns</p>\n",
       "</div>"
      ],
      "text/plain": [
       "                     work_id   author_id      author_name  institution_id  \\\n",
       "publication_date                                                            \n",
       "2017-01-01        2597768936  2113839928      Carlo Ratti            <NA>   \n",
       "2017-01-01        2743414500  2113839928      Carlo Ratti            <NA>   \n",
       "2017-01-01        2754261237  2113839928      Carlo Ratti        63966007   \n",
       "2017-01-01        2764360978  2127131468      Paolo Santi        63966007   \n",
       "2017-01-01        2754261237  2127131468      Paolo Santi        63966007   \n",
       "...                      ...         ...              ...             ...   \n",
       "2022-01-25        4210655647  2113839928      Carlo Ratti        63966007   \n",
       "2022-02-11        3207443205  2037649753     Tim Weninger       107639228   \n",
       "2022-05-13        3204399149  2122189410  Santo Fortunato            <NA>   \n",
       "2022-05-17        4280593352  2127131468      Paolo Santi        63966007   \n",
       "2022-06-01        4224234379  2127131468      Paolo Santi      4210130157   \n",
       "\n",
       "                                                          coauthors  \\\n",
       "publication_date                                                      \n",
       "2017-01-01                                             {2303729449}   \n",
       "2017-01-01        {2342688999, 2164998664, 2032565163, 212713146...   \n",
       "2017-01-01         {2127131468, 1270670167, 2121986678, 2490743655}   \n",
       "2017-01-01        {2155208067, 2098713349, 2196641131, 256814961...   \n",
       "2017-01-01         {2113839928, 1270670167, 2121986678, 2490743655}   \n",
       "...                                                             ...   \n",
       "2022-01-25        {2746258369, 4212306377, 4212306378, 421230637...   \n",
       "2022-02-11                                 {2297758725, 2397954333}   \n",
       "2022-05-13          {2793809274, 2469326107, 115369229, 2505591981}   \n",
       "2022-05-17                                 {4280714948, 4280714949}   \n",
       "2022-06-01        {2306505153, 2917502338, 2980553576, 422456778...   \n",
       "\n",
       "                                                  rolling_coauthors  \\\n",
       "publication_date                                                      \n",
       "2017-01-01                                           [{2303729449}]   \n",
       "2017-01-01        [{2303729449}, {3031885824, 2746258369, 302906...   \n",
       "2017-01-01        [{2303729449}, {3031885824, 2746258369, 302906...   \n",
       "2017-01-01        [{2342688999, 2164998664, 2032565163, 21138399...   \n",
       "2017-01-01        [{2342688999, 2164998664, 2032565163, 21138399...   \n",
       "...                                                             ...   \n",
       "2022-01-25        [{2805501479, 2127131468, 185943888, 215422866...   \n",
       "2022-02-11        [{2968829366, 2297758725, 3086190262}, {274665...   \n",
       "2022-05-13        [{2248192384, 2148494662, 2980714778, 84223386...   \n",
       "2022-05-17        [{2184855622, 2490743655, 2164998664, 21137864...   \n",
       "2022-06-01        [{2440824083, 2146357355, 2122290892, 21164468...   \n",
       "\n",
       "                 window_size  rolling_jaccard  \n",
       "publication_date                               \n",
       "2017-01-01              365D         1.000000  \n",
       "2017-01-01              365D         0.000000  \n",
       "2017-01-01              365D         0.000000  \n",
       "2017-01-01              365D         0.066667  \n",
       "2017-01-01              365D         0.111111  \n",
       "...                      ...              ...  \n",
       "2022-01-25              365D         0.000000  \n",
       "2022-02-11              365D         0.000000  \n",
       "2022-05-13              365D         0.100000  \n",
       "2022-05-17              365D         0.000000  \n",
       "2022-06-01              365D         0.000000  \n",
       "\n",
       "[373 rows x 8 columns]"
      ]
     },
     "execution_count": 26,
     "metadata": {},
     "output_type": "execute_result"
    }
   ],
   "source": [
    "rolling_window_size = 5  # for the number of papers in each window\n",
    "# rolling_window_size = '365D'  # for a time period \n",
    "\n",
    "if combined_df is None:  # empty dataframe \n",
    "    # append all the rows for each author\n",
    "    combined_df = (\n",
    "        pd.concat([rolling_iou_author(author_id=aid, works_authors=works_authors_df, \n",
    "                                      window_size=rolling_window_size)  \n",
    "                   for aid in tqdm(author_ids)])\n",
    "        .sort_index()\n",
    "    )\n",
    "else:  # update the existing table if necessary \n",
    "    new_aids = [aid for aid in author_ids if aid not in set(combined_df.author_id)]\n",
    "    \n",
    "    new_dfs = [rolling_iou_author(author_id=aid, works_authors=works_authors_df, window_size=rolling_window_size)\n",
    "                for aid in tqdm(new_aids)]\n",
    "\n",
    "    combined_df = pd.concat([combined_df, *new_dfs]).sort_index()\n",
    "\n",
    "combined_df"
   ]
  },
  {
   "cell_type": "code",
   "execution_count": 27,
   "id": "160e16b6-d563-4f85-ab52-b369fe131c39",
   "metadata": {
    "execution": {
     "iopub.execute_input": "2022-10-12T23:58:26.267100Z",
     "iopub.status.busy": "2022-10-12T23:58:26.266537Z",
     "iopub.status.idle": "2022-10-12T23:58:26.316678Z",
     "shell.execute_reply": "2022-10-12T23:58:26.315693Z",
     "shell.execute_reply.started": "2022-10-12T23:58:26.267058Z"
    },
    "tags": []
   },
   "outputs": [
    {
     "data": {
      "text/html": [
       "<div>\n",
       "<style scoped>\n",
       "    .dataframe tbody tr th:only-of-type {\n",
       "        vertical-align: middle;\n",
       "    }\n",
       "\n",
       "    .dataframe tbody tr th {\n",
       "        vertical-align: top;\n",
       "    }\n",
       "\n",
       "    .dataframe thead th {\n",
       "        text-align: right;\n",
       "    }\n",
       "</style>\n",
       "<table border=\"1\" class=\"dataframe\">\n",
       "  <thead>\n",
       "    <tr style=\"text-align: right;\">\n",
       "      <th></th>\n",
       "      <th>work_id</th>\n",
       "      <th>author_id</th>\n",
       "      <th>author_name</th>\n",
       "      <th>institution_id</th>\n",
       "      <th>coauthors</th>\n",
       "      <th>rolling_coauthors</th>\n",
       "      <th>window_size</th>\n",
       "      <th>rolling_jaccard</th>\n",
       "    </tr>\n",
       "    <tr>\n",
       "      <th>publication_date</th>\n",
       "      <th></th>\n",
       "      <th></th>\n",
       "      <th></th>\n",
       "      <th></th>\n",
       "      <th></th>\n",
       "      <th></th>\n",
       "      <th></th>\n",
       "      <th></th>\n",
       "    </tr>\n",
       "  </thead>\n",
       "  <tbody>\n",
       "    <tr>\n",
       "      <th>2017-01-01</th>\n",
       "      <td>2597768936</td>\n",
       "      <td>2113839928</td>\n",
       "      <td>Carlo Ratti</td>\n",
       "      <td>&lt;NA&gt;</td>\n",
       "      <td>{2303729449}</td>\n",
       "      <td>[{2303729449}]</td>\n",
       "      <td>365D</td>\n",
       "      <td>1.000000</td>\n",
       "    </tr>\n",
       "    <tr>\n",
       "      <th>2017-01-01</th>\n",
       "      <td>2764360978</td>\n",
       "      <td>2127131468</td>\n",
       "      <td>Paolo Santi</td>\n",
       "      <td>63966007</td>\n",
       "      <td>{2155208067, 2098713349, 2196641131, 256814961...</td>\n",
       "      <td>[{2342688999, 2164998664, 2032565163, 21138399...</td>\n",
       "      <td>365D</td>\n",
       "      <td>0.066667</td>\n",
       "    </tr>\n",
       "    <tr>\n",
       "      <th>2017-01-01</th>\n",
       "      <td>2754261237</td>\n",
       "      <td>2127131468</td>\n",
       "      <td>Paolo Santi</td>\n",
       "      <td>63966007</td>\n",
       "      <td>{2113839928, 1270670167, 2121986678, 2490743655}</td>\n",
       "      <td>[{2342688999, 2164998664, 2032565163, 21138399...</td>\n",
       "      <td>365D</td>\n",
       "      <td>0.111111</td>\n",
       "    </tr>\n",
       "    <tr>\n",
       "      <th>2017-01-01</th>\n",
       "      <td>2743414500</td>\n",
       "      <td>2127131468</td>\n",
       "      <td>Paolo Santi</td>\n",
       "      <td>&lt;NA&gt;</td>\n",
       "      <td>{2342688999, 2164998664, 2032565163, 211383992...</td>\n",
       "      <td>[{2342688999, 2164998664, 2032565163, 21138399...</td>\n",
       "      <td>365D</td>\n",
       "      <td>1.000000</td>\n",
       "    </tr>\n",
       "    <tr>\n",
       "      <th>2017-02-04</th>\n",
       "      <td>2963503534</td>\n",
       "      <td>2037649753</td>\n",
       "      <td>Tim Weninger</td>\n",
       "      <td>107639228</td>\n",
       "      <td>{2222650814}</td>\n",
       "      <td>[{2222650814}]</td>\n",
       "      <td>365D</td>\n",
       "      <td>1.000000</td>\n",
       "    </tr>\n",
       "    <tr>\n",
       "      <th>2017-03-01</th>\n",
       "      <td>2559662652</td>\n",
       "      <td>2037649753</td>\n",
       "      <td>Tim Weninger</td>\n",
       "      <td>107639228</td>\n",
       "      <td>{2222650814, 3157462175}</td>\n",
       "      <td>[{2222650814}, {2222650814, 3157462175}]</td>\n",
       "      <td>365D</td>\n",
       "      <td>0.500000</td>\n",
       "    </tr>\n",
       "    <tr>\n",
       "      <th>2017-04-01</th>\n",
       "      <td>2604374094</td>\n",
       "      <td>2122189410</td>\n",
       "      <td>Santo Fortunato</td>\n",
       "      <td>&lt;NA&gt;</td>\n",
       "      <td>{2156931689, 2105367364, 2037037628, 2074066684}</td>\n",
       "      <td>[{2156931689, 2105367364, 2037037628, 20740666...</td>\n",
       "      <td>365D</td>\n",
       "      <td>1.000000</td>\n",
       "    </tr>\n",
       "    <tr>\n",
       "      <th>2022-05-13</th>\n",
       "      <td>3204399149</td>\n",
       "      <td>2122189410</td>\n",
       "      <td>Santo Fortunato</td>\n",
       "      <td>&lt;NA&gt;</td>\n",
       "      <td>{2793809274, 2469326107, 115369229, 2505591981}</td>\n",
       "      <td>[{2248192384, 2148494662, 2980714778, 84223386...</td>\n",
       "      <td>365D</td>\n",
       "      <td>0.100000</td>\n",
       "    </tr>\n",
       "  </tbody>\n",
       "</table>\n",
       "</div>"
      ],
      "text/plain": [
       "                     work_id   author_id      author_name  institution_id  \\\n",
       "publication_date                                                            \n",
       "2017-01-01        2597768936  2113839928      Carlo Ratti            <NA>   \n",
       "2017-01-01        2764360978  2127131468      Paolo Santi        63966007   \n",
       "2017-01-01        2754261237  2127131468      Paolo Santi        63966007   \n",
       "2017-01-01        2743414500  2127131468      Paolo Santi            <NA>   \n",
       "2017-02-04        2963503534  2037649753     Tim Weninger       107639228   \n",
       "2017-03-01        2559662652  2037649753     Tim Weninger       107639228   \n",
       "2017-04-01        2604374094  2122189410  Santo Fortunato            <NA>   \n",
       "2022-05-13        3204399149  2122189410  Santo Fortunato            <NA>   \n",
       "\n",
       "                                                          coauthors  \\\n",
       "publication_date                                                      \n",
       "2017-01-01                                             {2303729449}   \n",
       "2017-01-01        {2155208067, 2098713349, 2196641131, 256814961...   \n",
       "2017-01-01         {2113839928, 1270670167, 2121986678, 2490743655}   \n",
       "2017-01-01        {2342688999, 2164998664, 2032565163, 211383992...   \n",
       "2017-02-04                                             {2222650814}   \n",
       "2017-03-01                                 {2222650814, 3157462175}   \n",
       "2017-04-01         {2156931689, 2105367364, 2037037628, 2074066684}   \n",
       "2022-05-13          {2793809274, 2469326107, 115369229, 2505591981}   \n",
       "\n",
       "                                                  rolling_coauthors  \\\n",
       "publication_date                                                      \n",
       "2017-01-01                                           [{2303729449}]   \n",
       "2017-01-01        [{2342688999, 2164998664, 2032565163, 21138399...   \n",
       "2017-01-01        [{2342688999, 2164998664, 2032565163, 21138399...   \n",
       "2017-01-01        [{2342688999, 2164998664, 2032565163, 21138399...   \n",
       "2017-02-04                                           [{2222650814}]   \n",
       "2017-03-01                 [{2222650814}, {2222650814, 3157462175}]   \n",
       "2017-04-01        [{2156931689, 2105367364, 2037037628, 20740666...   \n",
       "2022-05-13        [{2248192384, 2148494662, 2980714778, 84223386...   \n",
       "\n",
       "                 window_size  rolling_jaccard  \n",
       "publication_date                               \n",
       "2017-01-01              365D         1.000000  \n",
       "2017-01-01              365D         0.066667  \n",
       "2017-01-01              365D         0.111111  \n",
       "2017-01-01              365D         1.000000  \n",
       "2017-02-04              365D         1.000000  \n",
       "2017-03-01              365D         0.500000  \n",
       "2017-04-01              365D         1.000000  \n",
       "2022-05-13              365D         0.100000  "
      ]
     },
     "execution_count": 27,
     "metadata": {},
     "output_type": "execute_result"
    }
   ],
   "source": [
    "(\n",
    "    combined_df\n",
    "    .query('rolling_jaccard>0')\n",
    ")"
   ]
  },
  {
   "cell_type": "code",
   "execution_count": 30,
   "id": "2ed32461-22f5-4531-9b5b-e0c7ff120a6d",
   "metadata": {
    "execution": {
     "iopub.execute_input": "2022-10-13T00:00:31.624720Z",
     "iopub.status.busy": "2022-10-13T00:00:31.624035Z",
     "iopub.status.idle": "2022-10-13T00:00:32.080540Z",
     "shell.execute_reply": "2022-10-13T00:00:32.079134Z",
     "shell.execute_reply.started": "2022-10-13T00:00:31.624667Z"
    },
    "tags": []
   },
   "outputs": [
    {
     "data": {
      "application/vnd.plotly.v1+json": {
       "config": {
        "plotlyServerURL": "https://plot.ly"
       },
       "data": [
        {
         "hovertemplate": "author_name=Carlo Ratti<br>publication_date=%{x}<br>rolling_jaccard=%{y}<extra></extra>",
         "legendgroup": "Carlo Ratti",
         "line": {
          "color": "#636efa",
          "dash": "solid"
         },
         "marker": {
          "symbol": "circle"
         },
         "mode": "lines+markers",
         "name": "Carlo Ratti",
         "orientation": "v",
         "showlegend": true,
         "type": "scatter",
         "x": [
          "2017-01-01T00:00:00",
          "2017-01-01T00:00:00",
          "2017-01-01T00:00:00",
          "2017-01-01T00:00:00",
          "2017-01-01T00:00:00",
          "2017-01-08T00:00:00",
          "2017-02-01T00:00:00",
          "2017-02-01T00:00:00",
          "2017-02-02T00:00:00",
          "2017-03-01T00:00:00",
          "2017-03-01T00:00:00",
          "2017-03-06T00:00:00",
          "2017-04-01T00:00:00",
          "2017-04-01T00:00:00",
          "2017-04-10T00:00:00",
          "2017-04-25T00:00:00",
          "2017-04-26T00:00:00",
          "2017-05-01T00:00:00",
          "2017-06-01T00:00:00",
          "2017-06-20T00:00:00",
          "2017-06-22T00:00:00",
          "2017-07-01T00:00:00",
          "2017-07-02T00:00:00",
          "2017-07-27T00:00:00",
          "2017-09-01T00:00:00",
          "2017-09-18T00:00:00",
          "2017-09-18T00:00:00",
          "2017-10-20T00:00:00",
          "2017-11-30T00:00:00",
          "2017-12-01T00:00:00",
          "2017-12-06T00:00:00",
          "2017-12-14T00:00:00",
          "2017-12-31T00:00:00",
          "2018-01-01T00:00:00",
          "2018-01-01T00:00:00",
          "2018-01-01T00:00:00",
          "2018-02-01T00:00:00",
          "2018-03-01T00:00:00",
          "2018-03-27T00:00:00",
          "2018-04-01T00:00:00",
          "2018-04-01T00:00:00",
          "2018-05-21T00:00:00",
          "2018-05-21T00:00:00",
          "2018-06-01T00:00:00",
          "2018-06-11T00:00:00",
          "2018-06-26T00:00:00",
          "2018-07-01T00:00:00",
          "2018-07-27T00:00:00",
          "2018-08-01T00:00:00",
          "2018-08-05T00:00:00",
          "2018-08-14T00:00:00",
          "2018-08-17T00:00:00",
          "2018-08-17T00:00:00",
          "2018-09-24T00:00:00",
          "2018-10-01T00:00:00",
          "2018-10-08T00:00:00",
          "2018-11-01T00:00:00",
          "2018-11-01T00:00:00",
          "2018-11-07T00:00:00",
          "2018-12-01T00:00:00",
          "2018-12-01T00:00:00",
          "2018-12-01T00:00:00",
          "2018-12-03T00:00:00",
          "2019-01-01T00:00:00",
          "2019-01-01T00:00:00",
          "2019-01-01T00:00:00",
          "2019-01-01T00:00:00",
          "2019-01-01T00:00:00",
          "2019-01-01T00:00:00",
          "2019-01-01T00:00:00",
          "2019-01-24T00:00:00",
          "2019-02-20T00:00:00",
          "2019-02-28T00:00:00",
          "2019-03-01T00:00:00",
          "2019-03-01T00:00:00",
          "2019-03-05T00:00:00",
          "2019-03-06T00:00:00",
          "2019-03-14T00:00:00",
          "2019-04-15T00:00:00",
          "2019-05-01T00:00:00",
          "2019-05-14T00:00:00",
          "2019-05-20T00:00:00",
          "2019-06-11T00:00:00",
          "2019-06-12T00:00:00",
          "2019-06-19T00:00:00",
          "2019-07-27T00:00:00",
          "2019-07-30T00:00:00",
          "2019-08-01T00:00:00",
          "2019-08-01T00:00:00",
          "2019-08-01T00:00:00",
          "2019-08-01T00:00:00",
          "2019-08-01T00:00:00",
          "2019-08-28T00:00:00",
          "2019-09-01T00:00:00",
          "2019-09-03T00:00:00",
          "2019-09-15T00:00:00",
          "2019-10-01T00:00:00",
          "2019-10-10T00:00:00",
          "2019-10-25T00:00:00",
          "2019-10-25T00:00:00",
          "2019-10-29T00:00:00",
          "2019-10-29T00:00:00",
          "2019-11-01T00:00:00",
          "2019-11-01T00:00:00",
          "2019-11-01T00:00:00",
          "2019-11-04T00:00:00",
          "2019-11-11T00:00:00",
          "2019-11-29T00:00:00",
          "2019-11-29T00:00:00",
          "2019-12-03T00:00:00",
          "2019-12-13T00:00:00",
          "2019-12-16T00:00:00",
          "2019-12-24T00:00:00",
          "2020-01-01T00:00:00",
          "2020-01-01T00:00:00",
          "2020-01-01T00:00:00",
          "2020-02-17T00:00:00",
          "2020-03-05T00:00:00",
          "2020-03-05T00:00:00",
          "2020-03-27T00:00:00",
          "2020-04-01T00:00:00",
          "2020-05-01T00:00:00",
          "2020-05-01T00:00:00",
          "2020-05-07T00:00:00",
          "2020-05-18T00:00:00",
          "2020-06-01T00:00:00",
          "2020-06-01T00:00:00",
          "2020-06-29T00:00:00",
          "2020-07-01T00:00:00",
          "2020-07-16T00:00:00",
          "2020-07-20T00:00:00",
          "2020-07-21T00:00:00",
          "2020-08-01T00:00:00",
          "2020-08-21T00:00:00",
          "2020-09-21T00:00:00",
          "2020-09-29T00:00:00",
          "2020-10-01T00:00:00",
          "2020-10-06T00:00:00",
          "2020-10-08T00:00:00",
          "2020-10-09T00:00:00",
          "2020-10-24T00:00:00",
          "2020-10-24T00:00:00",
          "2020-10-24T00:00:00",
          "2020-10-24T00:00:00",
          "2020-10-31T00:00:00",
          "2020-11-01T00:00:00",
          "2020-12-01T00:00:00",
          "2020-12-01T00:00:00",
          "2020-12-01T00:00:00",
          "2020-12-14T00:00:00",
          "2020-12-15T00:00:00",
          "2021-01-01T00:00:00",
          "2021-01-01T00:00:00",
          "2021-01-01T00:00:00",
          "2021-01-11T00:00:00",
          "2021-01-15T00:00:00",
          "2021-01-28T00:00:00",
          "2021-02-01T00:00:00",
          "2021-02-01T00:00:00",
          "2021-02-12T00:00:00",
          "2021-02-12T00:00:00",
          "2021-03-01T00:00:00",
          "2021-03-01T00:00:00",
          "2021-03-01T00:00:00",
          "2021-03-02T00:00:00",
          "2021-03-03T00:00:00",
          "2021-03-09T00:00:00",
          "2021-03-12T00:00:00",
          "2021-03-15T00:00:00",
          "2021-03-16T00:00:00",
          "2021-03-16T00:00:00",
          "2021-03-19T00:00:00",
          "2021-03-30T00:00:00",
          "2021-04-01T00:00:00",
          "2021-04-03T00:00:00",
          "2021-04-03T00:00:00",
          "2021-04-22T00:00:00",
          "2021-04-23T00:00:00",
          "2021-04-29T00:00:00",
          "2021-05-27T00:00:00",
          "2021-05-29T00:00:00",
          "2021-05-30T00:00:00",
          "2021-05-30T00:00:00",
          "2021-05-30T00:00:00",
          "2021-06-01T00:00:00",
          "2021-06-01T00:00:00",
          "2021-07-01T00:00:00",
          "2021-07-01T00:00:00",
          "2021-07-13T00:00:00",
          "2021-07-28T00:00:00",
          "2021-08-01T00:00:00",
          "2021-08-31T00:00:00",
          "2021-09-01T00:00:00",
          "2021-10-02T00:00:00",
          "2021-10-08T00:00:00",
          "2021-10-11T00:00:00",
          "2021-10-28T00:00:00",
          "2021-11-01T00:00:00",
          "2021-11-01T00:00:00",
          "2021-12-01T00:00:00",
          "2021-12-01T00:00:00",
          "2021-12-07T00:00:00",
          "2022-01-01T00:00:00",
          "2022-01-01T00:00:00",
          "2022-01-25T00:00:00"
         ],
         "xaxis": "x",
         "y": [
          1,
          0,
          0,
          0,
          0,
          0,
          0,
          0,
          0,
          0,
          0,
          0,
          0,
          0,
          0,
          0,
          0,
          0,
          0,
          0,
          0,
          0,
          0,
          0,
          0,
          0,
          0,
          0,
          0,
          0,
          0,
          0,
          0,
          0,
          0,
          0,
          0,
          0,
          0,
          0,
          0,
          0,
          0,
          0,
          0,
          0,
          0,
          0,
          0,
          0,
          0,
          0,
          0,
          0,
          0,
          0,
          0,
          0,
          0,
          0,
          0,
          0,
          0,
          0,
          0,
          0,
          0,
          0,
          0,
          0,
          0,
          0,
          0,
          0,
          0,
          0,
          0,
          0,
          0,
          0,
          0,
          0,
          0,
          0,
          0,
          0,
          0,
          0,
          0,
          0,
          0,
          0,
          0,
          0,
          0,
          0,
          0,
          0,
          0,
          0,
          0,
          0,
          0,
          0,
          0,
          0,
          0,
          0,
          0,
          0,
          0,
          0,
          0,
          0,
          0,
          0,
          0,
          0,
          0,
          0,
          0,
          0,
          0,
          0,
          0,
          0,
          0,
          0,
          0,
          0,
          0,
          0,
          0,
          0,
          0,
          0,
          0,
          0,
          0,
          0,
          0,
          0,
          0,
          0,
          0,
          0,
          0,
          0,
          0,
          0,
          0,
          0,
          0,
          0,
          0,
          0,
          0,
          0,
          0,
          0,
          0,
          0,
          0,
          0,
          0,
          0,
          0,
          0,
          0,
          0,
          0,
          0,
          0,
          0,
          0,
          0,
          0,
          0,
          0,
          0,
          0,
          0,
          0,
          0,
          0,
          0,
          0,
          0,
          0,
          0,
          0,
          0,
          0,
          0,
          0,
          0,
          0,
          0,
          0,
          0,
          0,
          0,
          0,
          0,
          0
         ],
         "yaxis": "y"
        },
        {
         "hovertemplate": "author_name=Paolo Santi<br>publication_date=%{x}<br>rolling_jaccard=%{y}<extra></extra>",
         "legendgroup": "Paolo Santi",
         "line": {
          "color": "#EF553B",
          "dash": "solid"
         },
         "marker": {
          "symbol": "circle"
         },
         "mode": "lines+markers",
         "name": "Paolo Santi",
         "orientation": "v",
         "showlegend": true,
         "type": "scatter",
         "x": [
          "2017-01-01T00:00:00",
          "2017-01-01T00:00:00",
          "2017-01-01T00:00:00",
          "2017-01-03T00:00:00",
          "2017-03-06T00:00:00",
          "2017-06-19T00:00:00",
          "2017-06-22T00:00:00",
          "2017-07-27T00:00:00",
          "2017-10-09T00:00:00",
          "2017-10-20T00:00:00",
          "2018-03-27T00:00:00",
          "2018-04-01T00:00:00",
          "2018-05-23T00:00:00",
          "2018-08-01T00:00:00",
          "2018-08-17T00:00:00",
          "2018-08-17T00:00:00",
          "2019-01-01T00:00:00",
          "2019-01-24T00:00:00",
          "2019-02-01T00:00:00",
          "2019-03-01T00:00:00",
          "2019-06-11T00:00:00",
          "2019-07-27T00:00:00",
          "2019-08-01T00:00:00",
          "2019-09-15T00:00:00",
          "2019-09-26T00:00:00",
          "2019-10-01T00:00:00",
          "2019-10-25T00:00:00",
          "2019-11-01T00:00:00",
          "2019-11-29T00:00:00",
          "2020-01-01T00:00:00",
          "2020-02-17T00:00:00",
          "2020-05-01T00:00:00",
          "2020-05-27T00:00:00",
          "2020-06-01T00:00:00",
          "2020-06-03T00:00:00",
          "2020-07-26T00:00:00",
          "2020-08-21T00:00:00",
          "2020-09-21T00:00:00",
          "2020-10-01T00:00:00",
          "2020-10-06T00:00:00",
          "2020-10-08T00:00:00",
          "2020-12-01T00:00:00",
          "2021-01-01T00:00:00",
          "2021-01-01T00:00:00",
          "2021-01-01T00:00:00",
          "2021-01-15T00:00:00",
          "2021-01-28T00:00:00",
          "2021-02-01T00:00:00",
          "2021-03-01T00:00:00",
          "2021-03-02T00:00:00",
          "2021-03-09T00:00:00",
          "2021-03-12T00:00:00",
          "2021-03-15T00:00:00",
          "2021-03-16T00:00:00",
          "2021-03-16T00:00:00",
          "2021-03-19T00:00:00",
          "2021-03-30T00:00:00",
          "2021-04-03T00:00:00",
          "2021-04-03T00:00:00",
          "2021-04-03T00:00:00",
          "2021-05-27T00:00:00",
          "2021-07-08T00:00:00",
          "2021-07-28T00:00:00",
          "2021-08-01T00:00:00",
          "2021-09-01T00:00:00",
          "2021-09-01T00:00:00",
          "2021-10-28T00:00:00",
          "2021-11-01T00:00:00",
          "2022-01-01T00:00:00",
          "2022-01-01T00:00:00",
          "2022-05-17T00:00:00",
          "2022-06-01T00:00:00"
         ],
         "xaxis": "x",
         "y": [
          0.06666666666666667,
          0.1111111111111111,
          1,
          0,
          0,
          0,
          0,
          0,
          0,
          0,
          0,
          0,
          0,
          0,
          0,
          0,
          0,
          0,
          0,
          0,
          0,
          0,
          0,
          0,
          0,
          0,
          0,
          0,
          0,
          0,
          0,
          0,
          0,
          0,
          0,
          0,
          0,
          0,
          0,
          0,
          0,
          0,
          0,
          0,
          0,
          0,
          0,
          0,
          0,
          0,
          0,
          0,
          0,
          0,
          0,
          0,
          0,
          0,
          0,
          0,
          0,
          0,
          0,
          0,
          0,
          0,
          0,
          0,
          0,
          0,
          0,
          0
         ],
         "yaxis": "y"
        },
        {
         "hovertemplate": "author_name=Tim Weninger<br>publication_date=%{x}<br>rolling_jaccard=%{y}<extra></extra>",
         "legendgroup": "Tim Weninger",
         "line": {
          "color": "#00cc96",
          "dash": "solid"
         },
         "marker": {
          "symbol": "circle"
         },
         "mode": "lines+markers",
         "name": "Tim Weninger",
         "orientation": "v",
         "showlegend": true,
         "type": "scatter",
         "x": [
          "2017-02-04T00:00:00",
          "2017-03-01T00:00:00",
          "2017-03-15T00:00:00",
          "2017-06-28T00:00:00",
          "2017-07-01T00:00:00",
          "2017-07-24T00:00:00",
          "2017-07-31T00:00:00",
          "2017-09-06T00:00:00",
          "2017-11-09T00:00:00",
          "2018-02-01T00:00:00",
          "2018-02-02T00:00:00",
          "2018-02-21T00:00:00",
          "2018-02-23T00:00:00",
          "2018-03-01T00:00:00",
          "2018-03-01T00:00:00",
          "2018-04-23T00:00:00",
          "2018-04-25T00:00:00",
          "2018-05-30T00:00:00",
          "2018-06-11T00:00:00",
          "2018-06-25T00:00:00",
          "2018-07-01T00:00:00",
          "2018-07-14T00:00:00",
          "2018-08-28T00:00:00",
          "2018-09-03T00:00:00",
          "2018-11-01T00:00:00",
          "2018-11-21T00:00:00",
          "2018-12-09T00:00:00",
          "2019-01-01T00:00:00",
          "2019-03-01T00:00:00",
          "2019-06-26T00:00:00",
          "2019-07-01T00:00:00",
          "2019-07-10T00:00:00",
          "2019-08-11T00:00:00",
          "2019-08-15T00:00:00",
          "2019-08-27T00:00:00",
          "2019-10-18T00:00:00",
          "2019-10-18T00:00:00",
          "2019-10-23T00:00:00",
          "2019-11-01T00:00:00",
          "2019-12-01T00:00:00",
          "2019-12-01T00:00:00",
          "2019-12-01T00:00:00",
          "2019-12-01T00:00:00",
          "2019-12-01T00:00:00",
          "2020-01-01T00:00:00",
          "2020-01-17T00:00:00",
          "2020-02-19T00:00:00",
          "2020-02-28T00:00:00",
          "2020-09-14T00:00:00",
          "2020-09-18T00:00:00",
          "2020-09-25T00:00:00",
          "2020-11-01T00:00:00",
          "2021-01-05T00:00:00",
          "2021-01-19T00:00:00",
          "2021-01-21T00:00:00",
          "2021-02-08T00:00:00",
          "2021-03-08T00:00:00",
          "2021-03-12T00:00:00",
          "2021-05-01T00:00:00",
          "2021-05-11T00:00:00",
          "2021-05-18T00:00:00",
          "2021-06-02T00:00:00",
          "2021-06-02T00:00:00",
          "2021-07-09T00:00:00",
          "2022-01-01T00:00:00",
          "2022-01-11T00:00:00",
          "2022-02-11T00:00:00"
         ],
         "xaxis": "x",
         "y": [
          1,
          0.5,
          0,
          0,
          0,
          0,
          0,
          0,
          0,
          0,
          0,
          0,
          0,
          0,
          0,
          0,
          0,
          0,
          0,
          0,
          0,
          0,
          0,
          0,
          0,
          0,
          0,
          0,
          0,
          0,
          0,
          0,
          0,
          0,
          0,
          0,
          0,
          0,
          0,
          0,
          0,
          0,
          0,
          0,
          0,
          0,
          0,
          0,
          0,
          0,
          0,
          0,
          0,
          0,
          0,
          0,
          0,
          0,
          0,
          0,
          0,
          0,
          0,
          0,
          0,
          0,
          0
         ],
         "yaxis": "y"
        },
        {
         "hovertemplate": "author_name=Santo Fortunato<br>publication_date=%{x}<br>rolling_jaccard=%{y}<extra></extra>",
         "legendgroup": "Santo Fortunato",
         "line": {
          "color": "#ab63fa",
          "dash": "solid"
         },
         "marker": {
          "symbol": "circle"
         },
         "mode": "lines+markers",
         "name": "Santo Fortunato",
         "orientation": "v",
         "showlegend": true,
         "type": "scatter",
         "x": [
          "2017-04-01T00:00:00",
          "2017-07-01T00:00:00",
          "2017-10-06T00:00:00",
          "2018-02-15T00:00:00",
          "2018-02-19T00:00:00",
          "2018-03-02T00:00:00",
          "2018-04-01T00:00:00",
          "2018-06-10T00:00:00",
          "2018-07-17T00:00:00",
          "2018-08-01T00:00:00",
          "2018-09-01T00:00:00",
          "2018-10-08T00:00:00",
          "2018-11-01T00:00:00",
          "2019-01-01T00:00:00",
          "2019-04-01T00:00:00",
          "2019-04-18T00:00:00",
          "2019-05-01T00:00:00",
          "2019-05-01T00:00:00",
          "2019-09-01T00:00:00",
          "2019-11-27T00:00:00",
          "2020-02-25T00:00:00",
          "2020-03-27T00:00:00",
          "2020-04-29T00:00:00",
          "2020-09-04T00:00:00",
          "2020-10-23T00:00:00",
          "2020-11-16T00:00:00",
          "2021-02-22T00:00:00",
          "2021-09-01T00:00:00",
          "2022-05-13T00:00:00"
         ],
         "xaxis": "x",
         "y": [
          1,
          0,
          0,
          0,
          0,
          0,
          0,
          0,
          0,
          0,
          0,
          0,
          0,
          0,
          0,
          0,
          0,
          0,
          0,
          0,
          0,
          0,
          0,
          0,
          0,
          0,
          0,
          0,
          0.1
         ],
         "yaxis": "y"
        }
       ],
       "layout": {
        "autosize": true,
        "legend": {
         "title": {
          "text": "author_name"
         },
         "tracegroupgap": 0
        },
        "template": {
         "data": {
          "bar": [
           {
            "error_x": {
             "color": "#f2f5fa"
            },
            "error_y": {
             "color": "#f2f5fa"
            },
            "marker": {
             "line": {
              "color": "rgb(17,17,17)",
              "width": 0.5
             },
             "pattern": {
              "fillmode": "overlay",
              "size": 10,
              "solidity": 0.2
             }
            },
            "type": "bar"
           }
          ],
          "barpolar": [
           {
            "marker": {
             "line": {
              "color": "rgb(17,17,17)",
              "width": 0.5
             },
             "pattern": {
              "fillmode": "overlay",
              "size": 10,
              "solidity": 0.2
             }
            },
            "type": "barpolar"
           }
          ],
          "carpet": [
           {
            "aaxis": {
             "endlinecolor": "#A2B1C6",
             "gridcolor": "#506784",
             "linecolor": "#506784",
             "minorgridcolor": "#506784",
             "startlinecolor": "#A2B1C6"
            },
            "baxis": {
             "endlinecolor": "#A2B1C6",
             "gridcolor": "#506784",
             "linecolor": "#506784",
             "minorgridcolor": "#506784",
             "startlinecolor": "#A2B1C6"
            },
            "type": "carpet"
           }
          ],
          "choropleth": [
           {
            "colorbar": {
             "outlinewidth": 0,
             "ticks": ""
            },
            "type": "choropleth"
           }
          ],
          "contour": [
           {
            "colorbar": {
             "outlinewidth": 0,
             "ticks": ""
            },
            "colorscale": [
             [
              0,
              "#0d0887"
             ],
             [
              0.1111111111111111,
              "#46039f"
             ],
             [
              0.2222222222222222,
              "#7201a8"
             ],
             [
              0.3333333333333333,
              "#9c179e"
             ],
             [
              0.4444444444444444,
              "#bd3786"
             ],
             [
              0.5555555555555556,
              "#d8576b"
             ],
             [
              0.6666666666666666,
              "#ed7953"
             ],
             [
              0.7777777777777778,
              "#fb9f3a"
             ],
             [
              0.8888888888888888,
              "#fdca26"
             ],
             [
              1,
              "#f0f921"
             ]
            ],
            "type": "contour"
           }
          ],
          "contourcarpet": [
           {
            "colorbar": {
             "outlinewidth": 0,
             "ticks": ""
            },
            "type": "contourcarpet"
           }
          ],
          "heatmap": [
           {
            "colorbar": {
             "outlinewidth": 0,
             "ticks": ""
            },
            "colorscale": [
             [
              0,
              "#0d0887"
             ],
             [
              0.1111111111111111,
              "#46039f"
             ],
             [
              0.2222222222222222,
              "#7201a8"
             ],
             [
              0.3333333333333333,
              "#9c179e"
             ],
             [
              0.4444444444444444,
              "#bd3786"
             ],
             [
              0.5555555555555556,
              "#d8576b"
             ],
             [
              0.6666666666666666,
              "#ed7953"
             ],
             [
              0.7777777777777778,
              "#fb9f3a"
             ],
             [
              0.8888888888888888,
              "#fdca26"
             ],
             [
              1,
              "#f0f921"
             ]
            ],
            "type": "heatmap"
           }
          ],
          "heatmapgl": [
           {
            "colorbar": {
             "outlinewidth": 0,
             "ticks": ""
            },
            "colorscale": [
             [
              0,
              "#0d0887"
             ],
             [
              0.1111111111111111,
              "#46039f"
             ],
             [
              0.2222222222222222,
              "#7201a8"
             ],
             [
              0.3333333333333333,
              "#9c179e"
             ],
             [
              0.4444444444444444,
              "#bd3786"
             ],
             [
              0.5555555555555556,
              "#d8576b"
             ],
             [
              0.6666666666666666,
              "#ed7953"
             ],
             [
              0.7777777777777778,
              "#fb9f3a"
             ],
             [
              0.8888888888888888,
              "#fdca26"
             ],
             [
              1,
              "#f0f921"
             ]
            ],
            "type": "heatmapgl"
           }
          ],
          "histogram": [
           {
            "marker": {
             "pattern": {
              "fillmode": "overlay",
              "size": 10,
              "solidity": 0.2
             }
            },
            "type": "histogram"
           }
          ],
          "histogram2d": [
           {
            "colorbar": {
             "outlinewidth": 0,
             "ticks": ""
            },
            "colorscale": [
             [
              0,
              "#0d0887"
             ],
             [
              0.1111111111111111,
              "#46039f"
             ],
             [
              0.2222222222222222,
              "#7201a8"
             ],
             [
              0.3333333333333333,
              "#9c179e"
             ],
             [
              0.4444444444444444,
              "#bd3786"
             ],
             [
              0.5555555555555556,
              "#d8576b"
             ],
             [
              0.6666666666666666,
              "#ed7953"
             ],
             [
              0.7777777777777778,
              "#fb9f3a"
             ],
             [
              0.8888888888888888,
              "#fdca26"
             ],
             [
              1,
              "#f0f921"
             ]
            ],
            "type": "histogram2d"
           }
          ],
          "histogram2dcontour": [
           {
            "colorbar": {
             "outlinewidth": 0,
             "ticks": ""
            },
            "colorscale": [
             [
              0,
              "#0d0887"
             ],
             [
              0.1111111111111111,
              "#46039f"
             ],
             [
              0.2222222222222222,
              "#7201a8"
             ],
             [
              0.3333333333333333,
              "#9c179e"
             ],
             [
              0.4444444444444444,
              "#bd3786"
             ],
             [
              0.5555555555555556,
              "#d8576b"
             ],
             [
              0.6666666666666666,
              "#ed7953"
             ],
             [
              0.7777777777777778,
              "#fb9f3a"
             ],
             [
              0.8888888888888888,
              "#fdca26"
             ],
             [
              1,
              "#f0f921"
             ]
            ],
            "type": "histogram2dcontour"
           }
          ],
          "mesh3d": [
           {
            "colorbar": {
             "outlinewidth": 0,
             "ticks": ""
            },
            "type": "mesh3d"
           }
          ],
          "parcoords": [
           {
            "line": {
             "colorbar": {
              "outlinewidth": 0,
              "ticks": ""
             }
            },
            "type": "parcoords"
           }
          ],
          "pie": [
           {
            "automargin": true,
            "type": "pie"
           }
          ],
          "scatter": [
           {
            "line": {
             "width": 3
            },
            "marker": {
             "line": {
              "color": "#283442"
             },
             "size": 9
            },
            "type": "scatter"
           }
          ],
          "scatter3d": [
           {
            "line": {
             "colorbar": {
              "outlinewidth": 0,
              "ticks": ""
             },
             "width": 3
            },
            "marker": {
             "colorbar": {
              "outlinewidth": 0,
              "ticks": ""
             },
             "size": 9
            },
            "type": "scatter3d"
           }
          ],
          "scattercarpet": [
           {
            "marker": {
             "colorbar": {
              "outlinewidth": 0,
              "ticks": ""
             }
            },
            "type": "scattercarpet"
           }
          ],
          "scattergeo": [
           {
            "line": {
             "width": 3
            },
            "marker": {
             "colorbar": {
              "outlinewidth": 0,
              "ticks": ""
             },
             "size": 9
            },
            "type": "scattergeo"
           }
          ],
          "scattergl": [
           {
            "line": {
             "width": 3
            },
            "marker": {
             "line": {
              "color": "#283442"
             },
             "size": 9
            },
            "type": "scattergl"
           }
          ],
          "scattermapbox": [
           {
            "marker": {
             "colorbar": {
              "outlinewidth": 0,
              "ticks": ""
             }
            },
            "type": "scattermapbox"
           }
          ],
          "scatterpolar": [
           {
            "line": {
             "width": 3
            },
            "marker": {
             "colorbar": {
              "outlinewidth": 0,
              "ticks": ""
             },
             "size": 9
            },
            "type": "scatterpolar"
           }
          ],
          "scatterpolargl": [
           {
            "line": {
             "width": 3
            },
            "marker": {
             "colorbar": {
              "outlinewidth": 0,
              "ticks": ""
             },
             "size": 9
            },
            "type": "scatterpolargl"
           }
          ],
          "scatterternary": [
           {
            "line": {
             "width": 3
            },
            "marker": {
             "colorbar": {
              "outlinewidth": 0,
              "ticks": ""
             },
             "size": 9
            },
            "type": "scatterternary"
           }
          ],
          "surface": [
           {
            "colorbar": {
             "outlinewidth": 0,
             "ticks": ""
            },
            "colorscale": [
             [
              0,
              "#0d0887"
             ],
             [
              0.1111111111111111,
              "#46039f"
             ],
             [
              0.2222222222222222,
              "#7201a8"
             ],
             [
              0.3333333333333333,
              "#9c179e"
             ],
             [
              0.4444444444444444,
              "#bd3786"
             ],
             [
              0.5555555555555556,
              "#d8576b"
             ],
             [
              0.6666666666666666,
              "#ed7953"
             ],
             [
              0.7777777777777778,
              "#fb9f3a"
             ],
             [
              0.8888888888888888,
              "#fdca26"
             ],
             [
              1,
              "#f0f921"
             ]
            ],
            "type": "surface"
           }
          ],
          "table": [
           {
            "cells": {
             "fill": {
              "color": "#506784"
             },
             "height": 30,
             "line": {
              "color": "rgb(17,17,17)"
             }
            },
            "header": {
             "fill": {
              "color": "#2a3f5f"
             },
             "height": 36,
             "line": {
              "color": "rgb(17,17,17)"
             }
            },
            "type": "table"
           }
          ]
         },
         "layout": {
          "annotationdefaults": {
           "arrowcolor": "#f2f5fa",
           "arrowhead": 0,
           "arrowwidth": 1
          },
          "autotypenumbers": "strict",
          "coloraxis": {
           "colorbar": {
            "outlinewidth": 0,
            "ticks": ""
           }
          },
          "colorscale": {
           "diverging": [
            [
             0,
             "#8e0152"
            ],
            [
             0.1,
             "#c51b7d"
            ],
            [
             0.2,
             "#de77ae"
            ],
            [
             0.3,
             "#f1b6da"
            ],
            [
             0.4,
             "#fde0ef"
            ],
            [
             0.5,
             "#f7f7f7"
            ],
            [
             0.6,
             "#e6f5d0"
            ],
            [
             0.7,
             "#b8e186"
            ],
            [
             0.8,
             "#7fbc41"
            ],
            [
             0.9,
             "#4d9221"
            ],
            [
             1,
             "#276419"
            ]
           ],
           "sequential": [
            [
             0,
             "#0d0887"
            ],
            [
             0.1111111111111111,
             "#46039f"
            ],
            [
             0.2222222222222222,
             "#7201a8"
            ],
            [
             0.3333333333333333,
             "#9c179e"
            ],
            [
             0.4444444444444444,
             "#bd3786"
            ],
            [
             0.5555555555555556,
             "#d8576b"
            ],
            [
             0.6666666666666666,
             "#ed7953"
            ],
            [
             0.7777777777777778,
             "#fb9f3a"
            ],
            [
             0.8888888888888888,
             "#fdca26"
            ],
            [
             1,
             "#f0f921"
            ]
           ],
           "sequentialminus": [
            [
             0,
             "#0d0887"
            ],
            [
             0.1111111111111111,
             "#46039f"
            ],
            [
             0.2222222222222222,
             "#7201a8"
            ],
            [
             0.3333333333333333,
             "#9c179e"
            ],
            [
             0.4444444444444444,
             "#bd3786"
            ],
            [
             0.5555555555555556,
             "#d8576b"
            ],
            [
             0.6666666666666666,
             "#ed7953"
            ],
            [
             0.7777777777777778,
             "#fb9f3a"
            ],
            [
             0.8888888888888888,
             "#fdca26"
            ],
            [
             1,
             "#f0f921"
            ]
           ]
          },
          "colorway": [
           "#636efa",
           "#EF553B",
           "#00cc96",
           "#ab63fa",
           "#FFA15A",
           "#19d3f3",
           "#FF6692",
           "#B6E880",
           "#FF97FF",
           "#FECB52"
          ],
          "font": {
           "color": "#f2f5fa",
           "size": 18
          },
          "geo": {
           "bgcolor": "rgb(17,17,17)",
           "lakecolor": "rgb(17,17,17)",
           "landcolor": "rgb(17,17,17)",
           "showlakes": true,
           "showland": true,
           "subunitcolor": "#506784"
          },
          "hoverlabel": {
           "align": "left"
          },
          "hovermode": "closest",
          "mapbox": {
           "style": "dark"
          },
          "paper_bgcolor": "rgb(17,17,17)",
          "plot_bgcolor": "rgb(17,17,17)",
          "polar": {
           "angularaxis": {
            "gridcolor": "#506784",
            "linecolor": "#506784",
            "ticks": ""
           },
           "bgcolor": "rgb(17,17,17)",
           "radialaxis": {
            "gridcolor": "#506784",
            "linecolor": "#506784",
            "ticks": ""
           }
          },
          "scene": {
           "xaxis": {
            "backgroundcolor": "rgb(17,17,17)",
            "gridcolor": "#506784",
            "gridwidth": 2,
            "linecolor": "#506784",
            "showbackground": true,
            "ticks": "",
            "zerolinecolor": "#C8D4E3"
           },
           "yaxis": {
            "backgroundcolor": "rgb(17,17,17)",
            "gridcolor": "#506784",
            "gridwidth": 2,
            "linecolor": "#506784",
            "showbackground": true,
            "ticks": "",
            "zerolinecolor": "#C8D4E3"
           },
           "zaxis": {
            "backgroundcolor": "rgb(17,17,17)",
            "gridcolor": "#506784",
            "gridwidth": 2,
            "linecolor": "#506784",
            "showbackground": true,
            "ticks": "",
            "zerolinecolor": "#C8D4E3"
           }
          },
          "shapedefaults": {
           "line": {
            "color": "#f2f5fa"
           }
          },
          "sliderdefaults": {
           "bgcolor": "#C8D4E3",
           "bordercolor": "rgb(17,17,17)",
           "borderwidth": 1,
           "tickwidth": 0
          },
          "ternary": {
           "aaxis": {
            "gridcolor": "#506784",
            "linecolor": "#506784",
            "ticks": ""
           },
           "baxis": {
            "gridcolor": "#506784",
            "linecolor": "#506784",
            "ticks": ""
           },
           "bgcolor": "rgb(17,17,17)",
           "caxis": {
            "gridcolor": "#506784",
            "linecolor": "#506784",
            "ticks": ""
           }
          },
          "title": {
           "x": 0.05
          },
          "updatemenudefaults": {
           "bgcolor": "#506784",
           "borderwidth": 0
          },
          "xaxis": {
           "automargin": true,
           "gridcolor": "#283442",
           "linecolor": "#506784",
           "ticks": "",
           "title": {
            "standoff": 15
           },
           "zerolinecolor": "#283442",
           "zerolinewidth": 2
          },
          "yaxis": {
           "automargin": true,
           "gridcolor": "#283442",
           "linecolor": "#506784",
           "ticks": "",
           "title": {
            "standoff": 15
           },
           "zerolinecolor": "#283442",
           "zerolinewidth": 2
          }
         }
        },
        "title": {
         "text": "IOUs rolling window: 365D"
        },
        "xaxis": {
         "anchor": "y",
         "autorange": true,
         "domain": [
          0,
          1
         ],
         "range": [
          "2016-08-25 15:37:49.7235",
          "2022-10-07 08:22:10.2765"
         ],
         "title": {
          "text": "publication_date"
         },
         "type": "date"
        },
        "yaxis": {
         "anchor": "x",
         "autorange": true,
         "domain": [
          0,
          1
         ],
         "range": [
          -0.09701492537313433,
          1.0970149253731343
         ],
         "title": {
          "text": "rolling_jaccard"
         },
         "type": "linear"
        }
       }
      },
      "image/png": "[encoded data removed]",
      "text/html": [
       "<div>                            <div id=\"49b63374-1b74-481a-94f4-7ffa6158485a\" class=\"plotly-graph-div\" style=\"height:525px; width:100%;\"></div>            <script type=\"text/javascript\">                require([\"plotly\"], function(Plotly) {                    window.PLOTLYENV=window.PLOTLYENV || {};                                    if (document.getElementById(\"49b63374-1b74-481a-94f4-7ffa6158485a\")) {                    Plotly.newPlot(                        \"49b63374-1b74-481a-94f4-7ffa6158485a\",                        [{\"hovertemplate\":\"author_name=Carlo Ratti<br>publication_date=%{x}<br>rolling_jaccard=%{y}<extra></extra>\",\"legendgroup\":\"Carlo Ratti\",\"line\":{\"color\":\"#636efa\",\"dash\":\"solid\"},\"marker\":{\"symbol\":\"circle\"},\"mode\":\"lines+markers\",\"name\":\"Carlo Ratti\",\"orientation\":\"v\",\"showlegend\":true,\"x\":[\"2017-01-01T00:00:00\",\"2017-01-01T00:00:00\",\"2017-01-01T00:00:00\",\"2017-01-01T00:00:00\",\"2017-01-01T00:00:00\",\"2017-01-08T00:00:00\",\"2017-02-01T00:00:00\",\"2017-02-01T00:00:00\",\"2017-02-02T00:00:00\",\"2017-03-01T00:00:00\",\"2017-03-01T00:00:00\",\"2017-03-06T00:00:00\",\"2017-04-01T00:00:00\",\"2017-04-01T00:00:00\",\"2017-04-10T00:00:00\",\"2017-04-25T00:00:00\",\"2017-04-26T00:00:00\",\"2017-05-01T00:00:00\",\"2017-06-01T00:00:00\",\"2017-06-20T00:00:00\",\"2017-06-22T00:00:00\",\"2017-07-01T00:00:00\",\"2017-07-02T00:00:00\",\"2017-07-27T00:00:00\",\"2017-09-01T00:00:00\",\"2017-09-18T00:00:00\",\"2017-09-18T00:00:00\",\"2017-10-20T00:00:00\",\"2017-11-30T00:00:00\",\"2017-12-01T00:00:00\",\"2017-12-06T00:00:00\",\"2017-12-14T00:00:00\",\"2017-12-31T00:00:00\",\"2018-01-01T00:00:00\",\"2018-01-01T00:00:00\",\"2018-01-01T00:00:00\",\"2018-02-01T00:00:00\",\"2018-03-01T00:00:00\",\"2018-03-27T00:00:00\",\"2018-04-01T00:00:00\",\"2018-04-01T00:00:00\",\"2018-05-21T00:00:00\",\"2018-05-21T00:00:00\",\"2018-06-01T00:00:00\",\"2018-06-11T00:00:00\",\"2018-06-26T00:00:00\",\"2018-07-01T00:00:00\",\"2018-07-27T00:00:00\",\"2018-08-01T00:00:00\",\"2018-08-05T00:00:00\",\"2018-08-14T00:00:00\",\"2018-08-17T00:00:00\",\"2018-08-17T00:00:00\",\"2018-09-24T00:00:00\",\"2018-10-01T00:00:00\",\"2018-10-08T00:00:00\",\"2018-11-01T00:00:00\",\"2018-11-01T00:00:00\",\"2018-11-07T00:00:00\",\"2018-12-01T00:00:00\",\"2018-12-01T00:00:00\",\"2018-12-01T00:00:00\",\"2018-12-03T00:00:00\",\"2019-01-01T00:00:00\",\"2019-01-01T00:00:00\",\"2019-01-01T00:00:00\",\"2019-01-01T00:00:00\",\"2019-01-01T00:00:00\",\"2019-01-01T00:00:00\",\"2019-01-01T00:00:00\",\"2019-01-24T00:00:00\",\"2019-02-20T00:00:00\",\"2019-02-28T00:00:00\",\"2019-03-01T00:00:00\",\"2019-03-01T00:00:00\",\"2019-03-05T00:00:00\",\"2019-03-06T00:00:00\",\"2019-03-14T00:00:00\",\"2019-04-15T00:00:00\",\"2019-05-01T00:00:00\",\"2019-05-14T00:00:00\",\"2019-05-20T00:00:00\",\"2019-06-11T00:00:00\",\"2019-06-12T00:00:00\",\"2019-06-19T00:00:00\",\"2019-07-27T00:00:00\",\"2019-07-30T00:00:00\",\"2019-08-01T00:00:00\",\"2019-08-01T00:00:00\",\"2019-08-01T00:00:00\",\"2019-08-01T00:00:00\",\"2019-08-01T00:00:00\",\"2019-08-28T00:00:00\",\"2019-09-01T00:00:00\",\"2019-09-03T00:00:00\",\"2019-09-15T00:00:00\",\"2019-10-01T00:00:00\",\"2019-10-10T00:00:00\",\"2019-10-25T00:00:00\",\"2019-10-25T00:00:00\",\"2019-10-29T00:00:00\",\"2019-10-29T00:00:00\",\"2019-11-01T00:00:00\",\"2019-11-01T00:00:00\",\"2019-11-01T00:00:00\",\"2019-11-04T00:00:00\",\"2019-11-11T00:00:00\",\"2019-11-29T00:00:00\",\"2019-11-29T00:00:00\",\"2019-12-03T00:00:00\",\"2019-12-13T00:00:00\",\"2019-12-16T00:00:00\",\"2019-12-24T00:00:00\",\"2020-01-01T00:00:00\",\"2020-01-01T00:00:00\",\"2020-01-01T00:00:00\",\"2020-02-17T00:00:00\",\"2020-03-05T00:00:00\",\"2020-03-05T00:00:00\",\"2020-03-27T00:00:00\",\"2020-04-01T00:00:00\",\"2020-05-01T00:00:00\",\"2020-05-01T00:00:00\",\"2020-05-07T00:00:00\",\"2020-05-18T00:00:00\",\"2020-06-01T00:00:00\",\"2020-06-01T00:00:00\",\"2020-06-29T00:00:00\",\"2020-07-01T00:00:00\",\"2020-07-16T00:00:00\",\"2020-07-20T00:00:00\",\"2020-07-21T00:00:00\",\"2020-08-01T00:00:00\",\"2020-08-21T00:00:00\",\"2020-09-21T00:00:00\",\"2020-09-29T00:00:00\",\"2020-10-01T00:00:00\",\"2020-10-06T00:00:00\",\"2020-10-08T00:00:00\",\"2020-10-09T00:00:00\",\"2020-10-24T00:00:00\",\"2020-10-24T00:00:00\",\"2020-10-24T00:00:00\",\"2020-10-24T00:00:00\",\"2020-10-31T00:00:00\",\"2020-11-01T00:00:00\",\"2020-12-01T00:00:00\",\"2020-12-01T00:00:00\",\"2020-12-01T00:00:00\",\"2020-12-14T00:00:00\",\"2020-12-15T00:00:00\",\"2021-01-01T00:00:00\",\"2021-01-01T00:00:00\",\"2021-01-01T00:00:00\",\"2021-01-11T00:00:00\",\"2021-01-15T00:00:00\",\"2021-01-28T00:00:00\",\"2021-02-01T00:00:00\",\"2021-02-01T00:00:00\",\"2021-02-12T00:00:00\",\"2021-02-12T00:00:00\",\"2021-03-01T00:00:00\",\"2021-03-01T00:00:00\",\"2021-03-01T00:00:00\",\"2021-03-02T00:00:00\",\"2021-03-03T00:00:00\",\"2021-03-09T00:00:00\",\"2021-03-12T00:00:00\",\"2021-03-15T00:00:00\",\"2021-03-16T00:00:00\",\"2021-03-16T00:00:00\",\"2021-03-19T00:00:00\",\"2021-03-30T00:00:00\",\"2021-04-01T00:00:00\",\"2021-04-03T00:00:00\",\"2021-04-03T00:00:00\",\"2021-04-22T00:00:00\",\"2021-04-23T00:00:00\",\"2021-04-29T00:00:00\",\"2021-05-27T00:00:00\",\"2021-05-29T00:00:00\",\"2021-05-30T00:00:00\",\"2021-05-30T00:00:00\",\"2021-05-30T00:00:00\",\"2021-06-01T00:00:00\",\"2021-06-01T00:00:00\",\"2021-07-01T00:00:00\",\"2021-07-01T00:00:00\",\"2021-07-13T00:00:00\",\"2021-07-28T00:00:00\",\"2021-08-01T00:00:00\",\"2021-08-31T00:00:00\",\"2021-09-01T00:00:00\",\"2021-10-02T00:00:00\",\"2021-10-08T00:00:00\",\"2021-10-11T00:00:00\",\"2021-10-28T00:00:00\",\"2021-11-01T00:00:00\",\"2021-11-01T00:00:00\",\"2021-12-01T00:00:00\",\"2021-12-01T00:00:00\",\"2021-12-07T00:00:00\",\"2022-01-01T00:00:00\",\"2022-01-01T00:00:00\",\"2022-01-25T00:00:00\"],\"xaxis\":\"x\",\"y\":[1.0,0.0,0.0,0.0,0.0,0.0,0.0,0.0,0.0,0.0,0.0,0.0,0.0,0.0,0.0,0.0,0.0,0.0,0.0,0.0,0.0,0.0,0.0,0.0,0.0,0.0,0.0,0.0,0.0,0.0,0.0,0.0,0.0,0.0,0.0,0.0,0.0,0.0,0.0,0.0,0.0,0.0,0.0,0.0,0.0,0.0,0.0,0.0,0.0,0.0,0.0,0.0,0.0,0.0,0.0,0.0,0.0,0.0,0.0,0.0,0.0,0.0,0.0,0.0,0.0,0.0,0.0,0.0,0.0,0.0,0.0,0.0,0.0,0.0,0.0,0.0,0.0,0.0,0.0,0.0,0.0,0.0,0.0,0.0,0.0,0.0,0.0,0.0,0.0,0.0,0.0,0.0,0.0,0.0,0.0,0.0,0.0,0.0,0.0,0.0,0.0,0.0,0.0,0.0,0.0,0.0,0.0,0.0,0.0,0.0,0.0,0.0,0.0,0.0,0.0,0.0,0.0,0.0,0.0,0.0,0.0,0.0,0.0,0.0,0.0,0.0,0.0,0.0,0.0,0.0,0.0,0.0,0.0,0.0,0.0,0.0,0.0,0.0,0.0,0.0,0.0,0.0,0.0,0.0,0.0,0.0,0.0,0.0,0.0,0.0,0.0,0.0,0.0,0.0,0.0,0.0,0.0,0.0,0.0,0.0,0.0,0.0,0.0,0.0,0.0,0.0,0.0,0.0,0.0,0.0,0.0,0.0,0.0,0.0,0.0,0.0,0.0,0.0,0.0,0.0,0.0,0.0,0.0,0.0,0.0,0.0,0.0,0.0,0.0,0.0,0.0,0.0,0.0,0.0,0.0,0.0,0.0,0.0,0.0,0.0,0.0,0.0,0.0,0.0,0.0],\"yaxis\":\"y\",\"type\":\"scatter\"},{\"hovertemplate\":\"author_name=Paolo Santi<br>publication_date=%{x}<br>rolling_jaccard=%{y}<extra></extra>\",\"legendgroup\":\"Paolo Santi\",\"line\":{\"color\":\"#EF553B\",\"dash\":\"solid\"},\"marker\":{\"symbol\":\"circle\"},\"mode\":\"lines+markers\",\"name\":\"Paolo Santi\",\"orientation\":\"v\",\"showlegend\":true,\"x\":[\"2017-01-01T00:00:00\",\"2017-01-01T00:00:00\",\"2017-01-01T00:00:00\",\"2017-01-03T00:00:00\",\"2017-03-06T00:00:00\",\"2017-06-19T00:00:00\",\"2017-06-22T00:00:00\",\"2017-07-27T00:00:00\",\"2017-10-09T00:00:00\",\"2017-10-20T00:00:00\",\"2018-03-27T00:00:00\",\"2018-04-01T00:00:00\",\"2018-05-23T00:00:00\",\"2018-08-01T00:00:00\",\"2018-08-17T00:00:00\",\"2018-08-17T00:00:00\",\"2019-01-01T00:00:00\",\"2019-01-24T00:00:00\",\"2019-02-01T00:00:00\",\"2019-03-01T00:00:00\",\"2019-06-11T00:00:00\",\"2019-07-27T00:00:00\",\"2019-08-01T00:00:00\",\"2019-09-15T00:00:00\",\"2019-09-26T00:00:00\",\"2019-10-01T00:00:00\",\"2019-10-25T00:00:00\",\"2019-11-01T00:00:00\",\"2019-11-29T00:00:00\",\"2020-01-01T00:00:00\",\"2020-02-17T00:00:00\",\"2020-05-01T00:00:00\",\"2020-05-27T00:00:00\",\"2020-06-01T00:00:00\",\"2020-06-03T00:00:00\",\"2020-07-26T00:00:00\",\"2020-08-21T00:00:00\",\"2020-09-21T00:00:00\",\"2020-10-01T00:00:00\",\"2020-10-06T00:00:00\",\"2020-10-08T00:00:00\",\"2020-12-01T00:00:00\",\"2021-01-01T00:00:00\",\"2021-01-01T00:00:00\",\"2021-01-01T00:00:00\",\"2021-01-15T00:00:00\",\"2021-01-28T00:00:00\",\"2021-02-01T00:00:00\",\"2021-03-01T00:00:00\",\"2021-03-02T00:00:00\",\"2021-03-09T00:00:00\",\"2021-03-12T00:00:00\",\"2021-03-15T00:00:00\",\"2021-03-16T00:00:00\",\"2021-03-16T00:00:00\",\"2021-03-19T00:00:00\",\"2021-03-30T00:00:00\",\"2021-04-03T00:00:00\",\"2021-04-03T00:00:00\",\"2021-04-03T00:00:00\",\"2021-05-27T00:00:00\",\"2021-07-08T00:00:00\",\"2021-07-28T00:00:00\",\"2021-08-01T00:00:00\",\"2021-09-01T00:00:00\",\"2021-09-01T00:00:00\",\"2021-10-28T00:00:00\",\"2021-11-01T00:00:00\",\"2022-01-01T00:00:00\",\"2022-01-01T00:00:00\",\"2022-05-17T00:00:00\",\"2022-06-01T00:00:00\"],\"xaxis\":\"x\",\"y\":[0.06666666666666667,0.1111111111111111,1.0,0.0,0.0,0.0,0.0,0.0,0.0,0.0,0.0,0.0,0.0,0.0,0.0,0.0,0.0,0.0,0.0,0.0,0.0,0.0,0.0,0.0,0.0,0.0,0.0,0.0,0.0,0.0,0.0,0.0,0.0,0.0,0.0,0.0,0.0,0.0,0.0,0.0,0.0,0.0,0.0,0.0,0.0,0.0,0.0,0.0,0.0,0.0,0.0,0.0,0.0,0.0,0.0,0.0,0.0,0.0,0.0,0.0,0.0,0.0,0.0,0.0,0.0,0.0,0.0,0.0,0.0,0.0,0.0,0.0],\"yaxis\":\"y\",\"type\":\"scatter\"},{\"hovertemplate\":\"author_name=Tim Weninger<br>publication_date=%{x}<br>rolling_jaccard=%{y}<extra></extra>\",\"legendgroup\":\"Tim Weninger\",\"line\":{\"color\":\"#00cc96\",\"dash\":\"solid\"},\"marker\":{\"symbol\":\"circle\"},\"mode\":\"lines+markers\",\"name\":\"Tim Weninger\",\"orientation\":\"v\",\"showlegend\":true,\"x\":[\"2017-02-04T00:00:00\",\"2017-03-01T00:00:00\",\"2017-03-15T00:00:00\",\"2017-06-28T00:00:00\",\"2017-07-01T00:00:00\",\"2017-07-24T00:00:00\",\"2017-07-31T00:00:00\",\"2017-09-06T00:00:00\",\"2017-11-09T00:00:00\",\"2018-02-01T00:00:00\",\"2018-02-02T00:00:00\",\"2018-02-21T00:00:00\",\"2018-02-23T00:00:00\",\"2018-03-01T00:00:00\",\"2018-03-01T00:00:00\",\"2018-04-23T00:00:00\",\"2018-04-25T00:00:00\",\"2018-05-30T00:00:00\",\"2018-06-11T00:00:00\",\"2018-06-25T00:00:00\",\"2018-07-01T00:00:00\",\"2018-07-14T00:00:00\",\"2018-08-28T00:00:00\",\"2018-09-03T00:00:00\",\"2018-11-01T00:00:00\",\"2018-11-21T00:00:00\",\"2018-12-09T00:00:00\",\"2019-01-01T00:00:00\",\"2019-03-01T00:00:00\",\"2019-06-26T00:00:00\",\"2019-07-01T00:00:00\",\"2019-07-10T00:00:00\",\"2019-08-11T00:00:00\",\"2019-08-15T00:00:00\",\"2019-08-27T00:00:00\",\"2019-10-18T00:00:00\",\"2019-10-18T00:00:00\",\"2019-10-23T00:00:00\",\"2019-11-01T00:00:00\",\"2019-12-01T00:00:00\",\"2019-12-01T00:00:00\",\"2019-12-01T00:00:00\",\"2019-12-01T00:00:00\",\"2019-12-01T00:00:00\",\"2020-01-01T00:00:00\",\"2020-01-17T00:00:00\",\"2020-02-19T00:00:00\",\"2020-02-28T00:00:00\",\"2020-09-14T00:00:00\",\"2020-09-18T00:00:00\",\"2020-09-25T00:00:00\",\"2020-11-01T00:00:00\",\"2021-01-05T00:00:00\",\"2021-01-19T00:00:00\",\"2021-01-21T00:00:00\",\"2021-02-08T00:00:00\",\"2021-03-08T00:00:00\",\"2021-03-12T00:00:00\",\"2021-05-01T00:00:00\",\"2021-05-11T00:00:00\",\"2021-05-18T00:00:00\",\"2021-06-02T00:00:00\",\"2021-06-02T00:00:00\",\"2021-07-09T00:00:00\",\"2022-01-01T00:00:00\",\"2022-01-11T00:00:00\",\"2022-02-11T00:00:00\"],\"xaxis\":\"x\",\"y\":[1.0,0.5,0.0,0.0,0.0,0.0,0.0,0.0,0.0,0.0,0.0,0.0,0.0,0.0,0.0,0.0,0.0,0.0,0.0,0.0,0.0,0.0,0.0,0.0,0.0,0.0,0.0,0.0,0.0,0.0,0.0,0.0,0.0,0.0,0.0,0.0,0.0,0.0,0.0,0.0,0.0,0.0,0.0,0.0,0.0,0.0,0.0,0.0,0.0,0.0,0.0,0.0,0.0,0.0,0.0,0.0,0.0,0.0,0.0,0.0,0.0,0.0,0.0,0.0,0.0,0.0,0.0],\"yaxis\":\"y\",\"type\":\"scatter\"},{\"hovertemplate\":\"author_name=Santo Fortunato<br>publication_date=%{x}<br>rolling_jaccard=%{y}<extra></extra>\",\"legendgroup\":\"Santo Fortunato\",\"line\":{\"color\":\"#ab63fa\",\"dash\":\"solid\"},\"marker\":{\"symbol\":\"circle\"},\"mode\":\"lines+markers\",\"name\":\"Santo Fortunato\",\"orientation\":\"v\",\"showlegend\":true,\"x\":[\"2017-04-01T00:00:00\",\"2017-07-01T00:00:00\",\"2017-10-06T00:00:00\",\"2018-02-15T00:00:00\",\"2018-02-19T00:00:00\",\"2018-03-02T00:00:00\",\"2018-04-01T00:00:00\",\"2018-06-10T00:00:00\",\"2018-07-17T00:00:00\",\"2018-08-01T00:00:00\",\"2018-09-01T00:00:00\",\"2018-10-08T00:00:00\",\"2018-11-01T00:00:00\",\"2019-01-01T00:00:00\",\"2019-04-01T00:00:00\",\"2019-04-18T00:00:00\",\"2019-05-01T00:00:00\",\"2019-05-01T00:00:00\",\"2019-09-01T00:00:00\",\"2019-11-27T00:00:00\",\"2020-02-25T00:00:00\",\"2020-03-27T00:00:00\",\"2020-04-29T00:00:00\",\"2020-09-04T00:00:00\",\"2020-10-23T00:00:00\",\"2020-11-16T00:00:00\",\"2021-02-22T00:00:00\",\"2021-09-01T00:00:00\",\"2022-05-13T00:00:00\"],\"xaxis\":\"x\",\"y\":[1.0,0.0,0.0,0.0,0.0,0.0,0.0,0.0,0.0,0.0,0.0,0.0,0.0,0.0,0.0,0.0,0.0,0.0,0.0,0.0,0.0,0.0,0.0,0.0,0.0,0.0,0.0,0.0,0.1],\"yaxis\":\"y\",\"type\":\"scatter\"}],                        {\"template\":{\"data\":{\"barpolar\":[{\"marker\":{\"line\":{\"color\":\"rgb(17,17,17)\",\"width\":0.5},\"pattern\":{\"fillmode\":\"overlay\",\"size\":10,\"solidity\":0.2}},\"type\":\"barpolar\"}],\"bar\":[{\"error_x\":{\"color\":\"#f2f5fa\"},\"error_y\":{\"color\":\"#f2f5fa\"},\"marker\":{\"line\":{\"color\":\"rgb(17,17,17)\",\"width\":0.5},\"pattern\":{\"fillmode\":\"overlay\",\"size\":10,\"solidity\":0.2}},\"type\":\"bar\"}],\"carpet\":[{\"aaxis\":{\"endlinecolor\":\"#A2B1C6\",\"gridcolor\":\"#506784\",\"linecolor\":\"#506784\",\"minorgridcolor\":\"#506784\",\"startlinecolor\":\"#A2B1C6\"},\"baxis\":{\"endlinecolor\":\"#A2B1C6\",\"gridcolor\":\"#506784\",\"linecolor\":\"#506784\",\"minorgridcolor\":\"#506784\",\"startlinecolor\":\"#A2B1C6\"},\"type\":\"carpet\"}],\"choropleth\":[{\"colorbar\":{\"outlinewidth\":0,\"ticks\":\"\"},\"type\":\"choropleth\"}],\"contourcarpet\":[{\"colorbar\":{\"outlinewidth\":0,\"ticks\":\"\"},\"type\":\"contourcarpet\"}],\"contour\":[{\"colorbar\":{\"outlinewidth\":0,\"ticks\":\"\"},\"colorscale\":[[0.0,\"#0d0887\"],[0.1111111111111111,\"#46039f\"],[0.2222222222222222,\"#7201a8\"],[0.3333333333333333,\"#9c179e\"],[0.4444444444444444,\"#bd3786\"],[0.5555555555555556,\"#d8576b\"],[0.6666666666666666,\"#ed7953\"],[0.7777777777777778,\"#fb9f3a\"],[0.8888888888888888,\"#fdca26\"],[1.0,\"#f0f921\"]],\"type\":\"contour\"}],\"heatmapgl\":[{\"colorbar\":{\"outlinewidth\":0,\"ticks\":\"\"},\"colorscale\":[[0.0,\"#0d0887\"],[0.1111111111111111,\"#46039f\"],[0.2222222222222222,\"#7201a8\"],[0.3333333333333333,\"#9c179e\"],[0.4444444444444444,\"#bd3786\"],[0.5555555555555556,\"#d8576b\"],[0.6666666666666666,\"#ed7953\"],[0.7777777777777778,\"#fb9f3a\"],[0.8888888888888888,\"#fdca26\"],[1.0,\"#f0f921\"]],\"type\":\"heatmapgl\"}],\"heatmap\":[{\"colorbar\":{\"outlinewidth\":0,\"ticks\":\"\"},\"colorscale\":[[0.0,\"#0d0887\"],[0.1111111111111111,\"#46039f\"],[0.2222222222222222,\"#7201a8\"],[0.3333333333333333,\"#9c179e\"],[0.4444444444444444,\"#bd3786\"],[0.5555555555555556,\"#d8576b\"],[0.6666666666666666,\"#ed7953\"],[0.7777777777777778,\"#fb9f3a\"],[0.8888888888888888,\"#fdca26\"],[1.0,\"#f0f921\"]],\"type\":\"heatmap\"}],\"histogram2dcontour\":[{\"colorbar\":{\"outlinewidth\":0,\"ticks\":\"\"},\"colorscale\":[[0.0,\"#0d0887\"],[0.1111111111111111,\"#46039f\"],[0.2222222222222222,\"#7201a8\"],[0.3333333333333333,\"#9c179e\"],[0.4444444444444444,\"#bd3786\"],[0.5555555555555556,\"#d8576b\"],[0.6666666666666666,\"#ed7953\"],[0.7777777777777778,\"#fb9f3a\"],[0.8888888888888888,\"#fdca26\"],[1.0,\"#f0f921\"]],\"type\":\"histogram2dcontour\"}],\"histogram2d\":[{\"colorbar\":{\"outlinewidth\":0,\"ticks\":\"\"},\"colorscale\":[[0.0,\"#0d0887\"],[0.1111111111111111,\"#46039f\"],[0.2222222222222222,\"#7201a8\"],[0.3333333333333333,\"#9c179e\"],[0.4444444444444444,\"#bd3786\"],[0.5555555555555556,\"#d8576b\"],[0.6666666666666666,\"#ed7953\"],[0.7777777777777778,\"#fb9f3a\"],[0.8888888888888888,\"#fdca26\"],[1.0,\"#f0f921\"]],\"type\":\"histogram2d\"}],\"histogram\":[{\"marker\":{\"pattern\":{\"fillmode\":\"overlay\",\"size\":10,\"solidity\":0.2}},\"type\":\"histogram\"}],\"mesh3d\":[{\"colorbar\":{\"outlinewidth\":0,\"ticks\":\"\"},\"type\":\"mesh3d\"}],\"parcoords\":[{\"line\":{\"colorbar\":{\"outlinewidth\":0,\"ticks\":\"\"}},\"type\":\"parcoords\"}],\"pie\":[{\"automargin\":true,\"type\":\"pie\"}],\"scatter3d\":[{\"line\":{\"colorbar\":{\"outlinewidth\":0,\"ticks\":\"\"},\"width\":3},\"marker\":{\"colorbar\":{\"outlinewidth\":0,\"ticks\":\"\"},\"size\":9},\"type\":\"scatter3d\"}],\"scattercarpet\":[{\"marker\":{\"colorbar\":{\"outlinewidth\":0,\"ticks\":\"\"}},\"type\":\"scattercarpet\"}],\"scattergeo\":[{\"marker\":{\"colorbar\":{\"outlinewidth\":0,\"ticks\":\"\"},\"size\":9},\"type\":\"scattergeo\",\"line\":{\"width\":3}}],\"scattergl\":[{\"marker\":{\"line\":{\"color\":\"#283442\"},\"size\":9},\"type\":\"scattergl\",\"line\":{\"width\":3}}],\"scattermapbox\":[{\"marker\":{\"colorbar\":{\"outlinewidth\":0,\"ticks\":\"\"}},\"type\":\"scattermapbox\"}],\"scatterpolargl\":[{\"marker\":{\"colorbar\":{\"outlinewidth\":0,\"ticks\":\"\"},\"size\":9},\"type\":\"scatterpolargl\",\"line\":{\"width\":3}}],\"scatterpolar\":[{\"marker\":{\"colorbar\":{\"outlinewidth\":0,\"ticks\":\"\"},\"size\":9},\"type\":\"scatterpolar\",\"line\":{\"width\":3}}],\"scatter\":[{\"marker\":{\"line\":{\"color\":\"#283442\"},\"size\":9},\"type\":\"scatter\",\"line\":{\"width\":3}}],\"scatterternary\":[{\"marker\":{\"colorbar\":{\"outlinewidth\":0,\"ticks\":\"\"},\"size\":9},\"type\":\"scatterternary\",\"line\":{\"width\":3}}],\"surface\":[{\"colorbar\":{\"outlinewidth\":0,\"ticks\":\"\"},\"colorscale\":[[0.0,\"#0d0887\"],[0.1111111111111111,\"#46039f\"],[0.2222222222222222,\"#7201a8\"],[0.3333333333333333,\"#9c179e\"],[0.4444444444444444,\"#bd3786\"],[0.5555555555555556,\"#d8576b\"],[0.6666666666666666,\"#ed7953\"],[0.7777777777777778,\"#fb9f3a\"],[0.8888888888888888,\"#fdca26\"],[1.0,\"#f0f921\"]],\"type\":\"surface\"}],\"table\":[{\"cells\":{\"fill\":{\"color\":\"#506784\"},\"line\":{\"color\":\"rgb(17,17,17)\"},\"height\":30},\"header\":{\"fill\":{\"color\":\"#2a3f5f\"},\"line\":{\"color\":\"rgb(17,17,17)\"},\"height\":36},\"type\":\"table\"}]},\"layout\":{\"annotationdefaults\":{\"arrowcolor\":\"#f2f5fa\",\"arrowhead\":0,\"arrowwidth\":1},\"autotypenumbers\":\"strict\",\"coloraxis\":{\"colorbar\":{\"outlinewidth\":0,\"ticks\":\"\"}},\"colorscale\":{\"diverging\":[[0,\"#8e0152\"],[0.1,\"#c51b7d\"],[0.2,\"#de77ae\"],[0.3,\"#f1b6da\"],[0.4,\"#fde0ef\"],[0.5,\"#f7f7f7\"],[0.6,\"#e6f5d0\"],[0.7,\"#b8e186\"],[0.8,\"#7fbc41\"],[0.9,\"#4d9221\"],[1,\"#276419\"]],\"sequential\":[[0.0,\"#0d0887\"],[0.1111111111111111,\"#46039f\"],[0.2222222222222222,\"#7201a8\"],[0.3333333333333333,\"#9c179e\"],[0.4444444444444444,\"#bd3786\"],[0.5555555555555556,\"#d8576b\"],[0.6666666666666666,\"#ed7953\"],[0.7777777777777778,\"#fb9f3a\"],[0.8888888888888888,\"#fdca26\"],[1.0,\"#f0f921\"]],\"sequentialminus\":[[0.0,\"#0d0887\"],[0.1111111111111111,\"#46039f\"],[0.2222222222222222,\"#7201a8\"],[0.3333333333333333,\"#9c179e\"],[0.4444444444444444,\"#bd3786\"],[0.5555555555555556,\"#d8576b\"],[0.6666666666666666,\"#ed7953\"],[0.7777777777777778,\"#fb9f3a\"],[0.8888888888888888,\"#fdca26\"],[1.0,\"#f0f921\"]]},\"colorway\":[\"#636efa\",\"#EF553B\",\"#00cc96\",\"#ab63fa\",\"#FFA15A\",\"#19d3f3\",\"#FF6692\",\"#B6E880\",\"#FF97FF\",\"#FECB52\"],\"font\":{\"color\":\"#f2f5fa\",\"size\":18},\"geo\":{\"bgcolor\":\"rgb(17,17,17)\",\"lakecolor\":\"rgb(17,17,17)\",\"landcolor\":\"rgb(17,17,17)\",\"showlakes\":true,\"showland\":true,\"subunitcolor\":\"#506784\"},\"hoverlabel\":{\"align\":\"left\"},\"hovermode\":\"closest\",\"mapbox\":{\"style\":\"dark\"},\"paper_bgcolor\":\"rgb(17,17,17)\",\"plot_bgcolor\":\"rgb(17,17,17)\",\"polar\":{\"angularaxis\":{\"gridcolor\":\"#506784\",\"linecolor\":\"#506784\",\"ticks\":\"\"},\"bgcolor\":\"rgb(17,17,17)\",\"radialaxis\":{\"gridcolor\":\"#506784\",\"linecolor\":\"#506784\",\"ticks\":\"\"}},\"scene\":{\"xaxis\":{\"backgroundcolor\":\"rgb(17,17,17)\",\"gridcolor\":\"#506784\",\"gridwidth\":2,\"linecolor\":\"#506784\",\"showbackground\":true,\"ticks\":\"\",\"zerolinecolor\":\"#C8D4E3\"},\"yaxis\":{\"backgroundcolor\":\"rgb(17,17,17)\",\"gridcolor\":\"#506784\",\"gridwidth\":2,\"linecolor\":\"#506784\",\"showbackground\":true,\"ticks\":\"\",\"zerolinecolor\":\"#C8D4E3\"},\"zaxis\":{\"backgroundcolor\":\"rgb(17,17,17)\",\"gridcolor\":\"#506784\",\"gridwidth\":2,\"linecolor\":\"#506784\",\"showbackground\":true,\"ticks\":\"\",\"zerolinecolor\":\"#C8D4E3\"}},\"shapedefaults\":{\"line\":{\"color\":\"#f2f5fa\"}},\"sliderdefaults\":{\"bgcolor\":\"#C8D4E3\",\"bordercolor\":\"rgb(17,17,17)\",\"borderwidth\":1,\"tickwidth\":0},\"ternary\":{\"aaxis\":{\"gridcolor\":\"#506784\",\"linecolor\":\"#506784\",\"ticks\":\"\"},\"baxis\":{\"gridcolor\":\"#506784\",\"linecolor\":\"#506784\",\"ticks\":\"\"},\"bgcolor\":\"rgb(17,17,17)\",\"caxis\":{\"gridcolor\":\"#506784\",\"linecolor\":\"#506784\",\"ticks\":\"\"}},\"title\":{\"x\":0.05},\"updatemenudefaults\":{\"bgcolor\":\"#506784\",\"borderwidth\":0},\"xaxis\":{\"automargin\":true,\"gridcolor\":\"#283442\",\"linecolor\":\"#506784\",\"ticks\":\"\",\"title\":{\"standoff\":15},\"zerolinecolor\":\"#283442\",\"zerolinewidth\":2},\"yaxis\":{\"automargin\":true,\"gridcolor\":\"#283442\",\"linecolor\":\"#506784\",\"ticks\":\"\",\"title\":{\"standoff\":15},\"zerolinecolor\":\"#283442\",\"zerolinewidth\":2}}},\"xaxis\":{\"anchor\":\"y\",\"domain\":[0.0,1.0],\"title\":{\"text\":\"publication_date\"}},\"yaxis\":{\"anchor\":\"x\",\"domain\":[0.0,1.0],\"title\":{\"text\":\"rolling_jaccard\"}},\"legend\":{\"title\":{\"text\":\"author_name\"},\"tracegroupgap\":0},\"title\":{\"text\":\"IOUs rolling window: 365D\"}},                        {\"responsive\": true}                    ).then(function(){\n",
       "                            \n",
       "var gd = document.getElementById('49b63374-1b74-481a-94f4-7ffa6158485a');\n",
       "var x = new MutationObserver(function (mutations, observer) {{\n",
       "        var display = window.getComputedStyle(gd).display;\n",
       "        if (!display || display === 'none') {{\n",
       "            console.log([gd, 'removed!']);\n",
       "            Plotly.purge(gd);\n",
       "            observer.disconnect();\n",
       "        }}\n",
       "}});\n",
       "\n",
       "// Listen for the removal of the full notebook cells\n",
       "var notebookContainer = gd.closest('#notebook-container');\n",
       "if (notebookContainer) {{\n",
       "    x.observe(notebookContainer, {childList: true});\n",
       "}}\n",
       "\n",
       "// Listen for the clearing of the current output cell\n",
       "var outputEl = gd.closest('.output');\n",
       "if (outputEl) {{\n",
       "    x.observe(outputEl, {childList: true});\n",
       "}}\n",
       "\n",
       "                        })                };                });            </script>        </div>"
      ]
     },
     "metadata": {},
     "output_type": "display_data"
    }
   ],
   "source": [
    "window = f'{combined_df.window_size.values[0]}' \n",
    "(\n",
    "    combined_df\n",
    "    .plot\n",
    "    .line(y='rolling_jaccard', color='author_name', markers=True, \n",
    "          title=f'IOUs rolling window: {window}')\n",
    ")"
   ]
  },
  {
   "cell_type": "code",
   "execution_count": null,
   "id": "f3edf363-cdd5-47ee-84f9-a24195c899ad",
   "metadata": {},
   "outputs": [],
   "source": []
  }
 ],
 "metadata": {
  "kernelspec": {
   "display_name": "sci-sci",
   "language": "python",
   "name": "sci-sci"
  },
  "language_info": {
   "codemirror_mode": {
    "name": "ipython",
    "version": 3
   },
   "file_extension": ".py",
   "mimetype": "text/x-python",
   "name": "python",
   "nbconvert_exporter": "python",
   "pygments_lexer": "ipython3",
   "version": "3.9.13"
  }
 },
 "nbformat": 4,
 "nbformat_minor": 5
}
